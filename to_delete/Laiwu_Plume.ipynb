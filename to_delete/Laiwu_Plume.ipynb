{
 "cells": [
  {
   "cell_type": "code",
   "execution_count": 1,
   "metadata": {
    "colab": {},
    "colab_type": "code",
    "id": "GWqRk6FKBmkA"
   },
   "outputs": [],
   "source": [
    "# !apt-get install libgeos-3.5.0\n",
    "# !apt-get install libgeos-dev\n",
    "# !pip install https://github.com/matplotlib/basemap/archive/master.zip"
   ]
  },
  {
   "cell_type": "code",
   "execution_count": 2,
   "metadata": {
    "colab": {},
    "colab_type": "code",
    "id": "qU2FXYM6elRb"
   },
   "outputs": [],
   "source": [
    "#from google.colab import drive\n",
    "#drive.mount('/content/drive')"
   ]
  },
  {
   "cell_type": "markdown",
   "metadata": {
    "colab_type": "text",
    "id": "cgTT39hACTuv"
   },
   "source": [
    "# OCO2 - Analyze the CO² plume of Laiwu city\n",
    "\n",
    "Project for **Data For Good**, season 7. \n",
    "\n",
    "*By Quentin Kamenda, Benoît Courty*\n",
    "\n",
    "\n",
    "---"
   ]
  },
  {
   "cell_type": "markdown",
   "metadata": {
    "colab_type": "text",
    "id": "hZCfVvMLDI0e"
   },
   "source": [
    "## Introduction\n",
    "\n",
    "Using Data from [OCO-2 Satellite](en.wikipedia.org/wiki/Orbiting_Carbon_Observatory_2), issued by the NASA.\n",
    "\n",
    "`//TODO: Explanation`"
   ]
  },
  {
   "cell_type": "code",
   "execution_count": 3,
   "metadata": {
    "colab": {},
    "colab_type": "code",
    "id": "Mrq6NA04VOGP"
   },
   "outputs": [],
   "source": [
    "import pandas as pd\n",
    "import numpy as np\n",
    "import matplotlib\n",
    "import matplotlib.pyplot as plt\n",
    "import seaborn as sns\n",
    "#from mpl_toolkits.basemap import Basemap  #Imported directly from the github repository"
   ]
  },
  {
   "cell_type": "markdown",
   "metadata": {
    "colab_type": "text",
    "id": "5xoDdTu5oh55"
   },
   "source": [
    "---"
   ]
  },
  {
   "cell_type": "markdown",
   "metadata": {
    "colab_type": "text",
    "id": "xA4PaxFkEhdV"
   },
   "source": [
    "## Retieve Data\n",
    "\n",
    "Sample data can be accessed freely on the NASA Database, among other open data from several NASA sattelites.\n",
    "\n",
    "We will be using CSV aggregated by *Benoit Courty* [here](https://courty.fr/OCO2/)."
   ]
  },
  {
   "cell_type": "code",
   "execution_count": 4,
   "metadata": {
    "colab": {
     "base_uri": "https://localhost:8080/",
     "height": 206
    },
    "colab_type": "code",
    "id": "3CaSlPXHFTVE",
    "outputId": "b9fa95dc-eaae-4971-fe11-9da084cae690"
   },
   "outputs": [
    {
     "data": {
      "text/html": [
       "<div>\n",
       "<style scoped>\n",
       "    .dataframe tbody tr th:only-of-type {\n",
       "        vertical-align: middle;\n",
       "    }\n",
       "\n",
       "    .dataframe tbody tr th {\n",
       "        vertical-align: top;\n",
       "    }\n",
       "\n",
       "    .dataframe thead th {\n",
       "        text-align: right;\n",
       "    }\n",
       "</style>\n",
       "<table border=\"1\" class=\"dataframe\">\n",
       "  <thead>\n",
       "    <tr style=\"text-align: right;\">\n",
       "      <th></th>\n",
       "      <th>sounding_id</th>\n",
       "      <th>latitude</th>\n",
       "      <th>longitude</th>\n",
       "      <th>xco2</th>\n",
       "      <th>xco2_uncert</th>\n",
       "      <th>orbit</th>\n",
       "      <th>windspeed_u</th>\n",
       "      <th>windspeed_v</th>\n",
       "    </tr>\n",
       "  </thead>\n",
       "  <tbody>\n",
       "    <tr>\n",
       "      <th>0</th>\n",
       "      <td>2018080100462105</td>\n",
       "      <td>-33.015541</td>\n",
       "      <td>-164.508881</td>\n",
       "      <td>405.143188</td>\n",
       "      <td>0.491368</td>\n",
       "      <td>21709</td>\n",
       "      <td>3.749916</td>\n",
       "      <td>9.128431</td>\n",
       "    </tr>\n",
       "    <tr>\n",
       "      <th>1</th>\n",
       "      <td>2018080100462137</td>\n",
       "      <td>-32.988529</td>\n",
       "      <td>-164.553787</td>\n",
       "      <td>404.893677</td>\n",
       "      <td>0.497189</td>\n",
       "      <td>21709</td>\n",
       "      <td>3.720200</td>\n",
       "      <td>9.087859</td>\n",
       "    </tr>\n",
       "    <tr>\n",
       "      <th>2</th>\n",
       "      <td>2018080100462171</td>\n",
       "      <td>-32.996235</td>\n",
       "      <td>-164.435699</td>\n",
       "      <td>404.729431</td>\n",
       "      <td>0.537358</td>\n",
       "      <td>21709</td>\n",
       "      <td>3.815527</td>\n",
       "      <td>9.151507</td>\n",
       "    </tr>\n",
       "    <tr>\n",
       "      <th>3</th>\n",
       "      <td>2018080100462172</td>\n",
       "      <td>-32.992409</td>\n",
       "      <td>-164.455872</td>\n",
       "      <td>404.819550</td>\n",
       "      <td>0.498803</td>\n",
       "      <td>21709</td>\n",
       "      <td>3.799832</td>\n",
       "      <td>9.138914</td>\n",
       "    </tr>\n",
       "    <tr>\n",
       "      <th>4</th>\n",
       "      <td>2018080100462173</td>\n",
       "      <td>-32.988403</td>\n",
       "      <td>-164.476196</td>\n",
       "      <td>404.706451</td>\n",
       "      <td>0.496855</td>\n",
       "      <td>21709</td>\n",
       "      <td>3.783962</td>\n",
       "      <td>9.126184</td>\n",
       "    </tr>\n",
       "  </tbody>\n",
       "</table>\n",
       "</div>"
      ],
      "text/plain": [
       "        sounding_id   latitude   longitude        xco2  xco2_uncert  orbit  \\\n",
       "0  2018080100462105 -33.015541 -164.508881  405.143188     0.491368  21709   \n",
       "1  2018080100462137 -32.988529 -164.553787  404.893677     0.497189  21709   \n",
       "2  2018080100462171 -32.996235 -164.435699  404.729431     0.537358  21709   \n",
       "3  2018080100462172 -32.992409 -164.455872  404.819550     0.498803  21709   \n",
       "4  2018080100462173 -32.988403 -164.476196  404.706451     0.496855  21709   \n",
       "\n",
       "   windspeed_u  windspeed_v  \n",
       "0     3.749916     9.128431  \n",
       "1     3.720200     9.087859  \n",
       "2     3.815527     9.151507  \n",
       "3     3.799832     9.138914  \n",
       "4     3.783962     9.126184  "
      ]
     },
     "execution_count": 4,
     "metadata": {},
     "output_type": "execute_result"
    }
   ],
   "source": [
    "#data_1610 = pd.read_csv(\"http://courty.fr/OCO2/oco2_1610.csv\", sep=\";\")\n",
    "#data_1705 = pd.read_csv(\"http://courty.fr/OCO2/oco2_1705.csv\", sep=\";\")\n",
    "#data_1803 = pd.read_csv(\"http://courty.fr/OCO2/oco2_1803.csv\", sep=\";\")\n",
    "#data_1805 = pd.read_csv(\"http://courty.fr/OCO2/oco2_1805.csv\", sep=\";\")\n",
    "#data_1808 = pd.read_csv(\"http://courty.fr/OCO2/oco2_1808.csv\", sep=\";\")\n",
    "data_1808 = pd.read_csv(\"../../../datasets/OCO2/csv/oco2_1808.csv\", sep=\";\")\n",
    "#data_1809 = pd.read_csv(\"http://courty.fr/OCO2/oco2_1809.csv\", sep=\";\")\n",
    "\n",
    "data_1808.head()"
   ]
  },
  {
   "cell_type": "code",
   "execution_count": 5,
   "metadata": {
    "colab": {
     "base_uri": "https://localhost:8080/",
     "height": 300
    },
    "colab_type": "code",
    "id": "URf4hh4u-U7Q",
    "outputId": "c91cfbe7-c213-46de-caab-0483fac2c8c8"
   },
   "outputs": [
    {
     "data": {
      "text/html": [
       "<div>\n",
       "<style scoped>\n",
       "    .dataframe tbody tr th:only-of-type {\n",
       "        vertical-align: middle;\n",
       "    }\n",
       "\n",
       "    .dataframe tbody tr th {\n",
       "        vertical-align: top;\n",
       "    }\n",
       "\n",
       "    .dataframe thead th {\n",
       "        text-align: right;\n",
       "    }\n",
       "</style>\n",
       "<table border=\"1\" class=\"dataframe\">\n",
       "  <thead>\n",
       "    <tr style=\"text-align: right;\">\n",
       "      <th></th>\n",
       "      <th>sounding_id</th>\n",
       "      <th>latitude</th>\n",
       "      <th>longitude</th>\n",
       "      <th>xco2</th>\n",
       "      <th>xco2_uncert</th>\n",
       "      <th>orbit</th>\n",
       "      <th>windspeed_u</th>\n",
       "      <th>windspeed_v</th>\n",
       "    </tr>\n",
       "  </thead>\n",
       "  <tbody>\n",
       "    <tr>\n",
       "      <th>count</th>\n",
       "      <td>2.709745e+06</td>\n",
       "      <td>2.709745e+06</td>\n",
       "      <td>2.709745e+06</td>\n",
       "      <td>2.709745e+06</td>\n",
       "      <td>2.709745e+06</td>\n",
       "      <td>2.709745e+06</td>\n",
       "      <td>2.709745e+06</td>\n",
       "      <td>2.709745e+06</td>\n",
       "    </tr>\n",
       "    <tr>\n",
       "      <th>mean</th>\n",
       "      <td>2.018082e+15</td>\n",
       "      <td>9.176796e+00</td>\n",
       "      <td>-3.778302e+00</td>\n",
       "      <td>4.047848e+02</td>\n",
       "      <td>5.104777e-01</td>\n",
       "      <td>2.194239e+04</td>\n",
       "      <td>-1.533030e+00</td>\n",
       "      <td>2.852832e-01</td>\n",
       "    </tr>\n",
       "    <tr>\n",
       "      <th>std</th>\n",
       "      <td>9.141199e+08</td>\n",
       "      <td>2.900338e+01</td>\n",
       "      <td>1.112529e+02</td>\n",
       "      <td>1.868212e+00</td>\n",
       "      <td>1.293196e-01</td>\n",
       "      <td>1.332497e+02</td>\n",
       "      <td>4.292128e+00</td>\n",
       "      <td>3.490388e+00</td>\n",
       "    </tr>\n",
       "    <tr>\n",
       "      <th>min</th>\n",
       "      <td>2.018080e+15</td>\n",
       "      <td>-5.199191e+01</td>\n",
       "      <td>-1.799998e+02</td>\n",
       "      <td>3.895988e+02</td>\n",
       "      <td>2.017396e-03</td>\n",
       "      <td>2.170900e+04</td>\n",
       "      <td>-1.231609e+01</td>\n",
       "      <td>-1.428720e+01</td>\n",
       "    </tr>\n",
       "    <tr>\n",
       "      <th>25%</th>\n",
       "      <td>2.018081e+15</td>\n",
       "      <td>-1.714714e+01</td>\n",
       "      <td>-1.143912e+02</td>\n",
       "      <td>4.038899e+02</td>\n",
       "      <td>4.171058e-01</td>\n",
       "      <td>2.181300e+04</td>\n",
       "      <td>-4.930158e+00</td>\n",
       "      <td>-2.060896e+00</td>\n",
       "    </tr>\n",
       "    <tr>\n",
       "      <th>50%</th>\n",
       "      <td>2.018082e+15</td>\n",
       "      <td>4.388992e+00</td>\n",
       "      <td>4.388185e-01</td>\n",
       "      <td>4.052918e+02</td>\n",
       "      <td>4.851733e-01</td>\n",
       "      <td>2.195700e+04</td>\n",
       "      <td>-2.304201e+00</td>\n",
       "      <td>3.646293e-01</td>\n",
       "    </tr>\n",
       "    <tr>\n",
       "      <th>75%</th>\n",
       "      <td>2.018082e+15</td>\n",
       "      <td>3.448813e+01</td>\n",
       "      <td>1.007937e+02</td>\n",
       "      <td>4.060902e+02</td>\n",
       "      <td>5.803099e-01</td>\n",
       "      <td>2.205600e+04</td>\n",
       "      <td>1.599859e+00</td>\n",
       "      <td>2.797290e+00</td>\n",
       "    </tr>\n",
       "    <tr>\n",
       "      <th>max</th>\n",
       "      <td>2.018083e+15</td>\n",
       "      <td>8.186122e+01</td>\n",
       "      <td>1.799996e+02</td>\n",
       "      <td>4.169399e+02</td>\n",
       "      <td>1.983425e+00</td>\n",
       "      <td>2.216000e+04</td>\n",
       "      <td>1.637950e+01</td>\n",
       "      <td>1.493328e+01</td>\n",
       "    </tr>\n",
       "  </tbody>\n",
       "</table>\n",
       "</div>"
      ],
      "text/plain": [
       "        sounding_id      latitude     longitude          xco2   xco2_uncert  \\\n",
       "count  2.709745e+06  2.709745e+06  2.709745e+06  2.709745e+06  2.709745e+06   \n",
       "mean   2.018082e+15  9.176796e+00 -3.778302e+00  4.047848e+02  5.104777e-01   \n",
       "std    9.141199e+08  2.900338e+01  1.112529e+02  1.868212e+00  1.293196e-01   \n",
       "min    2.018080e+15 -5.199191e+01 -1.799998e+02  3.895988e+02  2.017396e-03   \n",
       "25%    2.018081e+15 -1.714714e+01 -1.143912e+02  4.038899e+02  4.171058e-01   \n",
       "50%    2.018082e+15  4.388992e+00  4.388185e-01  4.052918e+02  4.851733e-01   \n",
       "75%    2.018082e+15  3.448813e+01  1.007937e+02  4.060902e+02  5.803099e-01   \n",
       "max    2.018083e+15  8.186122e+01  1.799996e+02  4.169399e+02  1.983425e+00   \n",
       "\n",
       "              orbit   windspeed_u   windspeed_v  \n",
       "count  2.709745e+06  2.709745e+06  2.709745e+06  \n",
       "mean   2.194239e+04 -1.533030e+00  2.852832e-01  \n",
       "std    1.332497e+02  4.292128e+00  3.490388e+00  \n",
       "min    2.170900e+04 -1.231609e+01 -1.428720e+01  \n",
       "25%    2.181300e+04 -4.930158e+00 -2.060896e+00  \n",
       "50%    2.195700e+04 -2.304201e+00  3.646293e-01  \n",
       "75%    2.205600e+04  1.599859e+00  2.797290e+00  \n",
       "max    2.216000e+04  1.637950e+01  1.493328e+01  "
      ]
     },
     "execution_count": 5,
     "metadata": {},
     "output_type": "execute_result"
    }
   ],
   "source": [
    "data_1808.describe()"
   ]
  },
  {
   "cell_type": "markdown",
   "metadata": {
    "colab_type": "text",
    "id": "Giyhh5D2nGb_"
   },
   "source": [
    "To convert the  ``` sounding_id ``` into a datetime variable ```data```:\n",
    "\n"
   ]
  },
  {
   "cell_type": "code",
   "execution_count": 6,
   "metadata": {
    "colab": {},
    "colab_type": "code",
    "id": "3YDnInWkf7WB"
   },
   "outputs": [],
   "source": [
    "from datetime import datetime\n",
    "def to_date(a):\n",
    "    return datetime.strptime(str(a), '%Y%m%d%H%M%S%f')\n",
    "\n",
    "# data_1610['date'] = data_1610['sounding_id'].apply(to_date)\n",
    "# data_1705['date'] = data_1705['sounding_id'].apply(to_date)\n",
    "# data_1803['date'] = data_1803['sounding_id'].apply(to_date)\n",
    "# data_1805['date'] = data_1805['sounding_id'].apply(to_date)\n",
    "data_1808['date'] = data_1808['sounding_id'].apply(to_date)\n",
    "# data_1809['date'] = data_1809['sounding_id'].apply(to_date)"
   ]
  },
  {
   "cell_type": "code",
   "execution_count": 7,
   "metadata": {
    "colab": {
     "base_uri": "https://localhost:8080/",
     "height": 206
    },
    "colab_type": "code",
    "id": "P64m_2ny_NQ1",
    "outputId": "37a7e1c4-ff5f-4729-a8f9-d01bca510d5e"
   },
   "outputs": [
    {
     "data": {
      "text/html": [
       "<div>\n",
       "<style scoped>\n",
       "    .dataframe tbody tr th:only-of-type {\n",
       "        vertical-align: middle;\n",
       "    }\n",
       "\n",
       "    .dataframe tbody tr th {\n",
       "        vertical-align: top;\n",
       "    }\n",
       "\n",
       "    .dataframe thead th {\n",
       "        text-align: right;\n",
       "    }\n",
       "</style>\n",
       "<table border=\"1\" class=\"dataframe\">\n",
       "  <thead>\n",
       "    <tr style=\"text-align: right;\">\n",
       "      <th></th>\n",
       "      <th>sounding_id</th>\n",
       "      <th>latitude</th>\n",
       "      <th>longitude</th>\n",
       "      <th>xco2</th>\n",
       "      <th>xco2_uncert</th>\n",
       "      <th>orbit</th>\n",
       "      <th>windspeed_u</th>\n",
       "      <th>windspeed_v</th>\n",
       "      <th>date</th>\n",
       "    </tr>\n",
       "  </thead>\n",
       "  <tbody>\n",
       "    <tr>\n",
       "      <th>0</th>\n",
       "      <td>2018080100462105</td>\n",
       "      <td>-33.015541</td>\n",
       "      <td>-164.508881</td>\n",
       "      <td>405.143188</td>\n",
       "      <td>0.491368</td>\n",
       "      <td>21709</td>\n",
       "      <td>3.749916</td>\n",
       "      <td>9.128431</td>\n",
       "      <td>2018-08-01 00:46:21.050</td>\n",
       "    </tr>\n",
       "    <tr>\n",
       "      <th>1</th>\n",
       "      <td>2018080100462137</td>\n",
       "      <td>-32.988529</td>\n",
       "      <td>-164.553787</td>\n",
       "      <td>404.893677</td>\n",
       "      <td>0.497189</td>\n",
       "      <td>21709</td>\n",
       "      <td>3.720200</td>\n",
       "      <td>9.087859</td>\n",
       "      <td>2018-08-01 00:46:21.370</td>\n",
       "    </tr>\n",
       "    <tr>\n",
       "      <th>2</th>\n",
       "      <td>2018080100462171</td>\n",
       "      <td>-32.996235</td>\n",
       "      <td>-164.435699</td>\n",
       "      <td>404.729431</td>\n",
       "      <td>0.537358</td>\n",
       "      <td>21709</td>\n",
       "      <td>3.815527</td>\n",
       "      <td>9.151507</td>\n",
       "      <td>2018-08-01 00:46:21.710</td>\n",
       "    </tr>\n",
       "    <tr>\n",
       "      <th>3</th>\n",
       "      <td>2018080100462172</td>\n",
       "      <td>-32.992409</td>\n",
       "      <td>-164.455872</td>\n",
       "      <td>404.819550</td>\n",
       "      <td>0.498803</td>\n",
       "      <td>21709</td>\n",
       "      <td>3.799832</td>\n",
       "      <td>9.138914</td>\n",
       "      <td>2018-08-01 00:46:21.720</td>\n",
       "    </tr>\n",
       "    <tr>\n",
       "      <th>4</th>\n",
       "      <td>2018080100462173</td>\n",
       "      <td>-32.988403</td>\n",
       "      <td>-164.476196</td>\n",
       "      <td>404.706451</td>\n",
       "      <td>0.496855</td>\n",
       "      <td>21709</td>\n",
       "      <td>3.783962</td>\n",
       "      <td>9.126184</td>\n",
       "      <td>2018-08-01 00:46:21.730</td>\n",
       "    </tr>\n",
       "  </tbody>\n",
       "</table>\n",
       "</div>"
      ],
      "text/plain": [
       "        sounding_id   latitude   longitude        xco2  xco2_uncert  orbit  \\\n",
       "0  2018080100462105 -33.015541 -164.508881  405.143188     0.491368  21709   \n",
       "1  2018080100462137 -32.988529 -164.553787  404.893677     0.497189  21709   \n",
       "2  2018080100462171 -32.996235 -164.435699  404.729431     0.537358  21709   \n",
       "3  2018080100462172 -32.992409 -164.455872  404.819550     0.498803  21709   \n",
       "4  2018080100462173 -32.988403 -164.476196  404.706451     0.496855  21709   \n",
       "\n",
       "   windspeed_u  windspeed_v                    date  \n",
       "0     3.749916     9.128431 2018-08-01 00:46:21.050  \n",
       "1     3.720200     9.087859 2018-08-01 00:46:21.370  \n",
       "2     3.815527     9.151507 2018-08-01 00:46:21.710  \n",
       "3     3.799832     9.138914 2018-08-01 00:46:21.720  \n",
       "4     3.783962     9.126184 2018-08-01 00:46:21.730  "
      ]
     },
     "execution_count": 7,
     "metadata": {},
     "output_type": "execute_result"
    }
   ],
   "source": [
    "data_1808.head()"
   ]
  },
  {
   "cell_type": "markdown",
   "metadata": {
    "colab_type": "text",
    "id": "Bn9YDjBsPzdh"
   },
   "source": [
    "We are seaking the emission peaks taken as an example in the annexes of F. Chevallier's article **Observing carbon dioxide emissions over China's cities with the Orbiting Carbon Observatory-2**:\n",
    "\n",
    "\n",
    "\n",
    "*   Over Anshan, the 17th October 2016 \n",
    "*   Over Baotou, the 17th May 2018\n",
    "*   Over Dezhou, the 24th September 2018\n",
    "*   Over Laiwu, the 25th August 2018\n",
    "*   Over Nanjing, the 9th March 2018\n",
    "*   Over Tangshan, the 18th May 2017\n",
    "\n"
   ]
  },
  {
   "cell_type": "markdown",
   "metadata": {
    "colab_type": "text",
    "id": "qDDmNMMocrIh"
   },
   "source": [
    "---"
   ]
  },
  {
   "cell_type": "markdown",
   "metadata": {
    "colab_type": "text",
    "id": "6VHbty12k2XU"
   },
   "source": [
    "### Laiwu, 25th August 2018"
   ]
  },
  {
   "cell_type": "code",
   "execution_count": 8,
   "metadata": {
    "colab": {
     "base_uri": "https://localhost:8080/",
     "height": 468
    },
    "colab_type": "code",
    "id": "4ZxtK8jhk2Xa",
    "outputId": "26e377a3-4882-4c6b-9407-f648498b3404"
   },
   "outputs": [],
   "source": [
    "# We consider the August 2018 datset at the right day\n",
    "data_1808_25 = data_1808[data_1808['date'] < \"2018-08-26\"]\n",
    "data_1808_25 = data_1808_25[data_1808_25['date'] > \"2018-08-25\"]\n",
    "\n",
    "#draw_map(data_1808_25)"
   ]
  },
  {
   "cell_type": "code",
   "execution_count": 9,
   "metadata": {
    "colab": {
     "base_uri": "https://localhost:8080/",
     "height": 424
    },
    "colab_type": "code",
    "id": "hVq69fm7k2Xp",
    "outputId": "3d8d1769-8efa-4d49-bdad-9215741c6fef"
   },
   "outputs": [
    {
     "data": {
      "text/html": [
       "<div>\n",
       "<style scoped>\n",
       "    .dataframe tbody tr th:only-of-type {\n",
       "        vertical-align: middle;\n",
       "    }\n",
       "\n",
       "    .dataframe tbody tr th {\n",
       "        vertical-align: top;\n",
       "    }\n",
       "\n",
       "    .dataframe thead th {\n",
       "        text-align: right;\n",
       "    }\n",
       "</style>\n",
       "<table border=\"1\" class=\"dataframe\">\n",
       "  <thead>\n",
       "    <tr style=\"text-align: right;\">\n",
       "      <th></th>\n",
       "      <th>sounding_id</th>\n",
       "      <th>latitude</th>\n",
       "      <th>longitude</th>\n",
       "      <th>xco2</th>\n",
       "      <th>xco2_uncert</th>\n",
       "      <th>orbit</th>\n",
       "      <th>windspeed_u</th>\n",
       "      <th>windspeed_v</th>\n",
       "      <th>date</th>\n",
       "    </tr>\n",
       "  </thead>\n",
       "  <tbody>\n",
       "    <tr>\n",
       "      <th>2061319</th>\n",
       "      <td>2018082504501738</td>\n",
       "      <td>-43.749119</td>\n",
       "      <td>135.989822</td>\n",
       "      <td>403.642273</td>\n",
       "      <td>0.572042</td>\n",
       "      <td>22061</td>\n",
       "      <td>11.114212</td>\n",
       "      <td>-4.509858</td>\n",
       "      <td>2018-08-25 04:50:17.380</td>\n",
       "    </tr>\n",
       "    <tr>\n",
       "      <th>2061320</th>\n",
       "      <td>2018082504501777</td>\n",
       "      <td>-43.735889</td>\n",
       "      <td>136.010880</td>\n",
       "      <td>404.398529</td>\n",
       "      <td>0.466245</td>\n",
       "      <td>22061</td>\n",
       "      <td>11.103701</td>\n",
       "      <td>-4.486870</td>\n",
       "      <td>2018-08-25 04:50:17.770</td>\n",
       "    </tr>\n",
       "    <tr>\n",
       "      <th>2061321</th>\n",
       "      <td>2018082504501778</td>\n",
       "      <td>-43.731358</td>\n",
       "      <td>135.985352</td>\n",
       "      <td>404.115814</td>\n",
       "      <td>0.528921</td>\n",
       "      <td>22061</td>\n",
       "      <td>11.101484</td>\n",
       "      <td>-4.501010</td>\n",
       "      <td>2018-08-25 04:50:17.780</td>\n",
       "    </tr>\n",
       "  </tbody>\n",
       "</table>\n",
       "</div>"
      ],
      "text/plain": [
       "              sounding_id   latitude   longitude        xco2  xco2_uncert  \\\n",
       "2061319  2018082504501738 -43.749119  135.989822  403.642273     0.572042   \n",
       "2061320  2018082504501777 -43.735889  136.010880  404.398529     0.466245   \n",
       "2061321  2018082504501778 -43.731358  135.985352  404.115814     0.528921   \n",
       "\n",
       "         orbit  windspeed_u  windspeed_v                    date  \n",
       "2061319  22061    11.114212    -4.509858 2018-08-25 04:50:17.380  \n",
       "2061320  22061    11.103701    -4.486870 2018-08-25 04:50:17.770  \n",
       "2061321  22061    11.101484    -4.501010 2018-08-25 04:50:17.780  "
      ]
     },
     "execution_count": 9,
     "metadata": {},
     "output_type": "execute_result"
    }
   ],
   "source": [
    "# We consider the orgit going over East China\n",
    "#data_laiwu = data_1808_25[data_1808_25['longitude'] > 110]\n",
    "#data_laiwu = data_laiwu[data_laiwu['longitude'] < 125]\n",
    "data_laiwu = data_1808_25[data_1808_25['orbit'] == 22061]\n",
    "data_laiwu.head(3)"
   ]
  },
  {
   "cell_type": "markdown",
   "metadata": {},
   "source": [
    "### Keep only the city zone"
   ]
  },
  {
   "cell_type": "code",
   "execution_count": 10,
   "metadata": {},
   "outputs": [],
   "source": [
    "data_laiwu=data_laiwu.query('longitude>116.5 and longitude<118.2 and latitude>35.4 and latitude<37.1')"
   ]
  },
  {
   "cell_type": "markdown",
   "metadata": {},
   "source": [
    "### Plot the OCO2 sensor data"
   ]
  },
  {
   "cell_type": "code",
   "execution_count": 11,
   "metadata": {},
   "outputs": [
    {
     "name": "stderr",
     "output_type": "stream",
     "text": [
      "/media/data-nvme/dev/anaconda3/lib/python3.7/site-packages/pandas/plotting/_tools.py:308: MatplotlibDeprecationWarning: \n",
      "The rowNum attribute was deprecated in Matplotlib 3.2 and will be removed two minor releases later. Use ax.get_subplotspec().rowspan.start instead.\n",
      "  layout[ax.rowNum, ax.colNum] = ax.get_visible()\n",
      "/media/data-nvme/dev/anaconda3/lib/python3.7/site-packages/pandas/plotting/_tools.py:308: MatplotlibDeprecationWarning: \n",
      "The colNum attribute was deprecated in Matplotlib 3.2 and will be removed two minor releases later. Use ax.get_subplotspec().colspan.start instead.\n",
      "  layout[ax.rowNum, ax.colNum] = ax.get_visible()\n",
      "/media/data-nvme/dev/anaconda3/lib/python3.7/site-packages/pandas/plotting/_tools.py:308: MatplotlibDeprecationWarning: \n",
      "The rowNum attribute was deprecated in Matplotlib 3.2 and will be removed two minor releases later. Use ax.get_subplotspec().rowspan.start instead.\n",
      "  layout[ax.rowNum, ax.colNum] = ax.get_visible()\n",
      "/media/data-nvme/dev/anaconda3/lib/python3.7/site-packages/pandas/plotting/_tools.py:308: MatplotlibDeprecationWarning: \n",
      "The colNum attribute was deprecated in Matplotlib 3.2 and will be removed two minor releases later. Use ax.get_subplotspec().colspan.start instead.\n",
      "  layout[ax.rowNum, ax.colNum] = ax.get_visible()\n",
      "/media/data-nvme/dev/anaconda3/lib/python3.7/site-packages/pandas/plotting/_tools.py:314: MatplotlibDeprecationWarning: \n",
      "The rowNum attribute was deprecated in Matplotlib 3.2 and will be removed two minor releases later. Use ax.get_subplotspec().rowspan.start instead.\n",
      "  if not layout[ax.rowNum + 1, ax.colNum]:\n",
      "/media/data-nvme/dev/anaconda3/lib/python3.7/site-packages/pandas/plotting/_tools.py:314: MatplotlibDeprecationWarning: \n",
      "The colNum attribute was deprecated in Matplotlib 3.2 and will be removed two minor releases later. Use ax.get_subplotspec().colspan.start instead.\n",
      "  if not layout[ax.rowNum + 1, ax.colNum]:\n",
      "/media/data-nvme/dev/anaconda3/lib/python3.7/site-packages/pandas/plotting/_tools.py:314: MatplotlibDeprecationWarning: \n",
      "The rowNum attribute was deprecated in Matplotlib 3.2 and will be removed two minor releases later. Use ax.get_subplotspec().rowspan.start instead.\n",
      "  if not layout[ax.rowNum + 1, ax.colNum]:\n",
      "/media/data-nvme/dev/anaconda3/lib/python3.7/site-packages/pandas/plotting/_tools.py:314: MatplotlibDeprecationWarning: \n",
      "The colNum attribute was deprecated in Matplotlib 3.2 and will be removed two minor releases later. Use ax.get_subplotspec().colspan.start instead.\n",
      "  if not layout[ax.rowNum + 1, ax.colNum]:\n"
     ]
    },
    {
     "data": {
      "text/plain": [
       "<matplotlib.axes._subplots.AxesSubplot at 0x7f8e4126a910>"
      ]
     },
     "execution_count": 11,
     "metadata": {},
     "output_type": "execute_result"
    },
    {
     "data": {
      "image/png": "[encoded data removed]",
      "text/plain": [
       "<Figure size 432x288 with 2 Axes>"
      ]
     },
     "metadata": {
      "needs_background": "light"
     },
     "output_type": "display_data"
    }
   ],
   "source": [
    "data_laiwu.plot.scatter(x='longitude', y='latitude', c='xco2', colormap='viridis')"
   ]
  },
  {
   "cell_type": "code",
   "execution_count": 12,
   "metadata": {},
   "outputs": [
    {
     "data": {
      "text/plain": [
       "<matplotlib.axes._subplots.AxesSubplot at 0x7f8e2895f110>"
      ]
     },
     "execution_count": 12,
     "metadata": {},
     "output_type": "execute_result"
    },
    {
     "data": {
      "image/png": "[encoded data removed]",
      "text/plain": [
       "<Figure size 432x288 with 1 Axes>"
      ]
     },
     "metadata": {
      "needs_background": "light"
     },
     "output_type": "display_data"
    }
   ],
   "source": [
    "data_laiwu.plot.scatter(x='sounding_id', y='xco2')"
   ]
  },
  {
   "cell_type": "markdown",
   "metadata": {},
   "source": [
    "### Compute distance from latitude, longitude (haversine)"
   ]
  },
  {
   "cell_type": "code",
   "execution_count": 13,
   "metadata": {},
   "outputs": [
    {
     "data": {
      "text/plain": [
       "<matplotlib.axes._subplots.AxesSubplot at 0x7f8e28a0cdd0>"
      ]
     },
     "execution_count": 13,
     "metadata": {},
     "output_type": "execute_result"
    },
    {
     "data": {
      "image/png": "[encoded data removed]",
      "text/plain": [
       "<Figure size 432x288 with 1 Axes>"
      ]
     },
     "metadata": {
      "needs_background": "light"
     },
     "output_type": "display_data"
    }
   ],
   "source": [
    "import math\n",
    "#TODO: Change the formula to compute the distance from the trace origin\n",
    "latitude_origin = data_laiwu.iloc[0]['latitude']\n",
    "longitude_origin = data_laiwu.iloc[0]['longitude']\n",
    "data_laiwu['distance'] = 6367 * 2 * np.arcsin(np.sqrt(np.sin((np.radians(data_laiwu['latitude'])\n",
    "    - math.radians(latitude_origin))/2)**2 + math.cos(math.radians(latitude_origin))\n",
    "    * np.cos(np.radians(data_laiwu['latitude'])) * np.sin((np.radians(data_laiwu['longitude'])\n",
    "    - math.radians(longitude_origin))/2)**2))\n",
    "data_laiwu.plot.scatter(x='distance', y='xco2')"
   ]
  },
  {
   "cell_type": "markdown",
   "metadata": {},
   "source": [
    "# Gaussian fit"
   ]
  },
  {
   "cell_type": "markdown",
   "metadata": {},
   "source": [
    "## scipy curve_fit"
   ]
  },
  {
   "cell_type": "code",
   "execution_count": 95,
   "metadata": {},
   "outputs": [
    {
     "data": {
      "text/html": [
       "<div>\n",
       "<style scoped>\n",
       "    .dataframe tbody tr th:only-of-type {\n",
       "        vertical-align: middle;\n",
       "    }\n",
       "\n",
       "    .dataframe tbody tr th {\n",
       "        vertical-align: top;\n",
       "    }\n",
       "\n",
       "    .dataframe thead th {\n",
       "        text-align: right;\n",
       "    }\n",
       "</style>\n",
       "<table border=\"1\" class=\"dataframe\">\n",
       "  <thead>\n",
       "    <tr style=\"text-align: right;\">\n",
       "      <th></th>\n",
       "      <th>sounding_id</th>\n",
       "      <th>latitude</th>\n",
       "      <th>longitude</th>\n",
       "      <th>xco2</th>\n",
       "      <th>xco2_uncert</th>\n",
       "      <th>orbit</th>\n",
       "      <th>windspeed_u</th>\n",
       "      <th>windspeed_v</th>\n",
       "      <th>date</th>\n",
       "      <th>distance</th>\n",
       "      <th>xco2_enhancement</th>\n",
       "    </tr>\n",
       "  </thead>\n",
       "  <tbody>\n",
       "    <tr>\n",
       "      <th>2069837</th>\n",
       "      <td>2018082505140774</td>\n",
       "      <td>35.429119</td>\n",
       "      <td>117.594986</td>\n",
       "      <td>400.076141</td>\n",
       "      <td>0.716316</td>\n",
       "      <td>22061</td>\n",
       "      <td>-2.914134</td>\n",
       "      <td>-0.235950</td>\n",
       "      <td>2018-08-25 05:14:07.740</td>\n",
       "      <td>0.000000</td>\n",
       "      <td>-1.221359</td>\n",
       "    </tr>\n",
       "    <tr>\n",
       "      <th>2069843</th>\n",
       "      <td>2018082505140837</td>\n",
       "      <td>35.436092</td>\n",
       "      <td>117.599686</td>\n",
       "      <td>400.578766</td>\n",
       "      <td>0.576075</td>\n",
       "      <td>22061</td>\n",
       "      <td>-2.915572</td>\n",
       "      <td>-0.225130</td>\n",
       "      <td>2018-08-25 05:14:08.370</td>\n",
       "      <td>0.884057</td>\n",
       "      <td>-0.718735</td>\n",
       "    </tr>\n",
       "    <tr>\n",
       "      <th>2069844</th>\n",
       "      <td>2018082505140838</td>\n",
       "      <td>35.426098</td>\n",
       "      <td>117.605133</td>\n",
       "      <td>400.573578</td>\n",
       "      <td>0.666210</td>\n",
       "      <td>22061</td>\n",
       "      <td>-2.920266</td>\n",
       "      <td>-0.238718</td>\n",
       "      <td>2018-08-25 05:14:08.380</td>\n",
       "      <td>0.978238</td>\n",
       "      <td>-0.723923</td>\n",
       "    </tr>\n",
       "  </tbody>\n",
       "</table>\n",
       "</div>"
      ],
      "text/plain": [
       "              sounding_id   latitude   longitude        xco2  xco2_uncert  \\\n",
       "2069837  2018082505140774  35.429119  117.594986  400.076141     0.716316   \n",
       "2069843  2018082505140837  35.436092  117.599686  400.578766     0.576075   \n",
       "2069844  2018082505140838  35.426098  117.605133  400.573578     0.666210   \n",
       "\n",
       "         orbit  windspeed_u  windspeed_v                    date  distance  \\\n",
       "2069837  22061    -2.914134    -0.235950 2018-08-25 05:14:07.740  0.000000   \n",
       "2069843  22061    -2.915572    -0.225130 2018-08-25 05:14:08.370  0.884057   \n",
       "2069844  22061    -2.920266    -0.238718 2018-08-25 05:14:08.380  0.978238   \n",
       "\n",
       "         xco2_enhancement  \n",
       "2069837         -1.221359  \n",
       "2069843         -0.718735  \n",
       "2069844         -0.723923  "
      ]
     },
     "execution_count": 95,
     "metadata": {},
     "output_type": "execute_result"
    }
   ],
   "source": [
    "data_laiwu = data_laiwu.sort_values(by=['distance']).reindex()\n",
    "data_laiwu.head(3)"
   ]
  },
  {
   "cell_type": "code",
   "execution_count": 96,
   "metadata": {},
   "outputs": [
    {
     "name": "stdout",
     "output_type": "stream",
     "text": [
      "index 2070045 Number of good fit 1 Sigma: 28.23721179217691 Ampleur de l'émission de CO²: 3.3741936684058076 Coef de coreflation [[1.        0.6589488]\n",
      " [0.6589488 1.       ]]\n",
      "index 2070027 Number of good fit 2 Sigma: 22.465496876615877 Ampleur de l'émission de CO²: 3.431652095420562 Coef de coreflation [[1.        0.7036994]\n",
      " [0.7036994 1.       ]]\n",
      "index 2070040 Number of good fit 3 Sigma: 19.153138288248023 Ampleur de l'émission de CO²: 3.613302504102211 Coef de coreflation [[1.         0.75592095]\n",
      " [0.75592095 1.        ]]\n",
      "index 2070047 Number of good fit 4 Sigma: 16.682874701268304 Ampleur de l'émission de CO²: 3.8092629415713453 Coef de coreflation [[1.         0.80218004]\n",
      " [0.80218004 1.        ]]\n",
      "index 2070068 Number of good fit 5 Sigma: 14.399258196038623 Ampleur de l'émission de CO²: 4.017469731345853 Coef de coreflation [[1.         0.82426659]\n",
      " [0.82426659 1.        ]]\n",
      "index 2070073 Number of good fit 6 Sigma: 14.252737704510007 Ampleur de l'émission de CO²: 4.013139681824819 Coef de coreflation [[1.         0.83091661]\n",
      " [0.83091661 1.        ]]\n",
      "index 2070093 Number of good fit 7 Sigma: 15.215290807987461 Ampleur de l'émission de CO²: 3.8439169619522158 Coef de coreflation [[1.         0.80560701]\n",
      " [0.80560701 1.        ]]\n",
      "index 2070099 Number of good fit 8 Sigma: 16.869101608599085 Ampleur de l'émission de CO²: 3.548502509129814 Coef de coreflation [[1.         0.75536402]\n",
      " [0.75536402 1.        ]]\n",
      "index 2070106 Number of good fit 9 Sigma: 18.89063683349686 Ampleur de l'émission de CO²: 3.212305763286154 Coef de coreflation [[1.         0.70446062]\n",
      " [0.70446062 1.        ]]\n",
      "index 2070113 Number of good fit 10 Sigma: 21.522340109028512 Ampleur de l'émission de CO²: 2.8763986275753473 Coef de coreflation [[1.         0.63512867]\n",
      " [0.63512867 1.        ]]\n",
      "index 2070146 Number of good fit 11 Sigma: 24.689427064311754 Ampleur de l'émission de CO²: 2.644834325947664 Coef de coreflation [[1.         0.59358821]\n",
      " [0.59358821 1.        ]]\n"
     ]
    }
   ],
   "source": [
    "import matplotlib.pyplot as plt\n",
    "from scipy.optimize import curve_fit\n",
    "import numpy as np\n",
    "\n",
    "d_good_temp = data_laiwu\n",
    "d_good = data_laiwu\n",
    "x = data_laiwu['distance']\n",
    "y = data_laiwu['xco2']\n",
    "\n",
    "# weighted arithmetic mean (corrected - check the section below)\n",
    "# mean = sum(x * y) / sum(y)\n",
    "# sigma = np.sqrt(sum(y * (x - mean)**2) / sum(y))\n",
    "\n",
    "# spatial window for the detection (km)\n",
    "window = 200\n",
    "good_find = 0\n",
    "popt_saved, pcov_saved = [], []\n",
    "soundings, sigmas = [], []\n",
    "def func(x, m, b, A, sig):\n",
    "    return m * x + b + A / (sig * (2 * np.pi)**0.5) * np.exp(-x**2 / (2*sig**2))\n",
    "\n",
    "try:\n",
    "    for i, j in enumerate(data_laiwu.index):\n",
    "        if i > 10:\n",
    "            #print(i)\n",
    "            if str(i)[-1] != '0':\n",
    "                continue\n",
    "        med_temp = np.median(data_laiwu['xco2'])\n",
    "        std_temp = np.std(data_laiwu['xco2'])\n",
    "        data_laiwu['xco2_enhancement'] = data_laiwu['xco2'] - med_temp\n",
    "        p0 = (0.,med_temp,30*data_laiwu.loc[j,'xco2_enhancement'],10.)\n",
    "        d_centered = data_laiwu['distance'] - data_laiwu.loc[j, 'distance']\n",
    "        popt, pcov = curve_fit(func, d_centered, data_laiwu['xco2'], sigma = data_laiwu['xco2_uncert'], p0 = p0, maxfev=20000)\n",
    "        sig = abs(popt[3])  # sigma of the Gaussian (km)\n",
    "        if sig < 2 : continue  # too narrow\n",
    "        if 3*sig > window / 2.: continue  # too large\n",
    "        delta = popt[2]/(popt[3]*(2 * np.pi)**0.5)  # height of the peak (ppm)\n",
    "        if delta < 0: continue  # depletion\n",
    "        d_plume = d_good_temp[(d_centered >= -2*sig) & (d_centered <= 2*sig)]\n",
    "        d_backg = d_good_temp[(d_centered < -2*sig) | (d_centered > 2*sig)]\n",
    "        d_peak = d_good_temp[(d_centered >= -4*sig) & (d_centered <= 4*sig)]\n",
    "        d_peak_distance = d_peak['distance'] - d_good.loc[j, 'distance']\n",
    "        # we want at least 1 1-km-sounding per km on average on both sides of the peak within 2 sigmas and between 2 and 3 sigmas\n",
    "        if len(d_good_temp[(d_centered >= -1*sig) & (d_centered <= 0)]) < int(sig): continue\n",
    "        if len(d_good_temp[(d_centered <= 1*sig) & (d_centered >= 0)]) < int(sig): continue\n",
    "        if len(d_good_temp[(d_centered >= -3*sig) & (d_centered <= -2*sig)]) < int(sig): continue\n",
    "        if len(d_good_temp[(d_centered <= 3*sig) & (d_centered >= 2*sig)]) < int(sig): continue\n",
    "        # check the quality of the fit\n",
    "        R = np.corrcoef(func(d_peak_distance,*popt), d_peak['xco2'])\n",
    "        if R[0,1]**2 < 0.25 : continue\n",
    "        good_find += 1\n",
    "        print('index',j, 'Number of good fit',good_find, 'Sigma:', sig, 'Ampleur de l\\'émission de CO²:',delta,'Coef de coreflation',R)\n",
    "        soundings.append(j)\n",
    "        sigmas.append(sig)\n",
    "        popt_saved.append(popt)\n",
    "        pcov_saved.append(pcov)\n",
    "except RuntimeError: \n",
    "  # curve_fit failed \n",
    "  print('LOST', d_good.loc[j, 'sounding_id'])"
   ]
  },
  {
   "cell_type": "code",
   "execution_count": 97,
   "metadata": {},
   "outputs": [
    {
     "name": "stdout",
     "output_type": "stream",
     "text": [
      "408.7106391301036\n"
     ]
    }
   ],
   "source": [
    "# print(x)\n",
    "# print(popt)\n",
    "print(func(50, *popt))"
   ]
  },
  {
   "cell_type": "code",
   "execution_count": 98,
   "metadata": {},
   "outputs": [
    {
     "name": "stdout",
     "output_type": "stream",
     "text": [
      "Best m, b, A, sig =  [3.92560177e-03 4.00770662e+02 1.43374694e+02 1.42527377e+01]\n"
     ]
    },
    {
     "data": {
      "image/png": "[encoded data removed]",
      "text/plain": [
       "<Figure size 800x640 with 1 Axes>"
      ]
     },
     "metadata": {},
     "output_type": "display_data"
    }
   ],
   "source": [
    "%matplotlib inline\n",
    "from matplotlib.pyplot import figure\n",
    "figure(num=None, figsize=(10, 8), dpi=80, facecolor='w', edgecolor='k')\n",
    "\n",
    "index=np.argmin(sigmas)\n",
    "popt=popt_saved[index]\n",
    "print('Best m, b, A, sig = ', popt)\n",
    "plt.scatter(x, y, c=y, s=3, label='data')\n",
    "plt.plot(x, func(x = x-data_laiwu.loc[soundings[index], 'distance'], m=popt[0], b=popt[1], A=popt[2], sig=popt[3]), 'r', label='fit')\n",
    "plt.legend()\n",
    "plt.title('OCO 2 data')\n",
    "plt.xlabel('Distance')\n",
    "plt.ylabel('CO²')\n",
    "plt.show()"
   ]
  },
  {
   "cell_type": "code",
   "execution_count": 102,
   "metadata": {},
   "outputs": [
    {
     "name": "stdout",
     "output_type": "stream",
     "text": [
      "Best m, b, A, sig =  [3.92560177e-03 4.00770662e+02 1.43374694e+02 1.42527377e+01]\n"
     ]
    },
    {
     "data": {
      "image/png": "[encoded data removed]",
      "text/plain": [
       "<Figure size 800x640 with 1 Axes>"
      ]
     },
     "metadata": {},
     "output_type": "display_data"
    }
   ],
   "source": [
    "%matplotlib inline\n",
    "from matplotlib.pyplot import figure\n",
    "figure(num=None, figsize=(10, 8), dpi=80, facecolor='w', edgecolor='k')\n",
    "\n",
    "x = data_laiwu['distance']\n",
    "y = data_laiwu['xco2']\n",
    "\n",
    "index=np.argmin(sigmas)\n",
    "popt=popt_saved[index]\n",
    "print('Best m, b, A, sig = ', popt)\n",
    "m=popt[0]\n",
    "b=popt[1]\n",
    "A=popt[2]\n",
    "sig=popt[3]\n",
    "y = y - m * x - b\n",
    "plt.scatter(x, y, c=y, s=3, label='data')\n",
    "plt.plot(x, func(x = x-data_laiwu.loc[soundings[index], 'distance'], m=0, b=0, A=popt[2], sig=popt[3]), 'r', label='fit')\n",
    "plt.legend()\n",
    "plt.title('OCO 2 data')\n",
    "plt.xlabel('Distance')\n",
    "plt.ylabel('CO²')\n",
    "plt.show()"
   ]
  },
  {
   "cell_type": "markdown",
   "metadata": {},
   "source": [
    "## sklearn GaussianProcessRegressor"
   ]
  },
  {
   "cell_type": "code",
   "execution_count": 15,
   "metadata": {},
   "outputs": [
    {
     "ename": "NameError",
     "evalue": "name 'kernel' is not defined",
     "output_type": "error",
     "traceback": [
      "\u001b[0;31m---------------------------------------------------------------------------\u001b[0m",
      "\u001b[0;31mNameError\u001b[0m                                 Traceback (most recent call last)",
      "\u001b[0;32m<ipython-input-15-467b2bfcd15a>\u001b[0m in \u001b[0;36m<module>\u001b[0;34m\u001b[0m\n\u001b[1;32m     28\u001b[0m \u001b[0;34m\u001b[0m\u001b[0m\n\u001b[1;32m     29\u001b[0m \u001b[0;31m# Instantiate a Gaussian Process model\u001b[0m\u001b[0;34m\u001b[0m\u001b[0;34m\u001b[0m\u001b[0;34m\u001b[0m\u001b[0m\n\u001b[0;32m---> 30\u001b[0;31m gp = GaussianProcessRegressor(kernel=kernel, alpha=dy ** 2,\n\u001b[0m\u001b[1;32m     31\u001b[0m                               n_restarts_optimizer=10)\n\u001b[1;32m     32\u001b[0m \u001b[0;31m#x.to_array\u001b[0m\u001b[0;34m\u001b[0m\u001b[0;34m\u001b[0m\u001b[0;34m\u001b[0m\u001b[0m\n",
      "\u001b[0;31mNameError\u001b[0m: name 'kernel' is not defined"
     ]
    }
   ],
   "source": [
    "# Author: Vincent Dubourg <vincent.dubourg@gmail.com>\n",
    "#         Jake Vanderplas <vanderplas@astro.washington.edu>\n",
    "#         Jan Hendrik Metzen <jhm@informatik.uni-bremen.de>s\n",
    "# License: BSD 3 clause\n",
    "\n",
    "import numpy as np\n",
    "from matplotlib import pyplot as plt\n",
    "\n",
    "from sklearn.gaussian_process import GaussianProcessRegressor\n",
    "from sklearn.gaussian_process.kernels import RBF, ConstantKernel as C\n",
    "\n",
    "np.random.seed(1)\n",
    "\n",
    "\n",
    "# def f(x):\n",
    "#     \"\"\"The function to predict.\"\"\"\n",
    "#     return x * np.sin(x)\n",
    "\n",
    "# # now the noisy case\n",
    "# X = np.linspace(0.1, 9.9, 20)\n",
    "# X = np.atleast_2d(X).T\n",
    "\n",
    "# # Observations and noise\n",
    "# y = f(X).ravel()\n",
    "dy = 0.5 + 1.0 * np.random.random(y.shape)\n",
    "# noise = np.random.normal(0, dy)\n",
    "# y += noise\n",
    "\n",
    "# Instantiate a Gaussian Process model\n",
    "gp = GaussianProcessRegressor(kernel=kernel, alpha=dy ** 2,\n",
    "                              n_restarts_optimizer=10)\n",
    "#x.to_array\n",
    "X = np.array(x).reshape(-1, 1)\n",
    "X.shape\n",
    "# Fit to data using Maximum Likelihood Estimation of the parameters\n",
    "gp.fit(X, y)\n",
    "\n",
    "# Make the prediction on the meshed x-axis (ask for MSE as well)\n",
    "y_pred, sigma = gp.predict(X, return_std=True)\n",
    "\n",
    "# Plot the function, the prediction and the 95% confidence interval based on\n",
    "# the MSE\n",
    "plt.figure()\n",
    "#plt.plot(x, f(x), 'r:', label=r'$f(x) = x\\,\\sin(x)$')\n",
    "plt.errorbar(X.ravel(), y, dy, fmt='r.', markersize=10, label='Observations')\n",
    "plt.plot(x, y_pred, 'b-', label='Prediction')\n",
    "plt.fill(np.concatenate([x, x[::-1]]),\n",
    "         np.concatenate([y_pred - 1.9600 * sigma,\n",
    "                        (y_pred + 1.9600 * sigma)[::-1]]),\n",
    "         alpha=.5, fc='b', ec='None', label='95% confidence interval')\n",
    "plt.xlabel('$x$')\n",
    "plt.ylabel('$f(x)$')\n",
    "plt.ylim(-10, 20)\n",
    "plt.legend(loc='upper left')\n",
    "\n",
    "plt.show()\n"
   ]
  },
  {
   "cell_type": "markdown",
   "metadata": {},
   "source": [
    "## GPflow"
   ]
  },
  {
   "cell_type": "code",
   "execution_count": null,
   "metadata": {},
   "outputs": [],
   "source": [
    "!pip install GPflow"
   ]
  },
  {
   "cell_type": "code",
   "execution_count": null,
   "metadata": {},
   "outputs": [],
   "source": [
    "# https://blog.dominodatalab.com/fitting-gaussian-process-models-python/\n",
    "\n",
    "import GPflow\n",
    "\n",
    "k = GPflow.kernels.Matern32(1, variance=1, lengthscales=1.2)\n",
    "m = GPflow.gpr.GPR(X, Y, kern=k)\n",
    "m.likelihood.variance = 0.01\n",
    "m.optimize()\n"
   ]
  },
  {
   "cell_type": "code",
   "execution_count": null,
   "metadata": {},
   "outputs": [],
   "source": [
    "!pip install lmfit"
   ]
  },
  {
   "cell_type": "markdown",
   "metadata": {},
   "source": [
    "## LMfit GaussianModel\n",
    "https://lmfit.github.io/lmfit-py/model.html#lmfit.model.Model.fit"
   ]
  },
  {
   "cell_type": "code",
   "execution_count": null,
   "metadata": {},
   "outputs": [],
   "source": [
    "import numpy as np\n",
    "from lmfit import Model\n",
    "from lmfit.models import GaussianModel, ConstantModel\n",
    "import matplotlib.pyplot as plt\n",
    "\n",
    "xval = np.array(x)\n",
    "yval = np.array(y)\n",
    "#err = np.array(e)\n",
    "\n",
    "peak = GaussianModel()\n",
    "offset = ConstantModel()\n",
    "model = peak + offset\n",
    "\n",
    "pars = offset.make_params(c=np.median(y))\n",
    "pars += peak.guess(yval, x=xval, amplitude=-0.5)\n",
    "\n",
    "result = model.fit(yval, pars, x=xval) # , weights=1/err\n",
    "print(result.fit_report())\n",
    "\n",
    "plt.plot(xval, yval, 'ro', ms=6)\n",
    "plt.plot(xval, result.best_fit, 'b--')\n",
    "\n",
    "\n",
    "\n"
   ]
  },
  {
   "cell_type": "code",
   "execution_count": null,
   "metadata": {},
   "outputs": [],
   "source": [
    "import numpy as np\n",
    "from lmfit import Model\n",
    "from lmfit.models import GaussianModel, ConstantModel\n",
    "import matplotlib.pyplot as plt\n",
    "\n",
    "xval = np.array(data_laiwu['distance'])\n",
    "yval = np.array(data_laiwu['xco2'])\n",
    "err = np.array(data_laiwu['xco2_uncert'])\n",
    "\n",
    "peak = GaussianModel()\n",
    "offset = ConstantModel()\n",
    "model = peak + offset\n",
    "\n",
    "pars = offset.make_params(c=np.median(y))\n",
    "pars += peak.guess(yval, x=xval, amplitude=-5)\n",
    "print(pars)\n",
    "result = model.fit(yval, pars, x=xval, weights=1/err)\n",
    "print(result.fit_report())\n",
    "\n",
    "plt.plot(xval, yval, 'ro', ms=6)\n",
    "plt.plot(xval, result.best_fit, 'b--')"
   ]
  },
  {
   "cell_type": "code",
   "execution_count": null,
   "metadata": {},
   "outputs": [],
   "source": [
    "\n",
    "# <examples/doc_model_gaussian.py>\n",
    "import matplotlib.pyplot as plt\n",
    "from numpy import exp, loadtxt, pi, sqrt\n",
    "\n",
    "from lmfit import Model\n",
    "\n",
    "x = data_laiwu['distance']\n",
    "y = data_laiwu['xco2']\n",
    "\n",
    "def gaussian(x, amp, cen, wid):\n",
    "    \"\"\"1-d gaussian: gaussian(x, amp, cen, wid)\"\"\"\n",
    "    return (amp / (sqrt(2*pi) * wid)) * exp(-(x-cen)**2 / (2*wid**2))\n",
    "\n",
    "gmodel = Model(gaussian)\n",
    "print('parameter names: {}'.format(gmodel.param_names))\n",
    "print('independent variables: {}'.format(gmodel.independent_vars))\n",
    "result = gmodel.fit(y, x=x, amp=500, cen=402, wid=1)\n",
    "\n",
    "print(result.fit_report())\n",
    "\n",
    "plt.plot(x, y, 'bo')\n",
    "plt.plot(x, result.init_fit, 'k--', label='initial fit')\n",
    "plt.plot(x, result.best_fit, 'r-', label='best fit')\n",
    "plt.legend(loc='best')\n",
    "plt.show()"
   ]
  },
  {
   "cell_type": "code",
   "execution_count": null,
   "metadata": {
    "colab": {
     "base_uri": "https://localhost:8080/",
     "height": 528
    },
    "colab_type": "code",
    "id": "OA_7ottok2X1",
    "outputId": "c7199ba6-c896-40bf-bbfe-6762d17e25b1"
   },
   "outputs": [],
   "source": [
    "# We retrieve the Figure 2.A\n",
    "draw_map(data_laiwu, lon_min=70, lon_max=140, lat_min=15, lat_max=55, frontier=True, size_point=5)"
   ]
  },
  {
   "cell_type": "code",
   "execution_count": null,
   "metadata": {
    "colab": {
     "base_uri": "https://localhost:8080/",
     "height": 578
    },
    "colab_type": "code",
    "id": "9MT4Hxxbk2X9",
    "outputId": "64d24393-2964-4eca-e926-8f79235d30e4"
   },
   "outputs": [],
   "source": [
    "# We represent the observation zoomed on Anshan\n",
    "draw_map(data_laiwu, lon_min=116.5, lon_max=118.2, lat_min=35.4, lat_max=37.1, frontier=True, size_point=5)"
   ]
  },
  {
   "cell_type": "markdown",
   "metadata": {},
   "source": [
    "# Switch to Cartopy"
   ]
  },
  {
   "cell_type": "code",
   "execution_count": null,
   "metadata": {},
   "outputs": [],
   "source": [
    "# import matplotlib.pyplot as plt\n",
    "# import numpy as np\n",
    "\n",
    "# import cartopy.crs as ccrs\n",
    "# import cartopy.feature as cfeature\n",
    "\n",
    "\n",
    "# def sample_data(shape=(20, 30)):\n",
    "#     \"\"\"\n",
    "#     Return ``(x, y, u, v, crs)`` of some vector data\n",
    "#     computed mathematically. The returned crs will be a rotated\n",
    "#     pole CRS, meaning that the vectors will be unevenly spaced in\n",
    "#     regular PlateCarree space.\n",
    "\n",
    "#     \"\"\"\n",
    "#     crs = ccrs.RotatedPole(pole_longitude=177.5, pole_latitude=37.5)\n",
    "\n",
    "#     x = np.linspace(311.9, 391.1, shape[1])\n",
    "#     y = np.linspace(-23.6, 24.8, shape[0])\n",
    "\n",
    "#     x2d, y2d = np.meshgrid(x, y)\n",
    "#     u = 10 * (2 * np.cos(2 * np.deg2rad(x2d) + 3 * np.deg2rad(y2d + 30)) ** 2)\n",
    "#     v = 20 * np.cos(6 * np.deg2rad(x2d))\n",
    "\n",
    "#     return x, y, u, v, crs\n",
    "\n",
    "\n",
    "# def main():\n",
    "#     fig = plt.figure()\n",
    "#     ax = fig.add_subplot(1, 1, 1, projection=ccrs.Orthographic(-10, 45))\n",
    "\n",
    "#     ax.add_feature(cfeature.OCEAN, zorder=0)\n",
    "#     ax.add_feature(cfeature.LAND, zorder=0, edgecolor='black')\n",
    "\n",
    "#     ax.set_global()\n",
    "#     ax.gridlines()\n",
    "\n",
    "#     x, y, u, v, vector_crs = sample_data()\n",
    "#     ax.quiver(x, y, u, v, transform=vector_crs)\n",
    "\n",
    "#     plt.show()\n",
    "\n",
    "\n",
    "# if __name__ == '__main__':\n",
    "#     main()"
   ]
  },
  {
   "cell_type": "markdown",
   "metadata": {
    "colab_type": "text",
    "id": "zxvdHXrXk2YG"
   },
   "source": [
    "---"
   ]
  },
  {
   "cell_type": "markdown",
   "metadata": {
    "colab_type": "text",
    "id": "WJZ8lYVpoh6z"
   },
   "source": [
    "## Show Data on the map"
   ]
  },
  {
   "cell_type": "markdown",
   "metadata": {
    "colab_type": "text",
    "id": "qmAFHlbMoh6w"
   },
   "source": [
    "##### **draw_map**: Function to draw the map and the observations (relief style). The column names can be specified in the arguments.\n",
    "\n",
    "*Parameters*: \n",
    "\n",
    "*   (DataFrame) data: the dataset to map.\n",
    "*   (string) **x** : the name of the longitude column. *default: 'longitide'*\n",
    "*   (string) **y**: the name of the latitude column. *default: 'latitude'*\n",
    "*   (string) **c**: the name of the XCO2 column (or other measure wanted to be plotted). *default: 'xco2'*\n",
    "*   (int) **lon_min** : the minimum longitude. *default: -180*\n",
    "*   (int) **lon_max**: the maximum longitude. *default: 180*\n",
    "*   (int) **lat_min**: the minimum latitude. *default: -90*\n",
    "*   (int) **lat_max**: the maximum latitude. *default: 90*\n",
    "*   (int) **size_point**: size of the point to plot (useful if we zoom in). *default: 1*\n",
    "*   (Bool) **frontier**: whether or not to draw the countries borders. *default: False*\n",
    "\n"
   ]
  },
  {
   "cell_type": "code",
   "execution_count": null,
   "metadata": {
    "colab": {},
    "colab_type": "code",
    "id": "iJqRFZHioh6i"
   },
   "outputs": [],
   "source": [
    "def draw_map(data, x=\"longitude\", y=\"latitude\", c=\"xco2\", lon_min=-180, lon_max=180, lat_min=-90, lat_max=90, size_point=1, frontier=False):\n",
    "\n",
    "    plt.figure(figsize=(15, 10), edgecolor='w')\n",
    "    m = Basemap(llcrnrlat=lat_min, urcrnrlat=lat_max, llcrnrlon=lon_min, urcrnrlon=lon_max)\n",
    "    \n",
    "    m.shadedrelief()\n",
    "    \n",
    "    parallels = np.arange(-80.,81,10.)\n",
    "    m.drawparallels(parallels,labels=[False,True,True,False])\n",
    "\n",
    "    meridians = np.arange(10.,351.,20.)\n",
    "    m.drawmeridians(meridians,labels=[True,False,False,True])\n",
    "\n",
    "    normal = matplotlib.colors.LogNorm(vmin=data[c].min(), vmax=data[c].max())\n",
    "\n",
    "    m.scatter(data[x], data[y], c=data[c], cmap=plt.cm.jet, s=size_point, norm=normal)\n",
    "\n",
    "    if (frontier):\n",
    "      m.drawcountries(linewidth=0.5)\n",
    "      m.drawcoastlines(linewidth=0.7)\n",
    "\n",
    "    plt.show()"
   ]
  }
 ],
 "metadata": {
  "colab": {
   "collapsed_sections": [],
   "name": "04_02_OCO2_China_Peaks.ipynb",
   "provenance": [],
   "toc_visible": true
  },
  "kernelspec": {
   "display_name": "Python 3",
   "language": "python",
   "name": "python3"
  },
  "language_info": {
   "codemirror_mode": {
    "name": "ipython",
    "version": 3
   },
   "file_extension": ".py",
   "mimetype": "text/x-python",
   "name": "python",
   "nbconvert_exporter": "python",
   "pygments_lexer": "ipython3",
   "version": "3.7.6"
  }
 },
 "nbformat": 4,
 "nbformat_minor": 1
}
