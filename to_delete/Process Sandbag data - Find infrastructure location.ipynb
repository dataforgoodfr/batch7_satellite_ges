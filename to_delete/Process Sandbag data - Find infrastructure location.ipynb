{
 "cells": [
  {
   "cell_type": "markdown",
   "metadata": {},
   "source": [
    "This script enables to find the location of ETS infrastructure (provided by Sandbag) using OpenStreetMap via the GeoPy module."
   ]
  },
  {
   "cell_type": "code",
   "execution_count": 1,
   "metadata": {
    "colab": {},
    "colab_type": "code",
    "id": "Mfiw_dKjcsv6"
   },
   "outputs": [],
   "source": [
    "import numpy as np\n",
    "import pandas as pd"
   ]
  },
  {
   "cell_type": "code",
   "execution_count": 2,
   "metadata": {
    "colab": {},
    "colab_type": "code",
    "id": "eIvdnt1YW-KU"
   },
   "outputs": [],
   "source": [
    "from time import sleep"
   ]
  },
  {
   "cell_type": "markdown",
   "metadata": {},
   "source": [
    "# Import Sandbag data"
   ]
  },
  {
   "cell_type": "code",
   "execution_count": 3,
   "metadata": {
    "colab": {},
    "colab_type": "code",
    "id": "9dALye0_SQCf"
   },
   "outputs": [],
   "source": [
    "path_sandbag = r'C:\\Users\\amelie.dubourg\\Desktop\\Personnel\\Data for Good\\Sandbag\\Sandbag Export Emissions2019.csv'"
   ]
  },
  {
   "cell_type": "code",
   "execution_count": 4,
   "metadata": {
    "colab": {
     "base_uri": "https://localhost:8080/",
     "height": 384
    },
    "colab_type": "code",
    "id": "9v8_dsCEdFZd",
    "outputId": "f9d44024-32c0-4ec5-8fca-0288f16321ed"
   },
   "outputs": [
    {
     "data": {
      "text/html": [
       "<div>\n",
       "<style scoped>\n",
       "    .dataframe tbody tr th:only-of-type {\n",
       "        vertical-align: middle;\n",
       "    }\n",
       "\n",
       "    .dataframe tbody tr th {\n",
       "        vertical-align: top;\n",
       "    }\n",
       "\n",
       "    .dataframe thead th {\n",
       "        text-align: right;\n",
       "    }\n",
       "</style>\n",
       "<table border=\"1\" class=\"dataframe\">\n",
       "  <thead>\n",
       "    <tr style=\"text-align: right;\">\n",
       "      <th></th>\n",
       "      <th>InstallationNumber</th>\n",
       "      <th>InstallationName</th>\n",
       "      <th>Key</th>\n",
       "      <th>RegCtryName</th>\n",
       "      <th>SandbagSector</th>\n",
       "      <th>tCO2e</th>\n",
       "      <th>InstallationLatitude</th>\n",
       "      <th>InstallationLongtitude</th>\n",
       "      <th>InstallationPostCode</th>\n",
       "      <th>InstallationCity</th>\n",
       "      <th>InstallationAddress1</th>\n",
       "      <th>InstallationAddress2</th>\n",
       "      <th>MainActivityType</th>\n",
       "      <th>ClassDescription</th>\n",
       "      <th>NACE</th>\n",
       "      <th>Period</th>\n",
       "      <th>RecScr</th>\n",
       "    </tr>\n",
       "  </thead>\n",
       "  <tbody>\n",
       "    <tr>\n",
       "      <th>0</th>\n",
       "      <td>1.0</td>\n",
       "      <td>Baumit Baustoffe Bad Ischl</td>\n",
       "      <td>AT 1</td>\n",
       "      <td>Austria</td>\n",
       "      <td>Cement and Lime</td>\n",
       "      <td>46415</td>\n",
       "      <td>NaN</td>\n",
       "      <td>NaN</td>\n",
       "      <td>4820</td>\n",
       "      <td>Bad Ischl</td>\n",
       "      <td>Rettenbach 143</td>\n",
       "      <td>NaN</td>\n",
       "      <td>Production of lime, or calcination of dolomite...</td>\n",
       "      <td>Manufacture of lime and plaster</td>\n",
       "      <td>23.52</td>\n",
       "      <td>2019.0</td>\n",
       "      <td>20200415 Data Release</td>\n",
       "    </tr>\n",
       "    <tr>\n",
       "      <th>1</th>\n",
       "      <td>10.0</td>\n",
       "      <td>Vetropack Pöchlarn</td>\n",
       "      <td>AT 10</td>\n",
       "      <td>Austria</td>\n",
       "      <td>Glass</td>\n",
       "      <td>59982</td>\n",
       "      <td>NaN</td>\n",
       "      <td>NaN</td>\n",
       "      <td>3380</td>\n",
       "      <td>Pöchlarn</td>\n",
       "      <td>Manker Strasse 49</td>\n",
       "      <td>NaN</td>\n",
       "      <td>Manufacture of glass</td>\n",
       "      <td>Manufacture of hollow glass</td>\n",
       "      <td>23.13</td>\n",
       "      <td>2019.0</td>\n",
       "      <td>20200415 Data Release</td>\n",
       "    </tr>\n",
       "    <tr>\n",
       "      <th>2</th>\n",
       "      <td>101.0</td>\n",
       "      <td>Verbund FHKW Werndorf 2 Wildon</td>\n",
       "      <td>AT 101</td>\n",
       "      <td>Austria</td>\n",
       "      <td>Power and heat</td>\n",
       "      <td>187</td>\n",
       "      <td>NaN</td>\n",
       "      <td>NaN</td>\n",
       "      <td>8410</td>\n",
       "      <td>Neudorf ob Wildon</td>\n",
       "      <td>Weisseneggweg 1</td>\n",
       "      <td>NaN</td>\n",
       "      <td>Combustion of fuels</td>\n",
       "      <td>Production of electricity</td>\n",
       "      <td>35.11</td>\n",
       "      <td>2019.0</td>\n",
       "      <td>20200415 Data Release</td>\n",
       "    </tr>\n",
       "    <tr>\n",
       "      <th>3</th>\n",
       "      <td>103.0</td>\n",
       "      <td>Kelag Wärme St. Magdalen</td>\n",
       "      <td>AT 103</td>\n",
       "      <td>Austria</td>\n",
       "      <td>Power and heat</td>\n",
       "      <td>6218</td>\n",
       "      <td>NaN</td>\n",
       "      <td>NaN</td>\n",
       "      <td>9524</td>\n",
       "      <td>St. Magdalen</td>\n",
       "      <td>Europastrasse 2</td>\n",
       "      <td>NaN</td>\n",
       "      <td>Combustion of fuels</td>\n",
       "      <td>Steam and air conditioning supply</td>\n",
       "      <td>35.30</td>\n",
       "      <td>2019.0</td>\n",
       "      <td>20200415 Data Release</td>\n",
       "    </tr>\n",
       "    <tr>\n",
       "      <th>4</th>\n",
       "      <td>104.0</td>\n",
       "      <td>Kelag Wärme Prolactal Hartberg</td>\n",
       "      <td>AT 104</td>\n",
       "      <td>Austria</td>\n",
       "      <td>Power and heat</td>\n",
       "      <td>1461</td>\n",
       "      <td>NaN</td>\n",
       "      <td>NaN</td>\n",
       "      <td>8230</td>\n",
       "      <td>Hartberg</td>\n",
       "      <td>Ferd. Leihsstrasse 40</td>\n",
       "      <td>NaN</td>\n",
       "      <td>Combustion of fuels</td>\n",
       "      <td>Steam and air conditioning supply</td>\n",
       "      <td>35.30</td>\n",
       "      <td>2019.0</td>\n",
       "      <td>20200415 Data Release</td>\n",
       "    </tr>\n",
       "  </tbody>\n",
       "</table>\n",
       "</div>"
      ],
      "text/plain": [
       "   InstallationNumber                InstallationName     Key RegCtryName  \\\n",
       "0                 1.0      Baumit Baustoffe Bad Ischl    AT 1     Austria   \n",
       "1                10.0              Vetropack Pöchlarn   AT 10     Austria   \n",
       "2               101.0  Verbund FHKW Werndorf 2 Wildon  AT 101     Austria   \n",
       "3               103.0        Kelag Wärme St. Magdalen  AT 103     Austria   \n",
       "4               104.0  Kelag Wärme Prolactal Hartberg  AT 104     Austria   \n",
       "\n",
       "     SandbagSector  tCO2e  InstallationLatitude  InstallationLongtitude  \\\n",
       "0  Cement and Lime  46415                   NaN                     NaN   \n",
       "1            Glass  59982                   NaN                     NaN   \n",
       "2   Power and heat    187                   NaN                     NaN   \n",
       "3   Power and heat   6218                   NaN                     NaN   \n",
       "4   Power and heat   1461                   NaN                     NaN   \n",
       "\n",
       "  InstallationPostCode   InstallationCity   InstallationAddress1  \\\n",
       "0                 4820          Bad Ischl         Rettenbach 143   \n",
       "1                 3380           Pöchlarn      Manker Strasse 49   \n",
       "2                 8410  Neudorf ob Wildon        Weisseneggweg 1   \n",
       "3                 9524       St. Magdalen        Europastrasse 2   \n",
       "4                 8230           Hartberg  Ferd. Leihsstrasse 40   \n",
       "\n",
       "  InstallationAddress2                                   MainActivityType  \\\n",
       "0                  NaN  Production of lime, or calcination of dolomite...   \n",
       "1                  NaN                               Manufacture of glass   \n",
       "2                  NaN                                Combustion of fuels   \n",
       "3                  NaN                                Combustion of fuels   \n",
       "4                  NaN                                Combustion of fuels   \n",
       "\n",
       "                    ClassDescription   NACE  Period                 RecScr  \n",
       "0    Manufacture of lime and plaster  23.52  2019.0  20200415 Data Release  \n",
       "1        Manufacture of hollow glass  23.13  2019.0  20200415 Data Release  \n",
       "2          Production of electricity  35.11  2019.0  20200415 Data Release  \n",
       "3  Steam and air conditioning supply  35.30  2019.0  20200415 Data Release  \n",
       "4  Steam and air conditioning supply  35.30  2019.0  20200415 Data Release  "
      ]
     },
     "execution_count": 4,
     "metadata": {},
     "output_type": "execute_result"
    }
   ],
   "source": [
    "sandbag_data = pd.read_csv(path_sandbag, sep=\";\", encoding='latin1')\n",
    "sandbag_data.head()"
   ]
  },
  {
   "cell_type": "code",
   "execution_count": 5,
   "metadata": {
    "colab": {
     "base_uri": "https://localhost:8080/",
     "height": 33
    },
    "colab_type": "code",
    "id": "pvZhp6ZtW4-t",
    "outputId": "cf7f6fbd-db60-4f2a-8294-acced371de02"
   },
   "outputs": [
    {
     "data": {
      "text/plain": [
       "(10555, 17)"
      ]
     },
     "execution_count": 5,
     "metadata": {},
     "output_type": "execute_result"
    }
   ],
   "source": [
    "sandbag_data.shape"
   ]
  },
  {
   "cell_type": "markdown",
   "metadata": {},
   "source": [
    "Remove infrastructure from the aviation sector as CO2e emissions are not localised."
   ]
  },
  {
   "cell_type": "code",
   "execution_count": 6,
   "metadata": {
    "colab": {},
    "colab_type": "code",
    "id": "nVDwttd-3bBf"
   },
   "outputs": [],
   "source": [
    "sandbag_data = sandbag_data[sandbag_data['SandbagSector']!='Aviation']"
   ]
  },
  {
   "cell_type": "code",
   "execution_count": 7,
   "metadata": {
    "colab": {
     "base_uri": "https://localhost:8080/",
     "height": 33
    },
    "colab_type": "code",
    "id": "vFPNoBgP3dgg",
    "outputId": "2fc78dcb-77d2-44a1-f873-b7f94badbd59"
   },
   "outputs": [
    {
     "data": {
      "text/plain": [
       "(10077, 17)"
      ]
     },
     "execution_count": 7,
     "metadata": {},
     "output_type": "execute_result"
    }
   ],
   "source": [
    "sandbag_data.shape"
   ]
  },
  {
   "cell_type": "code",
   "execution_count": 8,
   "metadata": {
    "colab": {},
    "colab_type": "code",
    "id": "2xcgDJuH45iX"
   },
   "outputs": [],
   "source": [
    "sandbag_data['InstallationAddress1'] = sandbag_data['InstallationAddress1'].fillna('')\n",
    "sandbag_data['InstallationAddress2'] = sandbag_data['InstallationAddress2'].fillna('')"
   ]
  },
  {
   "cell_type": "code",
   "execution_count": 9,
   "metadata": {
    "colab": {},
    "colab_type": "code",
    "id": "XhX-XG0zdHJb"
   },
   "outputs": [],
   "source": [
    "sandbag_data['full_address'] = sandbag_data['InstallationAddress1'] + ' ' + sandbag_data['InstallationAddress2'] + ' ' + sandbag_data['InstallationPostCode'] + ' ' + sandbag_data['InstallationCity'] + ' ' + sandbag_data['RegCtryName']\n",
    "sandbag_data['city_address'] = sandbag_data['InstallationPostCode'] + ' ' + sandbag_data['InstallationCity'] + ' ' + sandbag_data['RegCtryName']"
   ]
  },
  {
   "cell_type": "code",
   "execution_count": 10,
   "metadata": {
    "colab": {
     "base_uri": "https://localhost:8080/",
     "height": 434
    },
    "colab_type": "code",
    "id": "JKtapIRicn-y",
    "outputId": "e5cda1b2-5806-4481-86a7-8c4652e98073"
   },
   "outputs": [
    {
     "data": {
      "text/html": [
       "<div>\n",
       "<style scoped>\n",
       "    .dataframe tbody tr th:only-of-type {\n",
       "        vertical-align: middle;\n",
       "    }\n",
       "\n",
       "    .dataframe tbody tr th {\n",
       "        vertical-align: top;\n",
       "    }\n",
       "\n",
       "    .dataframe thead th {\n",
       "        text-align: right;\n",
       "    }\n",
       "</style>\n",
       "<table border=\"1\" class=\"dataframe\">\n",
       "  <thead>\n",
       "    <tr style=\"text-align: right;\">\n",
       "      <th></th>\n",
       "      <th>InstallationNumber</th>\n",
       "      <th>InstallationName</th>\n",
       "      <th>Key</th>\n",
       "      <th>RegCtryName</th>\n",
       "      <th>SandbagSector</th>\n",
       "      <th>tCO2e</th>\n",
       "      <th>InstallationLatitude</th>\n",
       "      <th>InstallationLongtitude</th>\n",
       "      <th>InstallationPostCode</th>\n",
       "      <th>InstallationCity</th>\n",
       "      <th>InstallationAddress1</th>\n",
       "      <th>InstallationAddress2</th>\n",
       "      <th>MainActivityType</th>\n",
       "      <th>ClassDescription</th>\n",
       "      <th>NACE</th>\n",
       "      <th>Period</th>\n",
       "      <th>RecScr</th>\n",
       "      <th>full_address</th>\n",
       "      <th>city_address</th>\n",
       "    </tr>\n",
       "  </thead>\n",
       "  <tbody>\n",
       "    <tr>\n",
       "      <th>0</th>\n",
       "      <td>1.0</td>\n",
       "      <td>Baumit Baustoffe Bad Ischl</td>\n",
       "      <td>AT 1</td>\n",
       "      <td>Austria</td>\n",
       "      <td>Cement and Lime</td>\n",
       "      <td>46415</td>\n",
       "      <td>NaN</td>\n",
       "      <td>NaN</td>\n",
       "      <td>4820</td>\n",
       "      <td>Bad Ischl</td>\n",
       "      <td>Rettenbach 143</td>\n",
       "      <td></td>\n",
       "      <td>Production of lime, or calcination of dolomite...</td>\n",
       "      <td>Manufacture of lime and plaster</td>\n",
       "      <td>23.52</td>\n",
       "      <td>2019.0</td>\n",
       "      <td>20200415 Data Release</td>\n",
       "      <td>Rettenbach 143  4820 Bad Ischl Austria</td>\n",
       "      <td>4820 Bad Ischl Austria</td>\n",
       "    </tr>\n",
       "    <tr>\n",
       "      <th>1</th>\n",
       "      <td>10.0</td>\n",
       "      <td>Vetropack Pöchlarn</td>\n",
       "      <td>AT 10</td>\n",
       "      <td>Austria</td>\n",
       "      <td>Glass</td>\n",
       "      <td>59982</td>\n",
       "      <td>NaN</td>\n",
       "      <td>NaN</td>\n",
       "      <td>3380</td>\n",
       "      <td>Pöchlarn</td>\n",
       "      <td>Manker Strasse 49</td>\n",
       "      <td></td>\n",
       "      <td>Manufacture of glass</td>\n",
       "      <td>Manufacture of hollow glass</td>\n",
       "      <td>23.13</td>\n",
       "      <td>2019.0</td>\n",
       "      <td>20200415 Data Release</td>\n",
       "      <td>Manker Strasse 49  3380 Pöchlarn Austria</td>\n",
       "      <td>3380 Pöchlarn Austria</td>\n",
       "    </tr>\n",
       "    <tr>\n",
       "      <th>2</th>\n",
       "      <td>101.0</td>\n",
       "      <td>Verbund FHKW Werndorf 2 Wildon</td>\n",
       "      <td>AT 101</td>\n",
       "      <td>Austria</td>\n",
       "      <td>Power and heat</td>\n",
       "      <td>187</td>\n",
       "      <td>NaN</td>\n",
       "      <td>NaN</td>\n",
       "      <td>8410</td>\n",
       "      <td>Neudorf ob Wildon</td>\n",
       "      <td>Weisseneggweg 1</td>\n",
       "      <td></td>\n",
       "      <td>Combustion of fuels</td>\n",
       "      <td>Production of electricity</td>\n",
       "      <td>35.11</td>\n",
       "      <td>2019.0</td>\n",
       "      <td>20200415 Data Release</td>\n",
       "      <td>Weisseneggweg 1  8410 Neudorf ob Wildon Austria</td>\n",
       "      <td>8410 Neudorf ob Wildon Austria</td>\n",
       "    </tr>\n",
       "    <tr>\n",
       "      <th>3</th>\n",
       "      <td>103.0</td>\n",
       "      <td>Kelag Wärme St. Magdalen</td>\n",
       "      <td>AT 103</td>\n",
       "      <td>Austria</td>\n",
       "      <td>Power and heat</td>\n",
       "      <td>6218</td>\n",
       "      <td>NaN</td>\n",
       "      <td>NaN</td>\n",
       "      <td>9524</td>\n",
       "      <td>St. Magdalen</td>\n",
       "      <td>Europastrasse 2</td>\n",
       "      <td></td>\n",
       "      <td>Combustion of fuels</td>\n",
       "      <td>Steam and air conditioning supply</td>\n",
       "      <td>35.30</td>\n",
       "      <td>2019.0</td>\n",
       "      <td>20200415 Data Release</td>\n",
       "      <td>Europastrasse 2  9524 St. Magdalen Austria</td>\n",
       "      <td>9524 St. Magdalen Austria</td>\n",
       "    </tr>\n",
       "    <tr>\n",
       "      <th>4</th>\n",
       "      <td>104.0</td>\n",
       "      <td>Kelag Wärme Prolactal Hartberg</td>\n",
       "      <td>AT 104</td>\n",
       "      <td>Austria</td>\n",
       "      <td>Power and heat</td>\n",
       "      <td>1461</td>\n",
       "      <td>NaN</td>\n",
       "      <td>NaN</td>\n",
       "      <td>8230</td>\n",
       "      <td>Hartberg</td>\n",
       "      <td>Ferd. Leihsstrasse 40</td>\n",
       "      <td></td>\n",
       "      <td>Combustion of fuels</td>\n",
       "      <td>Steam and air conditioning supply</td>\n",
       "      <td>35.30</td>\n",
       "      <td>2019.0</td>\n",
       "      <td>20200415 Data Release</td>\n",
       "      <td>Ferd. Leihsstrasse 40  8230 Hartberg Austria</td>\n",
       "      <td>8230 Hartberg Austria</td>\n",
       "    </tr>\n",
       "  </tbody>\n",
       "</table>\n",
       "</div>"
      ],
      "text/plain": [
       "   InstallationNumber                InstallationName     Key RegCtryName  \\\n",
       "0                 1.0      Baumit Baustoffe Bad Ischl    AT 1     Austria   \n",
       "1                10.0              Vetropack Pöchlarn   AT 10     Austria   \n",
       "2               101.0  Verbund FHKW Werndorf 2 Wildon  AT 101     Austria   \n",
       "3               103.0        Kelag Wärme St. Magdalen  AT 103     Austria   \n",
       "4               104.0  Kelag Wärme Prolactal Hartberg  AT 104     Austria   \n",
       "\n",
       "     SandbagSector  tCO2e  InstallationLatitude  InstallationLongtitude  \\\n",
       "0  Cement and Lime  46415                   NaN                     NaN   \n",
       "1            Glass  59982                   NaN                     NaN   \n",
       "2   Power and heat    187                   NaN                     NaN   \n",
       "3   Power and heat   6218                   NaN                     NaN   \n",
       "4   Power and heat   1461                   NaN                     NaN   \n",
       "\n",
       "  InstallationPostCode   InstallationCity   InstallationAddress1  \\\n",
       "0                 4820          Bad Ischl         Rettenbach 143   \n",
       "1                 3380           Pöchlarn      Manker Strasse 49   \n",
       "2                 8410  Neudorf ob Wildon        Weisseneggweg 1   \n",
       "3                 9524       St. Magdalen        Europastrasse 2   \n",
       "4                 8230           Hartberg  Ferd. Leihsstrasse 40   \n",
       "\n",
       "  InstallationAddress2                                   MainActivityType  \\\n",
       "0                       Production of lime, or calcination of dolomite...   \n",
       "1                                                    Manufacture of glass   \n",
       "2                                                     Combustion of fuels   \n",
       "3                                                     Combustion of fuels   \n",
       "4                                                     Combustion of fuels   \n",
       "\n",
       "                    ClassDescription   NACE  Period                 RecScr  \\\n",
       "0    Manufacture of lime and plaster  23.52  2019.0  20200415 Data Release   \n",
       "1        Manufacture of hollow glass  23.13  2019.0  20200415 Data Release   \n",
       "2          Production of electricity  35.11  2019.0  20200415 Data Release   \n",
       "3  Steam and air conditioning supply  35.30  2019.0  20200415 Data Release   \n",
       "4  Steam and air conditioning supply  35.30  2019.0  20200415 Data Release   \n",
       "\n",
       "                                      full_address  \\\n",
       "0           Rettenbach 143  4820 Bad Ischl Austria   \n",
       "1         Manker Strasse 49  3380 Pöchlarn Austria   \n",
       "2  Weisseneggweg 1  8410 Neudorf ob Wildon Austria   \n",
       "3       Europastrasse 2  9524 St. Magdalen Austria   \n",
       "4     Ferd. Leihsstrasse 40  8230 Hartberg Austria   \n",
       "\n",
       "                     city_address  \n",
       "0          4820 Bad Ischl Austria  \n",
       "1           3380 Pöchlarn Austria  \n",
       "2  8410 Neudorf ob Wildon Austria  \n",
       "3       9524 St. Magdalen Austria  \n",
       "4           8230 Hartberg Austria  "
      ]
     },
     "execution_count": 10,
     "metadata": {},
     "output_type": "execute_result"
    }
   ],
   "source": [
    "sandbag_data.head()"
   ]
  },
  {
   "cell_type": "code",
   "execution_count": 11,
   "metadata": {
    "colab": {},
    "colab_type": "code",
    "id": "sVdU5qCn36j_"
   },
   "outputs": [],
   "source": [
    "sandbag_data = sandbag_data[pd.notna(sandbag_data['full_address'])]"
   ]
  },
  {
   "cell_type": "code",
   "execution_count": 12,
   "metadata": {
    "colab": {
     "base_uri": "https://localhost:8080/",
     "height": 33
    },
    "colab_type": "code",
    "id": "6xuIUkqj2PDq",
    "outputId": "696dcbf3-6f20-4de1-dd41-dbcaf2d56991"
   },
   "outputs": [
    {
     "data": {
      "text/plain": [
       "(9969, 19)"
      ]
     },
     "execution_count": 12,
     "metadata": {},
     "output_type": "execute_result"
    }
   ],
   "source": [
    "sandbag_data.shape"
   ]
  },
  {
   "cell_type": "code",
   "execution_count": 13,
   "metadata": {
    "colab": {},
    "colab_type": "code",
    "id": "w_PQGTjR5khD"
   },
   "outputs": [],
   "source": [
    "sandbag_data = sandbag_data[pd.notna(sandbag_data['city_address'])]"
   ]
  },
  {
   "cell_type": "code",
   "execution_count": 14,
   "metadata": {
    "colab": {
     "base_uri": "https://localhost:8080/",
     "height": 33
    },
    "colab_type": "code",
    "id": "PrS6uY3o4L3Z",
    "outputId": "4eaedbf2-56b5-4abe-da7f-553d8e7e270e"
   },
   "outputs": [
    {
     "data": {
      "text/plain": [
       "(9969, 19)"
      ]
     },
     "execution_count": 14,
     "metadata": {},
     "output_type": "execute_result"
    }
   ],
   "source": [
    "sandbag_data.shape"
   ]
  },
  {
   "cell_type": "code",
   "execution_count": 15,
   "metadata": {
    "colab": {
     "base_uri": "https://localhost:8080/",
     "height": 50
    },
    "colab_type": "code",
    "id": "VbV4VEDId_cA",
    "outputId": "71b04de9-fd47-4dc9-8624-56c9e8a339af"
   },
   "outputs": [
    {
     "name": "stdout",
     "output_type": "stream",
     "text": [
      "Requirement already satisfied: geopy in c:\\users\\amelie.dubourg\\anaconda3\\lib\\site-packages (1.22.0)\n",
      "Requirement already satisfied: geographiclib<2,>=1.49 in c:\\users\\amelie.dubourg\\anaconda3\\lib\\site-packages (from geopy) (1.50)\n",
      "Note: you may need to restart the kernel to use updated packages.\n"
     ]
    }
   ],
   "source": [
    "pip install geopy"
   ]
  },
  {
   "cell_type": "code",
   "execution_count": 16,
   "metadata": {
    "colab": {},
    "colab_type": "code",
    "id": "Hg7xO_WRq74r"
   },
   "outputs": [],
   "source": [
    "from geopy.geocoders import Nominatim"
   ]
  },
  {
   "cell_type": "code",
   "execution_count": 17,
   "metadata": {
    "colab": {},
    "colab_type": "code",
    "id": "F8Rezk21SGg0"
   },
   "outputs": [],
   "source": [
    "locator = Nominatim(user_agent=\"myGeocoder\")"
   ]
  },
  {
   "cell_type": "code",
   "execution_count": 18,
   "metadata": {
    "colab": {},
    "colab_type": "code",
    "id": "TYK-EP6RSGg3"
   },
   "outputs": [],
   "source": [
    "from geopy.extra.rate_limiter import RateLimiter"
   ]
  },
  {
   "cell_type": "code",
   "execution_count": 19,
   "metadata": {
    "colab": {},
    "colab_type": "code",
    "id": "7Ab94N5jSGg6"
   },
   "outputs": [],
   "source": [
    "geocode = RateLimiter(locator.geocode, min_delay_seconds=3, error_wait_seconds=5, max_retries=2)"
   ]
  },
  {
   "cell_type": "code",
   "execution_count": 20,
   "metadata": {
    "colab": {
     "base_uri": "https://localhost:8080/",
     "height": 33
    },
    "colab_type": "code",
    "id": "97z_FfKD4AIq",
    "outputId": "40cb7916-7d86-437d-c7d5-c2f7903bf62d"
   },
   "outputs": [
    {
     "data": {
      "text/plain": [
       "9969"
      ]
     },
     "execution_count": 20,
     "metadata": {},
     "output_type": "execute_result"
    }
   ],
   "source": [
    "len(sandbag_data)"
   ]
  },
  {
   "cell_type": "markdown",
   "metadata": {
    "colab_type": "text",
    "id": "svfsGRIVzupN"
   },
   "source": [
    "# Find full address & city address location"
   ]
  },
  {
   "cell_type": "code",
   "execution_count": 21,
   "metadata": {
    "colab": {},
    "colab_type": "code",
    "id": "yQsHRGysSGhF"
   },
   "outputs": [],
   "source": [
    "sandbag_data['full_address_latitude']=np.nan\n",
    "sandbag_data['full_address_longitude']=np.nan\n",
    "sandbag_data['city_address_latitude']=np.nan\n",
    "sandbag_data['city_address_longitude']=np.nan"
   ]
  },
  {
   "cell_type": "code",
   "execution_count": 22,
   "metadata": {
    "colab": {
     "base_uri": "https://localhost:8080/",
     "height": 434
    },
    "colab_type": "code",
    "id": "tXGwGc1e-Wt8",
    "outputId": "bbcd0481-6385-40fb-de37-a6698396011a"
   },
   "outputs": [
    {
     "data": {
      "text/html": [
       "<div>\n",
       "<style scoped>\n",
       "    .dataframe tbody tr th:only-of-type {\n",
       "        vertical-align: middle;\n",
       "    }\n",
       "\n",
       "    .dataframe tbody tr th {\n",
       "        vertical-align: top;\n",
       "    }\n",
       "\n",
       "    .dataframe thead th {\n",
       "        text-align: right;\n",
       "    }\n",
       "</style>\n",
       "<table border=\"1\" class=\"dataframe\">\n",
       "  <thead>\n",
       "    <tr style=\"text-align: right;\">\n",
       "      <th></th>\n",
       "      <th>InstallationNumber</th>\n",
       "      <th>InstallationName</th>\n",
       "      <th>Key</th>\n",
       "      <th>RegCtryName</th>\n",
       "      <th>SandbagSector</th>\n",
       "      <th>tCO2e</th>\n",
       "      <th>InstallationLatitude</th>\n",
       "      <th>InstallationLongtitude</th>\n",
       "      <th>InstallationPostCode</th>\n",
       "      <th>InstallationCity</th>\n",
       "      <th>...</th>\n",
       "      <th>ClassDescription</th>\n",
       "      <th>NACE</th>\n",
       "      <th>Period</th>\n",
       "      <th>RecScr</th>\n",
       "      <th>full_address</th>\n",
       "      <th>city_address</th>\n",
       "      <th>full_address_latitude</th>\n",
       "      <th>full_address_longitude</th>\n",
       "      <th>city_address_latitude</th>\n",
       "      <th>city_address_longitude</th>\n",
       "    </tr>\n",
       "  </thead>\n",
       "  <tbody>\n",
       "    <tr>\n",
       "      <th>0</th>\n",
       "      <td>1.0</td>\n",
       "      <td>Baumit Baustoffe Bad Ischl</td>\n",
       "      <td>AT 1</td>\n",
       "      <td>Austria</td>\n",
       "      <td>Cement and Lime</td>\n",
       "      <td>46415</td>\n",
       "      <td>NaN</td>\n",
       "      <td>NaN</td>\n",
       "      <td>4820</td>\n",
       "      <td>Bad Ischl</td>\n",
       "      <td>...</td>\n",
       "      <td>Manufacture of lime and plaster</td>\n",
       "      <td>23.52</td>\n",
       "      <td>2019.0</td>\n",
       "      <td>20200415 Data Release</td>\n",
       "      <td>Rettenbach 143  4820 Bad Ischl Austria</td>\n",
       "      <td>4820 Bad Ischl Austria</td>\n",
       "      <td>NaN</td>\n",
       "      <td>NaN</td>\n",
       "      <td>NaN</td>\n",
       "      <td>NaN</td>\n",
       "    </tr>\n",
       "    <tr>\n",
       "      <th>1</th>\n",
       "      <td>10.0</td>\n",
       "      <td>Vetropack Pöchlarn</td>\n",
       "      <td>AT 10</td>\n",
       "      <td>Austria</td>\n",
       "      <td>Glass</td>\n",
       "      <td>59982</td>\n",
       "      <td>NaN</td>\n",
       "      <td>NaN</td>\n",
       "      <td>3380</td>\n",
       "      <td>Pöchlarn</td>\n",
       "      <td>...</td>\n",
       "      <td>Manufacture of hollow glass</td>\n",
       "      <td>23.13</td>\n",
       "      <td>2019.0</td>\n",
       "      <td>20200415 Data Release</td>\n",
       "      <td>Manker Strasse 49  3380 Pöchlarn Austria</td>\n",
       "      <td>3380 Pöchlarn Austria</td>\n",
       "      <td>NaN</td>\n",
       "      <td>NaN</td>\n",
       "      <td>NaN</td>\n",
       "      <td>NaN</td>\n",
       "    </tr>\n",
       "    <tr>\n",
       "      <th>2</th>\n",
       "      <td>101.0</td>\n",
       "      <td>Verbund FHKW Werndorf 2 Wildon</td>\n",
       "      <td>AT 101</td>\n",
       "      <td>Austria</td>\n",
       "      <td>Power and heat</td>\n",
       "      <td>187</td>\n",
       "      <td>NaN</td>\n",
       "      <td>NaN</td>\n",
       "      <td>8410</td>\n",
       "      <td>Neudorf ob Wildon</td>\n",
       "      <td>...</td>\n",
       "      <td>Production of electricity</td>\n",
       "      <td>35.11</td>\n",
       "      <td>2019.0</td>\n",
       "      <td>20200415 Data Release</td>\n",
       "      <td>Weisseneggweg 1  8410 Neudorf ob Wildon Austria</td>\n",
       "      <td>8410 Neudorf ob Wildon Austria</td>\n",
       "      <td>NaN</td>\n",
       "      <td>NaN</td>\n",
       "      <td>NaN</td>\n",
       "      <td>NaN</td>\n",
       "    </tr>\n",
       "    <tr>\n",
       "      <th>3</th>\n",
       "      <td>103.0</td>\n",
       "      <td>Kelag Wärme St. Magdalen</td>\n",
       "      <td>AT 103</td>\n",
       "      <td>Austria</td>\n",
       "      <td>Power and heat</td>\n",
       "      <td>6218</td>\n",
       "      <td>NaN</td>\n",
       "      <td>NaN</td>\n",
       "      <td>9524</td>\n",
       "      <td>St. Magdalen</td>\n",
       "      <td>...</td>\n",
       "      <td>Steam and air conditioning supply</td>\n",
       "      <td>35.30</td>\n",
       "      <td>2019.0</td>\n",
       "      <td>20200415 Data Release</td>\n",
       "      <td>Europastrasse 2  9524 St. Magdalen Austria</td>\n",
       "      <td>9524 St. Magdalen Austria</td>\n",
       "      <td>NaN</td>\n",
       "      <td>NaN</td>\n",
       "      <td>NaN</td>\n",
       "      <td>NaN</td>\n",
       "    </tr>\n",
       "    <tr>\n",
       "      <th>4</th>\n",
       "      <td>104.0</td>\n",
       "      <td>Kelag Wärme Prolactal Hartberg</td>\n",
       "      <td>AT 104</td>\n",
       "      <td>Austria</td>\n",
       "      <td>Power and heat</td>\n",
       "      <td>1461</td>\n",
       "      <td>NaN</td>\n",
       "      <td>NaN</td>\n",
       "      <td>8230</td>\n",
       "      <td>Hartberg</td>\n",
       "      <td>...</td>\n",
       "      <td>Steam and air conditioning supply</td>\n",
       "      <td>35.30</td>\n",
       "      <td>2019.0</td>\n",
       "      <td>20200415 Data Release</td>\n",
       "      <td>Ferd. Leihsstrasse 40  8230 Hartberg Austria</td>\n",
       "      <td>8230 Hartberg Austria</td>\n",
       "      <td>NaN</td>\n",
       "      <td>NaN</td>\n",
       "      <td>NaN</td>\n",
       "      <td>NaN</td>\n",
       "    </tr>\n",
       "  </tbody>\n",
       "</table>\n",
       "<p>5 rows × 23 columns</p>\n",
       "</div>"
      ],
      "text/plain": [
       "   InstallationNumber                InstallationName     Key RegCtryName  \\\n",
       "0                 1.0      Baumit Baustoffe Bad Ischl    AT 1     Austria   \n",
       "1                10.0              Vetropack Pöchlarn   AT 10     Austria   \n",
       "2               101.0  Verbund FHKW Werndorf 2 Wildon  AT 101     Austria   \n",
       "3               103.0        Kelag Wärme St. Magdalen  AT 103     Austria   \n",
       "4               104.0  Kelag Wärme Prolactal Hartberg  AT 104     Austria   \n",
       "\n",
       "     SandbagSector  tCO2e  InstallationLatitude  InstallationLongtitude  \\\n",
       "0  Cement and Lime  46415                   NaN                     NaN   \n",
       "1            Glass  59982                   NaN                     NaN   \n",
       "2   Power and heat    187                   NaN                     NaN   \n",
       "3   Power and heat   6218                   NaN                     NaN   \n",
       "4   Power and heat   1461                   NaN                     NaN   \n",
       "\n",
       "  InstallationPostCode   InstallationCity  ...  \\\n",
       "0                 4820          Bad Ischl  ...   \n",
       "1                 3380           Pöchlarn  ...   \n",
       "2                 8410  Neudorf ob Wildon  ...   \n",
       "3                 9524       St. Magdalen  ...   \n",
       "4                 8230           Hartberg  ...   \n",
       "\n",
       "                    ClassDescription   NACE  Period                 RecScr  \\\n",
       "0    Manufacture of lime and plaster  23.52  2019.0  20200415 Data Release   \n",
       "1        Manufacture of hollow glass  23.13  2019.0  20200415 Data Release   \n",
       "2          Production of electricity  35.11  2019.0  20200415 Data Release   \n",
       "3  Steam and air conditioning supply  35.30  2019.0  20200415 Data Release   \n",
       "4  Steam and air conditioning supply  35.30  2019.0  20200415 Data Release   \n",
       "\n",
       "                                      full_address  \\\n",
       "0           Rettenbach 143  4820 Bad Ischl Austria   \n",
       "1         Manker Strasse 49  3380 Pöchlarn Austria   \n",
       "2  Weisseneggweg 1  8410 Neudorf ob Wildon Austria   \n",
       "3       Europastrasse 2  9524 St. Magdalen Austria   \n",
       "4     Ferd. Leihsstrasse 40  8230 Hartberg Austria   \n",
       "\n",
       "                     city_address full_address_latitude  \\\n",
       "0          4820 Bad Ischl Austria                   NaN   \n",
       "1           3380 Pöchlarn Austria                   NaN   \n",
       "2  8410 Neudorf ob Wildon Austria                   NaN   \n",
       "3       9524 St. Magdalen Austria                   NaN   \n",
       "4           8230 Hartberg Austria                   NaN   \n",
       "\n",
       "  full_address_longitude city_address_latitude  city_address_longitude  \n",
       "0                    NaN                   NaN                     NaN  \n",
       "1                    NaN                   NaN                     NaN  \n",
       "2                    NaN                   NaN                     NaN  \n",
       "3                    NaN                   NaN                     NaN  \n",
       "4                    NaN                   NaN                     NaN  \n",
       "\n",
       "[5 rows x 23 columns]"
      ]
     },
     "execution_count": 22,
     "metadata": {},
     "output_type": "execute_result"
    }
   ],
   "source": [
    "sandbag_data.head()"
   ]
  },
  {
   "cell_type": "code",
   "execution_count": 23,
   "metadata": {
    "colab": {},
    "colab_type": "code",
    "id": "ymHKQLfX7may"
   },
   "outputs": [],
   "source": [
    "# Column 17: full address\n",
    "# Column 18: city address\n",
    "# Column 19: full address latitude\n",
    "# Column 20: full address longitude\n",
    "# Column 21: city address latitude\n",
    "# Column 22: city address longitude\n",
    "\n",
    "for i in range(1000):\n",
    "  if pd.notna(locator.geocode(sandbag_data.iloc[i,17], timeout=30)):\n",
    "    sandbag_data.iloc[i,19] = locator.geocode(sandbag_data.iloc[i,17], timeout=30).latitude\n",
    "    sandbag_data.iloc[i,20] = locator.geocode(sandbag_data.iloc[i,17], timeout=30).longitude\n",
    "  elif pd.notna(locator.geocode(sandbag_data.iloc[i,18], timeout=30)):\n",
    "    sandbag_data.iloc[i,21] = locator.geocode(sandbag_data.iloc[i,18], timeout=30).latitude\n",
    "    sandbag_data.iloc[i,22] = locator.geocode(sandbag_data.iloc[i,18], timeout=30).longitude\n",
    "  sleep(1)\n",
    "  i=i+1"
   ]
  },
  {
   "cell_type": "code",
   "execution_count": 24,
   "metadata": {
    "colab": {},
    "colab_type": "code",
    "id": "cDZrk68zlBQe"
   },
   "outputs": [],
   "source": [
    "for i in np.arange(1000,2000,1):\n",
    "  if pd.notna(locator.geocode(sandbag_data.iloc[i,17], timeout=30)):\n",
    "    sandbag_data.iloc[i,19] = locator.geocode(sandbag_data.iloc[i,17], timeout=30).latitude\n",
    "    sandbag_data.iloc[i,20] = locator.geocode(sandbag_data.iloc[i,17], timeout=30).longitude\n",
    "  elif pd.notna(locator.geocode(sandbag_data.iloc[i,18], timeout=30)):\n",
    "    sandbag_data.iloc[i,21] = locator.geocode(sandbag_data.iloc[i,18], timeout=30).latitude\n",
    "    sandbag_data.iloc[i,22] = locator.geocode(sandbag_data.iloc[i,18], timeout=30).longitude\n",
    "  sleep(1)\n",
    "  i=i+1"
   ]
  },
  {
   "cell_type": "code",
   "execution_count": 25,
   "metadata": {
    "colab": {},
    "colab_type": "code",
    "id": "_ayV5DHOumps"
   },
   "outputs": [],
   "source": [
    "for i in np.arange(2000,3000,1):\n",
    "  if pd.notna(locator.geocode(sandbag_data.iloc[i,17], timeout=30)):\n",
    "    sandbag_data.iloc[i,19] = locator.geocode(sandbag_data.iloc[i,17], timeout=30).latitude\n",
    "    sandbag_data.iloc[i,20] = locator.geocode(sandbag_data.iloc[i,17], timeout=30).longitude\n",
    "  elif pd.notna(locator.geocode(sandbag_data.iloc[i,18], timeout=30)):\n",
    "    sandbag_data.iloc[i,21] = locator.geocode(sandbag_data.iloc[i,18], timeout=30).latitude\n",
    "    sandbag_data.iloc[i,22] = locator.geocode(sandbag_data.iloc[i,18], timeout=30).longitude\n",
    "  sleep(1)\n",
    "  i=i+1"
   ]
  },
  {
   "cell_type": "code",
   "execution_count": 26,
   "metadata": {
    "colab": {},
    "colab_type": "code",
    "id": "GVom6ag-vHCo"
   },
   "outputs": [],
   "source": [
    "for i in np.arange(3000,4000,1):\n",
    "  if pd.notna(locator.geocode(sandbag_data.iloc[i,17], timeout=30)):\n",
    "    sandbag_data.iloc[i,19] = locator.geocode(sandbag_data.iloc[i,17], timeout=30).latitude\n",
    "    sandbag_data.iloc[i,20] = locator.geocode(sandbag_data.iloc[i,17], timeout=30).longitude\n",
    "  elif pd.notna(locator.geocode(sandbag_data.iloc[i,18], timeout=30)):\n",
    "    sandbag_data.iloc[i,21] = locator.geocode(sandbag_data.iloc[i,18], timeout=30).latitude\n",
    "    sandbag_data.iloc[i,22] = locator.geocode(sandbag_data.iloc[i,18], timeout=30).longitude\n",
    "  sleep(1)\n",
    "  i=i+1"
   ]
  },
  {
   "cell_type": "code",
   "execution_count": 27,
   "metadata": {
    "colab": {},
    "colab_type": "code",
    "id": "KncMqY-fZSia"
   },
   "outputs": [],
   "source": [
    "for i in np.arange(4000,5000,1):\n",
    "  if pd.notna(locator.geocode(sandbag_data.iloc[i,17], timeout=30)):\n",
    "    sandbag_data.iloc[i,19] = locator.geocode(sandbag_data.iloc[i,17], timeout=30).latitude\n",
    "    sandbag_data.iloc[i,20] = locator.geocode(sandbag_data.iloc[i,17], timeout=30).longitude\n",
    "  elif pd.notna(locator.geocode(sandbag_data.iloc[i,18], timeout=30)):\n",
    "    sandbag_data.iloc[i,21] = locator.geocode(sandbag_data.iloc[i,18], timeout=30).latitude\n",
    "    sandbag_data.iloc[i,22] = locator.geocode(sandbag_data.iloc[i,18], timeout=30).longitude\n",
    "  sleep(1)\n",
    "  i=i+1"
   ]
  },
  {
   "cell_type": "code",
   "execution_count": 28,
   "metadata": {
    "colab": {},
    "colab_type": "code",
    "id": "Sea1T00AZVuy"
   },
   "outputs": [],
   "source": [
    "for i in np.arange(5000,6000,1):\n",
    "  if pd.notna(locator.geocode(sandbag_data.iloc[i,17], timeout=30)):\n",
    "    sandbag_data.iloc[i,19] = locator.geocode(sandbag_data.iloc[i,17], timeout=30).latitude\n",
    "    sandbag_data.iloc[i,20] = locator.geocode(sandbag_data.iloc[i,17], timeout=30).longitude\n",
    "  elif pd.notna(locator.geocode(sandbag_data.iloc[i,18], timeout=30)):\n",
    "    sandbag_data.iloc[i,21] = locator.geocode(sandbag_data.iloc[i,18], timeout=30).latitude\n",
    "    sandbag_data.iloc[i,22] = locator.geocode(sandbag_data.iloc[i,18], timeout=30).longitude\n",
    "  sleep(1)\n",
    "  i=i+1"
   ]
  },
  {
   "cell_type": "code",
   "execution_count": 29,
   "metadata": {
    "colab": {},
    "colab_type": "code",
    "id": "wi2G7e3GZYVr"
   },
   "outputs": [],
   "source": [
    "for i in np.arange(6000,7000,1):\n",
    "  if pd.notna(locator.geocode(sandbag_data.iloc[i,17], timeout=30)):\n",
    "    sandbag_data.iloc[i,19] = locator.geocode(sandbag_data.iloc[i,17], timeout=30).latitude\n",
    "    sandbag_data.iloc[i,20] = locator.geocode(sandbag_data.iloc[i,17], timeout=30).longitude\n",
    "  elif pd.notna(locator.geocode(sandbag_data.iloc[i,18], timeout=30)):\n",
    "    sandbag_data.iloc[i,21] = locator.geocode(sandbag_data.iloc[i,18], timeout=30).latitude\n",
    "    sandbag_data.iloc[i,22] = locator.geocode(sandbag_data.iloc[i,18], timeout=30).longitude\n",
    "  sleep(1)\n",
    "  i=i+1"
   ]
  },
  {
   "cell_type": "code",
   "execution_count": 30,
   "metadata": {
    "colab": {},
    "colab_type": "code",
    "id": "zckxCODrZbcM"
   },
   "outputs": [],
   "source": [
    "for i in np.arange(7000,8000,1):\n",
    "  if pd.notna(locator.geocode(sandbag_data.iloc[i,17], timeout=30)):\n",
    "    sandbag_data.iloc[i,19] = locator.geocode(sandbag_data.iloc[i,17], timeout=30).latitude\n",
    "    sandbag_data.iloc[i,20] = locator.geocode(sandbag_data.iloc[i,17], timeout=30).longitude\n",
    "  elif pd.notna(locator.geocode(sandbag_data.iloc[i,18], timeout=30)):\n",
    "    sandbag_data.iloc[i,21] = locator.geocode(sandbag_data.iloc[i,18], timeout=30).latitude\n",
    "    sandbag_data.iloc[i,22] = locator.geocode(sandbag_data.iloc[i,18], timeout=30).longitude\n",
    "  sleep(1)\n",
    "  i=i+1"
   ]
  },
  {
   "cell_type": "code",
   "execution_count": 31,
   "metadata": {
    "colab": {},
    "colab_type": "code",
    "id": "Qtb-5ZkfzJOX"
   },
   "outputs": [],
   "source": [
    "for i in np.arange(8000,9000,1):\n",
    "  if pd.notna(locator.geocode(sandbag_data.iloc[i,17], timeout=30)):\n",
    "    sandbag_data.iloc[i,19] = locator.geocode(sandbag_data.iloc[i,17], timeout=30).latitude\n",
    "    sandbag_data.iloc[i,20] = locator.geocode(sandbag_data.iloc[i,17], timeout=30).longitude\n",
    "  elif pd.notna(locator.geocode(sandbag_data.iloc[i,18], timeout=30)):\n",
    "    sandbag_data.iloc[i,21] = locator.geocode(sandbag_data.iloc[i,18], timeout=30).latitude\n",
    "    sandbag_data.iloc[i,22] = locator.geocode(sandbag_data.iloc[i,18], timeout=30).longitude\n",
    "  sleep(1)\n",
    "  i=i+1"
   ]
  },
  {
   "cell_type": "code",
   "execution_count": 32,
   "metadata": {
    "colab": {},
    "colab_type": "code",
    "id": "43NWlH9SZd7b"
   },
   "outputs": [],
   "source": [
    "for i in np.arange(9000,len(sandbag_data),1):\n",
    "  if pd.notna(locator.geocode(sandbag_data.iloc[i,17], timeout=30)):\n",
    "    sandbag_data.iloc[i,19] = locator.geocode(sandbag_data.iloc[i,17], timeout=30).latitude\n",
    "    sandbag_data.iloc[i,20] = locator.geocode(sandbag_data.iloc[i,17], timeout=30).longitude\n",
    "  elif pd.notna(locator.geocode(sandbag_data.iloc[i,18], timeout=30)):\n",
    "    sandbag_data.iloc[i,21] = locator.geocode(sandbag_data.iloc[i,18], timeout=30).latitude\n",
    "    sandbag_data.iloc[i,22] = locator.geocode(sandbag_data.iloc[i,18], timeout=30).longitude\n",
    "  sleep(1)\n",
    "  i=i+1"
   ]
  },
  {
   "cell_type": "code",
   "execution_count": 33,
   "metadata": {
    "colab": {
     "base_uri": "https://localhost:8080/",
     "height": 161
    },
    "colab_type": "code",
    "id": "pD6tAWcAZtq-",
    "outputId": "42bd91ed-935d-462b-c2b3-362b5549b42c"
   },
   "outputs": [
    {
     "data": {
      "text/plain": [
       "(4515, 23)"
      ]
     },
     "execution_count": 33,
     "metadata": {},
     "output_type": "execute_result"
    }
   ],
   "source": [
    "sandbag_data[pd.notna(sandbag_data['full_address_latitude'])].shape"
   ]
  },
  {
   "cell_type": "code",
   "execution_count": 34,
   "metadata": {
    "colab": {},
    "colab_type": "code",
    "id": "3bL2ula0zNWM"
   },
   "outputs": [
    {
     "data": {
      "text/plain": [
       "(3808, 23)"
      ]
     },
     "execution_count": 34,
     "metadata": {},
     "output_type": "execute_result"
    }
   ],
   "source": [
    "sandbag_data[pd.notna(sandbag_data['city_address_latitude'])].shape"
   ]
  },
  {
   "cell_type": "code",
   "execution_count": 52,
   "metadata": {
    "colab": {},
    "colab_type": "code",
    "id": "vzwv6ErQfUVx"
   },
   "outputs": [
    {
     "data": {
      "text/html": [
       "<div>\n",
       "<style scoped>\n",
       "    .dataframe tbody tr th:only-of-type {\n",
       "        vertical-align: middle;\n",
       "    }\n",
       "\n",
       "    .dataframe tbody tr th {\n",
       "        vertical-align: top;\n",
       "    }\n",
       "\n",
       "    .dataframe thead th {\n",
       "        text-align: right;\n",
       "    }\n",
       "</style>\n",
       "<table border=\"1\" class=\"dataframe\">\n",
       "  <thead>\n",
       "    <tr style=\"text-align: right;\">\n",
       "      <th></th>\n",
       "      <th>InstallationNumber</th>\n",
       "      <th>InstallationName</th>\n",
       "      <th>Key</th>\n",
       "      <th>RegCtryName</th>\n",
       "      <th>SandbagSector</th>\n",
       "      <th>tCO2e</th>\n",
       "      <th>InstallationLatitude</th>\n",
       "      <th>InstallationLongtitude</th>\n",
       "      <th>InstallationPostCode</th>\n",
       "      <th>InstallationCity</th>\n",
       "      <th>...</th>\n",
       "      <th>ClassDescription</th>\n",
       "      <th>NACE</th>\n",
       "      <th>Period</th>\n",
       "      <th>RecScr</th>\n",
       "      <th>full_address</th>\n",
       "      <th>city_address</th>\n",
       "      <th>full_address_latitude</th>\n",
       "      <th>full_address_longitude</th>\n",
       "      <th>city_address_latitude</th>\n",
       "      <th>city_address_longitude</th>\n",
       "    </tr>\n",
       "  </thead>\n",
       "  <tbody>\n",
       "    <tr>\n",
       "      <th>0</th>\n",
       "      <td>1.0</td>\n",
       "      <td>Baumit Baustoffe Bad Ischl</td>\n",
       "      <td>AT 1</td>\n",
       "      <td>Austria</td>\n",
       "      <td>Cement and Lime</td>\n",
       "      <td>46415</td>\n",
       "      <td>NaN</td>\n",
       "      <td>NaN</td>\n",
       "      <td>4820</td>\n",
       "      <td>Bad Ischl</td>\n",
       "      <td>...</td>\n",
       "      <td>Manufacture of lime and plaster</td>\n",
       "      <td>23.52</td>\n",
       "      <td>2019.0</td>\n",
       "      <td>20200415 Data Release</td>\n",
       "      <td>Rettenbach 143  4820 Bad Ischl Austria</td>\n",
       "      <td>4820 Bad Ischl Austria</td>\n",
       "      <td>47.715953</td>\n",
       "      <td>13.636275</td>\n",
       "      <td>NaN</td>\n",
       "      <td>NaN</td>\n",
       "    </tr>\n",
       "    <tr>\n",
       "      <th>1</th>\n",
       "      <td>10.0</td>\n",
       "      <td>Vetropack Pöchlarn</td>\n",
       "      <td>AT 10</td>\n",
       "      <td>Austria</td>\n",
       "      <td>Glass</td>\n",
       "      <td>59982</td>\n",
       "      <td>NaN</td>\n",
       "      <td>NaN</td>\n",
       "      <td>3380</td>\n",
       "      <td>Pöchlarn</td>\n",
       "      <td>...</td>\n",
       "      <td>Manufacture of hollow glass</td>\n",
       "      <td>23.13</td>\n",
       "      <td>2019.0</td>\n",
       "      <td>20200415 Data Release</td>\n",
       "      <td>Manker Strasse 49  3380 Pöchlarn Austria</td>\n",
       "      <td>3380 Pöchlarn Austria</td>\n",
       "      <td>48.206328</td>\n",
       "      <td>15.219059</td>\n",
       "      <td>NaN</td>\n",
       "      <td>NaN</td>\n",
       "    </tr>\n",
       "    <tr>\n",
       "      <th>2</th>\n",
       "      <td>101.0</td>\n",
       "      <td>Verbund FHKW Werndorf 2 Wildon</td>\n",
       "      <td>AT 101</td>\n",
       "      <td>Austria</td>\n",
       "      <td>Power and heat</td>\n",
       "      <td>187</td>\n",
       "      <td>NaN</td>\n",
       "      <td>NaN</td>\n",
       "      <td>8410</td>\n",
       "      <td>Neudorf ob Wildon</td>\n",
       "      <td>...</td>\n",
       "      <td>Production of electricity</td>\n",
       "      <td>35.11</td>\n",
       "      <td>2019.0</td>\n",
       "      <td>20200415 Data Release</td>\n",
       "      <td>Weisseneggweg 1  8410 Neudorf ob Wildon Austria</td>\n",
       "      <td>8410 Neudorf ob Wildon Austria</td>\n",
       "      <td>46.909169</td>\n",
       "      <td>15.484680</td>\n",
       "      <td>NaN</td>\n",
       "      <td>NaN</td>\n",
       "    </tr>\n",
       "    <tr>\n",
       "      <th>3</th>\n",
       "      <td>103.0</td>\n",
       "      <td>Kelag Wärme St. Magdalen</td>\n",
       "      <td>AT 103</td>\n",
       "      <td>Austria</td>\n",
       "      <td>Power and heat</td>\n",
       "      <td>6218</td>\n",
       "      <td>NaN</td>\n",
       "      <td>NaN</td>\n",
       "      <td>9524</td>\n",
       "      <td>St. Magdalen</td>\n",
       "      <td>...</td>\n",
       "      <td>Steam and air conditioning supply</td>\n",
       "      <td>35.30</td>\n",
       "      <td>2019.0</td>\n",
       "      <td>20200415 Data Release</td>\n",
       "      <td>Europastrasse 2  9524 St. Magdalen Austria</td>\n",
       "      <td>9524 St. Magdalen Austria</td>\n",
       "      <td>46.612475</td>\n",
       "      <td>13.882636</td>\n",
       "      <td>NaN</td>\n",
       "      <td>NaN</td>\n",
       "    </tr>\n",
       "    <tr>\n",
       "      <th>4</th>\n",
       "      <td>104.0</td>\n",
       "      <td>Kelag Wärme Prolactal Hartberg</td>\n",
       "      <td>AT 104</td>\n",
       "      <td>Austria</td>\n",
       "      <td>Power and heat</td>\n",
       "      <td>1461</td>\n",
       "      <td>NaN</td>\n",
       "      <td>NaN</td>\n",
       "      <td>8230</td>\n",
       "      <td>Hartberg</td>\n",
       "      <td>...</td>\n",
       "      <td>Steam and air conditioning supply</td>\n",
       "      <td>35.30</td>\n",
       "      <td>2019.0</td>\n",
       "      <td>20200415 Data Release</td>\n",
       "      <td>Ferd. Leihsstrasse 40  8230 Hartberg Austria</td>\n",
       "      <td>8230 Hartberg Austria</td>\n",
       "      <td>NaN</td>\n",
       "      <td>NaN</td>\n",
       "      <td>47.280937</td>\n",
       "      <td>15.969177</td>\n",
       "    </tr>\n",
       "  </tbody>\n",
       "</table>\n",
       "<p>5 rows × 23 columns</p>\n",
       "</div>"
      ],
      "text/plain": [
       "   InstallationNumber                InstallationName     Key RegCtryName  \\\n",
       "0                 1.0      Baumit Baustoffe Bad Ischl    AT 1     Austria   \n",
       "1                10.0              Vetropack Pöchlarn   AT 10     Austria   \n",
       "2               101.0  Verbund FHKW Werndorf 2 Wildon  AT 101     Austria   \n",
       "3               103.0        Kelag Wärme St. Magdalen  AT 103     Austria   \n",
       "4               104.0  Kelag Wärme Prolactal Hartberg  AT 104     Austria   \n",
       "\n",
       "     SandbagSector  tCO2e  InstallationLatitude  InstallationLongtitude  \\\n",
       "0  Cement and Lime  46415                   NaN                     NaN   \n",
       "1            Glass  59982                   NaN                     NaN   \n",
       "2   Power and heat    187                   NaN                     NaN   \n",
       "3   Power and heat   6218                   NaN                     NaN   \n",
       "4   Power and heat   1461                   NaN                     NaN   \n",
       "\n",
       "  InstallationPostCode   InstallationCity  ...  \\\n",
       "0                 4820          Bad Ischl  ...   \n",
       "1                 3380           Pöchlarn  ...   \n",
       "2                 8410  Neudorf ob Wildon  ...   \n",
       "3                 9524       St. Magdalen  ...   \n",
       "4                 8230           Hartberg  ...   \n",
       "\n",
       "                    ClassDescription   NACE  Period                 RecScr  \\\n",
       "0    Manufacture of lime and plaster  23.52  2019.0  20200415 Data Release   \n",
       "1        Manufacture of hollow glass  23.13  2019.0  20200415 Data Release   \n",
       "2          Production of electricity  35.11  2019.0  20200415 Data Release   \n",
       "3  Steam and air conditioning supply  35.30  2019.0  20200415 Data Release   \n",
       "4  Steam and air conditioning supply  35.30  2019.0  20200415 Data Release   \n",
       "\n",
       "                                      full_address  \\\n",
       "0           Rettenbach 143  4820 Bad Ischl Austria   \n",
       "1         Manker Strasse 49  3380 Pöchlarn Austria   \n",
       "2  Weisseneggweg 1  8410 Neudorf ob Wildon Austria   \n",
       "3       Europastrasse 2  9524 St. Magdalen Austria   \n",
       "4     Ferd. Leihsstrasse 40  8230 Hartberg Austria   \n",
       "\n",
       "                     city_address full_address_latitude  \\\n",
       "0          4820 Bad Ischl Austria             47.715953   \n",
       "1           3380 Pöchlarn Austria             48.206328   \n",
       "2  8410 Neudorf ob Wildon Austria             46.909169   \n",
       "3       9524 St. Magdalen Austria             46.612475   \n",
       "4           8230 Hartberg Austria                   NaN   \n",
       "\n",
       "  full_address_longitude city_address_latitude  city_address_longitude  \n",
       "0              13.636275                   NaN                     NaN  \n",
       "1              15.219059                   NaN                     NaN  \n",
       "2              15.484680                   NaN                     NaN  \n",
       "3              13.882636                   NaN                     NaN  \n",
       "4                    NaN             47.280937               15.969177  \n",
       "\n",
       "[5 rows x 23 columns]"
      ]
     },
     "execution_count": 52,
     "metadata": {},
     "output_type": "execute_result"
    }
   ],
   "source": [
    "sandbag_data.head()"
   ]
  },
  {
   "cell_type": "markdown",
   "metadata": {},
   "source": [
    "If the location of the full address is available, we select it as the infrastructure location, and otherwise we use the city location. "
   ]
  },
  {
   "cell_type": "code",
   "execution_count": 53,
   "metadata": {},
   "outputs": [],
   "source": [
    "sandbag_data['latitude']=np.nan\n",
    "sandbag_data['longitude']=np.nan"
   ]
  },
  {
   "cell_type": "code",
   "execution_count": 54,
   "metadata": {},
   "outputs": [],
   "source": [
    "# Column 19: full address latitude\n",
    "# Column 20: full address longitude\n",
    "# Column 21: city address latitude\n",
    "# Column 22: city address longitude\n",
    "# Column 23: latitude\n",
    "# Column 24: longitude\n",
    "\n",
    "for i in range(len(sandbag_data)):\n",
    "    if pd.notna(sandbag_data.iloc[i,19]):\n",
    "        sandbag_data.iloc[i,23]=sandbag_data.iloc[i,19]\n",
    "        sandbag_data.iloc[i,24]=sandbag_data.iloc[i,20]\n",
    "    elif pd.notna(sandbag_data.iloc[i,21]):\n",
    "        sandbag_data.iloc[i,23]=sandbag_data.iloc[i,21]\n",
    "        sandbag_data.iloc[i,24]=sandbag_data.iloc[i,22]\n",
    "    i=i+1"
   ]
  },
  {
   "cell_type": "code",
   "execution_count": 55,
   "metadata": {},
   "outputs": [
    {
     "data": {
      "text/html": [
       "<div>\n",
       "<style scoped>\n",
       "    .dataframe tbody tr th:only-of-type {\n",
       "        vertical-align: middle;\n",
       "    }\n",
       "\n",
       "    .dataframe tbody tr th {\n",
       "        vertical-align: top;\n",
       "    }\n",
       "\n",
       "    .dataframe thead th {\n",
       "        text-align: right;\n",
       "    }\n",
       "</style>\n",
       "<table border=\"1\" class=\"dataframe\">\n",
       "  <thead>\n",
       "    <tr style=\"text-align: right;\">\n",
       "      <th></th>\n",
       "      <th>InstallationNumber</th>\n",
       "      <th>InstallationName</th>\n",
       "      <th>Key</th>\n",
       "      <th>RegCtryName</th>\n",
       "      <th>SandbagSector</th>\n",
       "      <th>tCO2e</th>\n",
       "      <th>InstallationLatitude</th>\n",
       "      <th>InstallationLongtitude</th>\n",
       "      <th>InstallationPostCode</th>\n",
       "      <th>InstallationCity</th>\n",
       "      <th>...</th>\n",
       "      <th>Period</th>\n",
       "      <th>RecScr</th>\n",
       "      <th>full_address</th>\n",
       "      <th>city_address</th>\n",
       "      <th>full_address_latitude</th>\n",
       "      <th>full_address_longitude</th>\n",
       "      <th>city_address_latitude</th>\n",
       "      <th>city_address_longitude</th>\n",
       "      <th>latitude</th>\n",
       "      <th>longitude</th>\n",
       "    </tr>\n",
       "  </thead>\n",
       "  <tbody>\n",
       "    <tr>\n",
       "      <th>0</th>\n",
       "      <td>1.0</td>\n",
       "      <td>Baumit Baustoffe Bad Ischl</td>\n",
       "      <td>AT 1</td>\n",
       "      <td>Austria</td>\n",
       "      <td>Cement and Lime</td>\n",
       "      <td>46415</td>\n",
       "      <td>NaN</td>\n",
       "      <td>NaN</td>\n",
       "      <td>4820</td>\n",
       "      <td>Bad Ischl</td>\n",
       "      <td>...</td>\n",
       "      <td>2019.0</td>\n",
       "      <td>20200415 Data Release</td>\n",
       "      <td>Rettenbach 143  4820 Bad Ischl Austria</td>\n",
       "      <td>4820 Bad Ischl Austria</td>\n",
       "      <td>47.715953</td>\n",
       "      <td>13.636275</td>\n",
       "      <td>NaN</td>\n",
       "      <td>NaN</td>\n",
       "      <td>47.715953</td>\n",
       "      <td>13.636275</td>\n",
       "    </tr>\n",
       "    <tr>\n",
       "      <th>1</th>\n",
       "      <td>10.0</td>\n",
       "      <td>Vetropack Pöchlarn</td>\n",
       "      <td>AT 10</td>\n",
       "      <td>Austria</td>\n",
       "      <td>Glass</td>\n",
       "      <td>59982</td>\n",
       "      <td>NaN</td>\n",
       "      <td>NaN</td>\n",
       "      <td>3380</td>\n",
       "      <td>Pöchlarn</td>\n",
       "      <td>...</td>\n",
       "      <td>2019.0</td>\n",
       "      <td>20200415 Data Release</td>\n",
       "      <td>Manker Strasse 49  3380 Pöchlarn Austria</td>\n",
       "      <td>3380 Pöchlarn Austria</td>\n",
       "      <td>48.206328</td>\n",
       "      <td>15.219059</td>\n",
       "      <td>NaN</td>\n",
       "      <td>NaN</td>\n",
       "      <td>48.206328</td>\n",
       "      <td>15.219059</td>\n",
       "    </tr>\n",
       "    <tr>\n",
       "      <th>2</th>\n",
       "      <td>101.0</td>\n",
       "      <td>Verbund FHKW Werndorf 2 Wildon</td>\n",
       "      <td>AT 101</td>\n",
       "      <td>Austria</td>\n",
       "      <td>Power and heat</td>\n",
       "      <td>187</td>\n",
       "      <td>NaN</td>\n",
       "      <td>NaN</td>\n",
       "      <td>8410</td>\n",
       "      <td>Neudorf ob Wildon</td>\n",
       "      <td>...</td>\n",
       "      <td>2019.0</td>\n",
       "      <td>20200415 Data Release</td>\n",
       "      <td>Weisseneggweg 1  8410 Neudorf ob Wildon Austria</td>\n",
       "      <td>8410 Neudorf ob Wildon Austria</td>\n",
       "      <td>46.909169</td>\n",
       "      <td>15.484680</td>\n",
       "      <td>NaN</td>\n",
       "      <td>NaN</td>\n",
       "      <td>46.909169</td>\n",
       "      <td>15.484680</td>\n",
       "    </tr>\n",
       "    <tr>\n",
       "      <th>3</th>\n",
       "      <td>103.0</td>\n",
       "      <td>Kelag Wärme St. Magdalen</td>\n",
       "      <td>AT 103</td>\n",
       "      <td>Austria</td>\n",
       "      <td>Power and heat</td>\n",
       "      <td>6218</td>\n",
       "      <td>NaN</td>\n",
       "      <td>NaN</td>\n",
       "      <td>9524</td>\n",
       "      <td>St. Magdalen</td>\n",
       "      <td>...</td>\n",
       "      <td>2019.0</td>\n",
       "      <td>20200415 Data Release</td>\n",
       "      <td>Europastrasse 2  9524 St. Magdalen Austria</td>\n",
       "      <td>9524 St. Magdalen Austria</td>\n",
       "      <td>46.612475</td>\n",
       "      <td>13.882636</td>\n",
       "      <td>NaN</td>\n",
       "      <td>NaN</td>\n",
       "      <td>46.612475</td>\n",
       "      <td>13.882636</td>\n",
       "    </tr>\n",
       "    <tr>\n",
       "      <th>4</th>\n",
       "      <td>104.0</td>\n",
       "      <td>Kelag Wärme Prolactal Hartberg</td>\n",
       "      <td>AT 104</td>\n",
       "      <td>Austria</td>\n",
       "      <td>Power and heat</td>\n",
       "      <td>1461</td>\n",
       "      <td>NaN</td>\n",
       "      <td>NaN</td>\n",
       "      <td>8230</td>\n",
       "      <td>Hartberg</td>\n",
       "      <td>...</td>\n",
       "      <td>2019.0</td>\n",
       "      <td>20200415 Data Release</td>\n",
       "      <td>Ferd. Leihsstrasse 40  8230 Hartberg Austria</td>\n",
       "      <td>8230 Hartberg Austria</td>\n",
       "      <td>NaN</td>\n",
       "      <td>NaN</td>\n",
       "      <td>47.280937</td>\n",
       "      <td>15.969177</td>\n",
       "      <td>47.280937</td>\n",
       "      <td>15.969177</td>\n",
       "    </tr>\n",
       "  </tbody>\n",
       "</table>\n",
       "<p>5 rows × 25 columns</p>\n",
       "</div>"
      ],
      "text/plain": [
       "   InstallationNumber                InstallationName     Key RegCtryName  \\\n",
       "0                 1.0      Baumit Baustoffe Bad Ischl    AT 1     Austria   \n",
       "1                10.0              Vetropack Pöchlarn   AT 10     Austria   \n",
       "2               101.0  Verbund FHKW Werndorf 2 Wildon  AT 101     Austria   \n",
       "3               103.0        Kelag Wärme St. Magdalen  AT 103     Austria   \n",
       "4               104.0  Kelag Wärme Prolactal Hartberg  AT 104     Austria   \n",
       "\n",
       "     SandbagSector  tCO2e  InstallationLatitude  InstallationLongtitude  \\\n",
       "0  Cement and Lime  46415                   NaN                     NaN   \n",
       "1            Glass  59982                   NaN                     NaN   \n",
       "2   Power and heat    187                   NaN                     NaN   \n",
       "3   Power and heat   6218                   NaN                     NaN   \n",
       "4   Power and heat   1461                   NaN                     NaN   \n",
       "\n",
       "  InstallationPostCode   InstallationCity  ...  Period                 RecScr  \\\n",
       "0                 4820          Bad Ischl  ...  2019.0  20200415 Data Release   \n",
       "1                 3380           Pöchlarn  ...  2019.0  20200415 Data Release   \n",
       "2                 8410  Neudorf ob Wildon  ...  2019.0  20200415 Data Release   \n",
       "3                 9524       St. Magdalen  ...  2019.0  20200415 Data Release   \n",
       "4                 8230           Hartberg  ...  2019.0  20200415 Data Release   \n",
       "\n",
       "                                      full_address  \\\n",
       "0           Rettenbach 143  4820 Bad Ischl Austria   \n",
       "1         Manker Strasse 49  3380 Pöchlarn Austria   \n",
       "2  Weisseneggweg 1  8410 Neudorf ob Wildon Austria   \n",
       "3       Europastrasse 2  9524 St. Magdalen Austria   \n",
       "4     Ferd. Leihsstrasse 40  8230 Hartberg Austria   \n",
       "\n",
       "                     city_address  full_address_latitude  \\\n",
       "0          4820 Bad Ischl Austria              47.715953   \n",
       "1           3380 Pöchlarn Austria              48.206328   \n",
       "2  8410 Neudorf ob Wildon Austria              46.909169   \n",
       "3       9524 St. Magdalen Austria              46.612475   \n",
       "4           8230 Hartberg Austria                    NaN   \n",
       "\n",
       "   full_address_longitude city_address_latitude city_address_longitude  \\\n",
       "0               13.636275                   NaN                    NaN   \n",
       "1               15.219059                   NaN                    NaN   \n",
       "2               15.484680                   NaN                    NaN   \n",
       "3               13.882636                   NaN                    NaN   \n",
       "4                     NaN             47.280937              15.969177   \n",
       "\n",
       "    latitude  longitude  \n",
       "0  47.715953  13.636275  \n",
       "1  48.206328  15.219059  \n",
       "2  46.909169  15.484680  \n",
       "3  46.612475  13.882636  \n",
       "4  47.280937  15.969177  \n",
       "\n",
       "[5 rows x 25 columns]"
      ]
     },
     "execution_count": 55,
     "metadata": {},
     "output_type": "execute_result"
    }
   ],
   "source": [
    "sandbag_data.head()"
   ]
  },
  {
   "cell_type": "code",
   "execution_count": 56,
   "metadata": {},
   "outputs": [
    {
     "data": {
      "text/plain": [
       "(8323, 25)"
      ]
     },
     "execution_count": 56,
     "metadata": {},
     "output_type": "execute_result"
    }
   ],
   "source": [
    "sandbag_data[pd.notna(sandbag_data['latitude'])].shape"
   ]
  },
  {
   "cell_type": "markdown",
   "metadata": {
    "colab_type": "text",
    "id": "brubggiM4ThB"
   },
   "source": [
    "# Export to Excel"
   ]
  },
  {
   "cell_type": "code",
   "execution_count": 57,
   "metadata": {
    "colab": {},
    "colab_type": "code",
    "id": "GIhp4imaSGhm"
   },
   "outputs": [],
   "source": [
    "sandbag_data.to_excel(r'C:\\Users\\amelie.dubourg\\Desktop\\Personnel\\Data for Good\\Sandbag\\sandbag_data_infrastructure_location.xlsx')"
   ]
  }
 ],
 "metadata": {
  "colab": {
   "collapsed_sections": [],
   "name": "Process Sandbag data - 5 - Find location based on full address or city address v4.ipynb",
   "provenance": [],
   "toc_visible": true
  },
  "kernelspec": {
   "display_name": "Python 3",
   "language": "python",
   "name": "python3"
  },
  "language_info": {
   "codemirror_mode": {
    "name": "ipython",
    "version": 3
   },
   "file_extension": ".py",
   "mimetype": "text/x-python",
   "name": "python",
   "nbconvert_exporter": "python",
   "pygments_lexer": "ipython3",
   "version": "3.7.6"
  }
 },
 "nbformat": 4,
 "nbformat_minor": 1
}
