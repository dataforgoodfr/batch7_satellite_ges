{
 "cells": [
  {
   "cell_type": "markdown",
   "metadata": {},
   "source": [
    "# Open Stack Swift storage of the project"
   ]
  },
  {
   "cell_type": "markdown",
   "metadata": {},
   "source": [
    "## Open Stack directories structure for OCO-2\n",
    "\n",
    "We do not store the original OCO-2 files from NASA.\n",
    "\n",
    "* /datasets/oco-2/inventory/ contains all the potential source of emissions : factories, power plants, cities...\n",
    "* /datasets/oco-2/soudings/ contains CSV of the raw features extracted from NASA NC4 files.\n",
    "* /datasets/oco-2/peaks-detected/ contains all the peaks found in the satellite orbit datas.\n",
    "* /datasets/oco-2/peaks-detected-details/ contains one JSON file of the full data for all detected peak\n",
    "* /datasets/oco-2/peaks-and-invent/ contains the peak found with inventory data and search area"
   ]
  },
  {
   "cell_type": "code",
   "execution_count": 1,
   "metadata": {},
   "outputs": [],
   "source": [
    "# default_exp datasets"
   ]
  },
  {
   "cell_type": "markdown",
   "metadata": {},
   "source": [
    "## Module Installation"
   ]
  },
  {
   "cell_type": "code",
   "execution_count": 2,
   "metadata": {},
   "outputs": [],
   "source": [
    "#!pip install --user python-swiftclient python-keystoneclient --upgrade"
   ]
  },
  {
   "cell_type": "code",
   "execution_count": 3,
   "metadata": {},
   "outputs": [],
   "source": [
    "#hide\n",
    "# Put these at the top of every notebook, to get automatic reloading and inline plotting\n",
    "%reload_ext autoreload\n",
    "%autoreload 2\n",
    "#%matplotlib inline\n",
    "from IPython.core.interactiveshell import InteractiveShell\n",
    "InteractiveShell.ast_node_interactivity = \"all\""
   ]
  },
  {
   "cell_type": "markdown",
   "metadata": {},
   "source": [
    "## Class Datasets\n",
    "Using a config file for credentials"
   ]
  },
  {
   "cell_type": "code",
   "execution_count": 27,
   "metadata": {},
   "outputs": [],
   "source": [
    "#export\n",
    "import swiftclient\n",
    "import json\n",
    "import glob\n",
    "import os\n",
    "import pandas as pd\n",
    "import geopandas as gpd\n",
    "from fastprogress.fastprogress import master_bar, progress_bar\n",
    "from swiftclient.exceptions import ClientException\n",
    "from shapely.wkt import loads\n",
    "\n",
    "class Datasets:\n",
    "    \"\"\"\n",
    "    Utility class to access the Open Stack Swift storage of the project.\n",
    "    \"\"\"\n",
    "    config = None # Dict configuration\n",
    "    conn = None # swiftclient.Connection object\n",
    "    container_name = 'oco2'\n",
    "    \n",
    "    def __init__(self, config_file):\n",
    "        \"\"\"\n",
    "        Constructor\n",
    "        :param config_file: str, Path to config file\n",
    "        :return:\n",
    "        \"\"\"\n",
    "        # Load config\n",
    "        with open(config_file) as json_data_file:\n",
    "            self.config = json.load(json_data_file)\n",
    "        self.conn = self.swift_con()\n",
    "\n",
    "    def swift_con(self, config=None):\n",
    "        \"\"\"\n",
    "        Connect to Open Stack Swift\n",
    "        :param config: dict, Config dictionary.\n",
    "        :return: swiftclient.Connection\n",
    "        \"\"\"\n",
    "        if config is None:\n",
    "            config = self.config\n",
    "        user=config['swift_storage']['user']\n",
    "        key=config['swift_storage']['key']\n",
    "        auth_url=config['swift_storage']['auth_url']\n",
    "        tenant_name=config['swift_storage']['tenant_name']\n",
    "        auth_version=config['swift_storage']['auth_version']\n",
    "        options = config['swift_storage']['options']\n",
    "        self.conn = swiftclient.Connection(user=user,\n",
    "                                      key=key,\n",
    "                                      authurl=auth_url,\n",
    "                                      os_options=options,\n",
    "                                      tenant_name=tenant_name,\n",
    "                                      auth_version=auth_version)\n",
    "        return self.conn\n",
    "\n",
    "    def upload(self, mask='c:\\datasets\\*.csv', prefix=\"/Trash/\",content_type='text/csv', recursive=False):\n",
    "        \"\"\"\n",
    "        Upload files to Open Stack Swift\n",
    "        :param mask: str, Mask for seraching file to upload.\n",
    "        :param prefix: str, Prefix in destination. Useful to mimic folders.\n",
    "        :param content_type: str, Content type on the destination.\n",
    "        :param recursive: boolean, To allow search in sub-folder.\n",
    "        :return:\n",
    "        \"\"\"\n",
    "        master_progress_bar = master_bar([0])\n",
    "        for _ in master_progress_bar: None\n",
    "        \n",
    "        for file in progress_bar(glob.glob(mask, recursive=recursive), parent=master_progress_bar):\n",
    "            with open(file, 'rb') as one_file:\n",
    "                    upload_to = prefix+ os.path.basename(file)\n",
    "                    #print('Copy from',file,'to',upload_to)\n",
    "                    self.conn.put_object(self.container_name, upload_to,\n",
    "                                                    contents= one_file.read(),\n",
    "                                                    content_type=content_type) # 'text/csv'\n",
    "    def get_files_urls(self, prefix, pattern=\"\"):\n",
    "        \"\"\"\n",
    "        Retreive the list of file filtered by the given parameters.\n",
    "        :param prefix: str, Mandatory to avoid retreiving too many files.\n",
    "        :param pattern: str, Filter the list of files by this pattern. Complemantary of prefix.\n",
    "        :return: Array of url\n",
    "        \"\"\"\n",
    "        result=[]\n",
    "        objects = self.conn.get_container(self.container_name, prefix=prefix, full_listing=True)[1]\n",
    "        for data in objects:\n",
    "            if pattern in data['name']:\n",
    "                url = self.config['swift_storage']['base_url']+data['name']\n",
    "                result.append(url)\n",
    "        return result\n",
    "\n",
    "    def delete_files(self, prefix=\"/Trash/\", pattern='', dry_run=True):\n",
    "        if dry_run:\n",
    "            print('Nothing will be deleted. Use dry_run=False to delete.')\n",
    "        master_progress_bar = master_bar([0])\n",
    "        for _ in master_progress_bar: None\n",
    "        objects = self.conn.get_container(self.container_name, prefix=prefix, full_listing=True)[1]\n",
    "        if len(objects) < 1:\n",
    "            master_progress_bar.write(f'Nothing to delete')\n",
    "            return\n",
    "        for data in progress_bar(objects, parent=master_progress_bar):\n",
    "            file = data['name']\n",
    "            if pattern in file:\n",
    "                #master_progress_bar.write(f'Deleting {file}')\n",
    "                if not dry_run:\n",
    "                    try:\n",
    "                        self.conn.delete_object(self.container_name, file)\n",
    "                    except ClientException:\n",
    "                        master_progress_bar.write(f'Error deleting {file}')\n",
    "                   \n",
    "\n",
    "    def get_containers(self):\n",
    "        return self.conn.get_account()[1]\n",
    "    def get_container(self, container_name='oco2', prefix='/datasets/oco-2/'):\n",
    "        return self.conn.get_container(container_name, prefix=prefix, full_listing=True)[1]\n",
    "\n",
    "    def get_url_from_sounding_id(self, sounding_id):\n",
    "        base_url = self.config['swift_storage']['base_url']\n",
    "        return base_url+'/datasets/oco-2/peaks-detected-details/peak_data-si_'+sounding_id+'.json'\n",
    "        \n",
    "    def get_dataframe(self, url):\n",
    "        \"\"\"\n",
    "        Read the url of a file and load it with Pandas\n",
    "        :param url: str, URL of the file to load.\n",
    "        :return: DataFrame\n",
    "        \"\"\"\n",
    "        # TODO : Switch to GeoPandas ?\n",
    "        df = None\n",
    "        extension = url.split('.')[-1].lower()\n",
    "        if extension == 'csv' or extension == 'xz' or extension == 'bz2':\n",
    "            df = pd.read_csv(url, sep=';')\n",
    "            if len(df.columns) == 1: # Very bad because we load it twice !\n",
    "                df = pd.read_csv(url, sep=',')\n",
    "        elif extension == 'json':\n",
    "            df = pd.read_json(url)\n",
    "        if 'tcwv' not in df.columns:\n",
    "            df['tcwv'] = 25\n",
    "        if 'surface_pressure' not in df.columns:\n",
    "            df['surface_pressure'] = 979\n",
    "        if 'sounding_id' in df.columns:\n",
    "            df['sounding_id']= df['sounding_id'].astype('int64')\n",
    "        return df\n",
    "    \n",
    "\n",
    "    \n",
    "    def get_peak_param(self, sounding_id, df_all_peak):\n",
    "        sounding_id = int(sounding_id)\n",
    "        df_param = df_all_peak.query(\"sounding_id==@sounding_id\")\n",
    "        if len(df_param)<1:\n",
    "            print(f'ERROR in oco2peak.Datasets.get_peak_param(...) : sounding_id -{sounding_id}- not found in dataframe !')\n",
    "            #return {'slope' : 1,'intercept' : 1,'amplitude' : 1,'sigma': 1,'delta': 1,'R' : 1}\n",
    "            return None\n",
    "        param_index = df_param.index[0]\n",
    "        gaussian_param = df_param.loc[param_index].to_dict()\n",
    "#         gaussian_param = {\n",
    "#             'slope' : df_param.loc[param_index, 'slope'],\n",
    "#             'intercept' : df_param.loc[param_index, 'intercept'],\n",
    "#             'amplitude' : df_param.loc[param_index, 'amplitude'],\n",
    "#             'sigma': df_param.loc[param_index, 'sigma'],\n",
    "#             'delta': df_param.loc[param_index, 'delta'],\n",
    "#             'R' : df_param.loc[param_index, 'R'],\n",
    "#         }\n",
    "        return gaussian_param\n",
    "    def get_gaussian_param(self, sounding_id, df_all_peak):\n",
    "        return self.get_peak_param(sounding_id, df_all_peak)\n",
    "    \n",
    "    def get_peaks(self, url, delta_threshold=None):\n",
    "        \"\"\"\n",
    "        Load the peak dataframe and convert it to GeoPandas\n",
    "        \"\"\"\n",
    "        oco2_data = self.get_dataframe(url)\n",
    "        # Filter to delta > 1\n",
    "        oco2_data = oco2_data[oco2_data.delta > delta_threshold] if delta_threshold is not None else oco2_data\n",
    "        oco2_data = gpd.GeoDataFrame(oco2_data)\n",
    "        oco2_data['geometry'] = oco2_data['geometry'].apply(loads)\n",
    "        oco2_data.crs = {'init': 'epsg:4326'}\n",
    "        return oco2_data\n",
    "    \n",
    "    def get_inventory(self, url):\n",
    "        \"\"\"\n",
    "        Load the peak inventory dataframe and convert it to GeoPandas\n",
    "        \"\"\"\n",
    "        invent = pd.read_csv(url, sep=\",\", index_col=0)\n",
    "        invent = gpd.GeoDataFrame(invent, geometry=gpd.points_from_xy(invent.longitude, invent.latitude))\n",
    "        invent.crs = {'init': 'epsg:4326'}\n",
    "        invent = invent[invent['longitude'].notna()]\n",
    "        invent = invent[invent['latitude'].notna()]\n",
    "        invent = invent[invent['CO2/CO2e emissions (in tonnes per year)'].notna()]\n",
    "        return invent"
   ]
  },
  {
   "cell_type": "markdown",
   "metadata": {},
   "source": [
    "# Examples"
   ]
  },
  {
   "cell_type": "markdown",
   "metadata": {},
   "source": [
    "## Connection"
   ]
  },
  {
   "cell_type": "code",
   "execution_count": 28,
   "metadata": {},
   "outputs": [],
   "source": [
    "config = './configs/config.json'\n",
    "datasets = Datasets(config)"
   ]
  },
  {
   "cell_type": "markdown",
   "metadata": {},
   "source": [
    "## Get a dataset"
   ]
  },
  {
   "cell_type": "markdown",
   "metadata": {},
   "source": [
    "### Level 2 sounding value from OCO-2 satellite"
   ]
  },
  {
   "cell_type": "code",
   "execution_count": 6,
   "metadata": {},
   "outputs": [
    {
     "name": "stdout",
     "output_type": "stream",
     "text": [
      "['https://storage.gra.cloud.ovh.net/v1/AUTH_2aaacef8e88a4ca897bb93b984bd04dd/oco2//datasets/oco-2/soudings/oco2_1410.csv.bz2', 'https://storage.gra.cloud.ovh.net/v1/AUTH_2aaacef8e88a4ca897bb93b984bd04dd/oco2//datasets/oco-2/soudings/oco2_1411.csv.bz2', 'https://storage.gra.cloud.ovh.net/v1/AUTH_2aaacef8e88a4ca897bb93b984bd04dd/oco2//datasets/oco-2/soudings/oco2_1412.csv.bz2']\n"
     ]
    },
    {
     "data": {
      "text/html": [
       "<div>\n",
       "<style scoped>\n",
       "    .dataframe tbody tr th:only-of-type {\n",
       "        vertical-align: middle;\n",
       "    }\n",
       "\n",
       "    .dataframe tbody tr th {\n",
       "        vertical-align: top;\n",
       "    }\n",
       "\n",
       "    .dataframe thead th {\n",
       "        text-align: right;\n",
       "    }\n",
       "</style>\n",
       "<table border=\"1\" class=\"dataframe\">\n",
       "  <thead>\n",
       "    <tr style=\"text-align: right;\">\n",
       "      <th></th>\n",
       "      <th>sounding_id</th>\n",
       "      <th>latitude</th>\n",
       "      <th>longitude</th>\n",
       "      <th>xco2</th>\n",
       "      <th>xco2_uncert</th>\n",
       "      <th>orbit</th>\n",
       "      <th>windspeed_u</th>\n",
       "      <th>windspeed_v</th>\n",
       "      <th>surface_pressure_apriori</th>\n",
       "      <th>surface_pressure</th>\n",
       "      <th>altitude</th>\n",
       "      <th>land_water_indicator</th>\n",
       "      <th>land_fraction</th>\n",
       "      <th>tcwv</th>\n",
       "      <th>tcwv_apriori</th>\n",
       "      <th>tcwv_uncertainty</th>\n",
       "    </tr>\n",
       "  </thead>\n",
       "  <tbody>\n",
       "    <tr>\n",
       "      <th>0</th>\n",
       "      <td>2014100202182405</td>\n",
       "      <td>-40.574512</td>\n",
       "      <td>176.451126</td>\n",
       "      <td>398.752686</td>\n",
       "      <td>0.395292</td>\n",
       "      <td>1337</td>\n",
       "      <td>6.989320</td>\n",
       "      <td>-5.809829</td>\n",
       "      <td>978.123352</td>\n",
       "      <td>974.571838</td>\n",
       "      <td>179.613159</td>\n",
       "      <td>0.0</td>\n",
       "      <td>100.0</td>\n",
       "      <td>10.485214</td>\n",
       "      <td>14.339112</td>\n",
       "      <td>0.067466</td>\n",
       "    </tr>\n",
       "    <tr>\n",
       "      <th>1</th>\n",
       "      <td>2014100202182432</td>\n",
       "      <td>-40.533489</td>\n",
       "      <td>176.476425</td>\n",
       "      <td>397.972046</td>\n",
       "      <td>0.428197</td>\n",
       "      <td>1337</td>\n",
       "      <td>6.823709</td>\n",
       "      <td>-5.639187</td>\n",
       "      <td>976.780273</td>\n",
       "      <td>972.596436</td>\n",
       "      <td>191.665970</td>\n",
       "      <td>0.0</td>\n",
       "      <td>100.0</td>\n",
       "      <td>9.183766</td>\n",
       "      <td>14.187885</td>\n",
       "      <td>0.066358</td>\n",
       "    </tr>\n",
       "    <tr>\n",
       "      <th>2</th>\n",
       "      <td>2014100202182433</td>\n",
       "      <td>-40.540665</td>\n",
       "      <td>176.465958</td>\n",
       "      <td>397.367462</td>\n",
       "      <td>0.408428</td>\n",
       "      <td>1337</td>\n",
       "      <td>6.896306</td>\n",
       "      <td>-5.694703</td>\n",
       "      <td>964.528748</td>\n",
       "      <td>963.135864</td>\n",
       "      <td>298.211029</td>\n",
       "      <td>0.0</td>\n",
       "      <td>100.0</td>\n",
       "      <td>8.928223</td>\n",
       "      <td>13.654849</td>\n",
       "      <td>0.064660</td>\n",
       "    </tr>\n",
       "  </tbody>\n",
       "</table>\n",
       "</div>"
      ],
      "text/plain": [
       "        sounding_id   latitude   longitude        xco2  xco2_uncert  orbit  \\\n",
       "0  2014100202182405 -40.574512  176.451126  398.752686     0.395292   1337   \n",
       "1  2014100202182432 -40.533489  176.476425  397.972046     0.428197   1337   \n",
       "2  2014100202182433 -40.540665  176.465958  397.367462     0.408428   1337   \n",
       "\n",
       "   windspeed_u  windspeed_v  surface_pressure_apriori  surface_pressure  \\\n",
       "0     6.989320    -5.809829                978.123352        974.571838   \n",
       "1     6.823709    -5.639187                976.780273        972.596436   \n",
       "2     6.896306    -5.694703                964.528748        963.135864   \n",
       "\n",
       "     altitude  land_water_indicator  land_fraction       tcwv  tcwv_apriori  \\\n",
       "0  179.613159                   0.0          100.0  10.485214     14.339112   \n",
       "1  191.665970                   0.0          100.0   9.183766     14.187885   \n",
       "2  298.211029                   0.0          100.0   8.928223     13.654849   \n",
       "\n",
       "   tcwv_uncertainty  \n",
       "0          0.067466  \n",
       "1          0.066358  \n",
       "2          0.064660  "
      ]
     },
     "execution_count": 6,
     "metadata": {},
     "output_type": "execute_result"
    }
   ],
   "source": [
    "url=datasets.get_files_urls(pattern='141', prefix='/datasets/oco-2/soudings/')\n",
    "print(url)\n",
    "df=datasets.get_dataframe(url[0])\n",
    "df.head(3)"
   ]
  },
  {
   "cell_type": "markdown",
   "metadata": {},
   "source": [
    "### List of detected peak"
   ]
  },
  {
   "cell_type": "code",
   "execution_count": 7,
   "metadata": {},
   "outputs": [
    {
     "name": "stdout",
     "output_type": "stream",
     "text": [
      "https://storage.gra.cloud.ovh.net/v1/AUTH_2aaacef8e88a4ca897bb93b984bd04dd/oco2//datasets/oco-2/peaks-detected/result_for_oco2_1409.csv\n"
     ]
    },
    {
     "data": {
      "text/html": [
       "<div>\n",
       "<style scoped>\n",
       "    .dataframe tbody tr th:only-of-type {\n",
       "        vertical-align: middle;\n",
       "    }\n",
       "\n",
       "    .dataframe tbody tr th {\n",
       "        vertical-align: top;\n",
       "    }\n",
       "\n",
       "    .dataframe thead th {\n",
       "        text-align: right;\n",
       "    }\n",
       "</style>\n",
       "<table border=\"1\" class=\"dataframe\">\n",
       "  <thead>\n",
       "    <tr style=\"text-align: right;\">\n",
       "      <th></th>\n",
       "      <th>sounding_id</th>\n",
       "      <th>latitude</th>\n",
       "      <th>longitude</th>\n",
       "      <th>orbit</th>\n",
       "      <th>slope</th>\n",
       "      <th>intercept</th>\n",
       "      <th>amplitude</th>\n",
       "      <th>sigma</th>\n",
       "      <th>delta</th>\n",
       "      <th>R</th>\n",
       "      <th>windspeed_u</th>\n",
       "      <th>windspeed_v</th>\n",
       "      <th>surface_pressure</th>\n",
       "      <th>tcwv</th>\n",
       "      <th>gCO2_per_s</th>\n",
       "      <th>ktCO2_per_h</th>\n",
       "    </tr>\n",
       "  </thead>\n",
       "  <tbody>\n",
       "    <tr>\n",
       "      <th>0</th>\n",
       "      <td>2014090605011475</td>\n",
       "      <td>-31.932890</td>\n",
       "      <td>133.817032</td>\n",
       "      <td>960</td>\n",
       "      <td>-0.004587</td>\n",
       "      <td>394.742035</td>\n",
       "      <td>5.690958</td>\n",
       "      <td>9.300781</td>\n",
       "      <td>0.244105</td>\n",
       "      <td>0.511300</td>\n",
       "      <td>-3.204265</td>\n",
       "      <td>-4.634799</td>\n",
       "      <td>1005.223877</td>\n",
       "      <td>8.682925</td>\n",
       "      <td>382544.673873</td>\n",
       "      <td>1.377161</td>\n",
       "    </tr>\n",
       "    <tr>\n",
       "      <th>1</th>\n",
       "      <td>2014090605011533</td>\n",
       "      <td>-31.880974</td>\n",
       "      <td>133.827301</td>\n",
       "      <td>960</td>\n",
       "      <td>-0.004447</td>\n",
       "      <td>394.740346</td>\n",
       "      <td>3.242650</td>\n",
       "      <td>9.322434</td>\n",
       "      <td>0.138765</td>\n",
       "      <td>0.538200</td>\n",
       "      <td>-3.255919</td>\n",
       "      <td>-4.609379</td>\n",
       "      <td>1006.138855</td>\n",
       "      <td>8.424060</td>\n",
       "      <td>220272.427636</td>\n",
       "      <td>0.792981</td>\n",
       "    </tr>\n",
       "    <tr>\n",
       "      <th>2</th>\n",
       "      <td>2014090605020977</td>\n",
       "      <td>-28.646854</td>\n",
       "      <td>132.930969</td>\n",
       "      <td>960</td>\n",
       "      <td>0.003970</td>\n",
       "      <td>395.016978</td>\n",
       "      <td>2.381693</td>\n",
       "      <td>16.881001</td>\n",
       "      <td>0.056286</td>\n",
       "      <td>0.525184</td>\n",
       "      <td>-3.388911</td>\n",
       "      <td>-2.603360</td>\n",
       "      <td>987.990540</td>\n",
       "      <td>10.468317</td>\n",
       "      <td>143009.555556</td>\n",
       "      <td>0.514834</td>\n",
       "    </tr>\n",
       "  </tbody>\n",
       "</table>\n",
       "</div>"
      ],
      "text/plain": [
       "        sounding_id   latitude   longitude  orbit     slope   intercept  \\\n",
       "0  2014090605011475 -31.932890  133.817032    960 -0.004587  394.742035   \n",
       "1  2014090605011533 -31.880974  133.827301    960 -0.004447  394.740346   \n",
       "2  2014090605020977 -28.646854  132.930969    960  0.003970  395.016978   \n",
       "\n",
       "   amplitude      sigma     delta         R  windspeed_u  windspeed_v  \\\n",
       "0   5.690958   9.300781  0.244105  0.511300    -3.204265    -4.634799   \n",
       "1   3.242650   9.322434  0.138765  0.538200    -3.255919    -4.609379   \n",
       "2   2.381693  16.881001  0.056286  0.525184    -3.388911    -2.603360   \n",
       "\n",
       "   surface_pressure       tcwv     gCO2_per_s  ktCO2_per_h  \n",
       "0       1005.223877   8.682925  382544.673873     1.377161  \n",
       "1       1006.138855   8.424060  220272.427636     0.792981  \n",
       "2        987.990540  10.468317  143009.555556     0.514834  "
      ]
     },
     "execution_count": 7,
     "metadata": {},
     "output_type": "execute_result"
    }
   ],
   "source": [
    "url=datasets.get_files_urls(prefix='/datasets/oco-2/peaks-detected/', pattern='result')[0]\n",
    "print(url)\n",
    "df=datasets.get_dataframe(url)\n",
    "df.head(3)"
   ]
  },
  {
   "cell_type": "markdown",
   "metadata": {},
   "source": [
    "### Level 2 sounding value for a peak"
   ]
  },
  {
   "cell_type": "code",
   "execution_count": 8,
   "metadata": {},
   "outputs": [
    {
     "name": "stdout",
     "output_type": "stream",
     "text": [
      "https://storage.gra.cloud.ovh.net/v1/AUTH_2aaacef8e88a4ca897bb93b984bd04dd/oco2//datasets/oco-2/peaks-detected-details/peak_data-si_2014090605011475.json\n"
     ]
    },
    {
     "data": {
      "text/html": [
       "<div>\n",
       "<style scoped>\n",
       "    .dataframe tbody tr th:only-of-type {\n",
       "        vertical-align: middle;\n",
       "    }\n",
       "\n",
       "    .dataframe tbody tr th {\n",
       "        vertical-align: top;\n",
       "    }\n",
       "\n",
       "    .dataframe thead th {\n",
       "        text-align: right;\n",
       "    }\n",
       "</style>\n",
       "<table border=\"1\" class=\"dataframe\">\n",
       "  <thead>\n",
       "    <tr style=\"text-align: right;\">\n",
       "      <th></th>\n",
       "      <th>orbit</th>\n",
       "      <th>sounding_id</th>\n",
       "      <th>latitude</th>\n",
       "      <th>longitude</th>\n",
       "      <th>xco2</th>\n",
       "      <th>xco2_uncert</th>\n",
       "      <th>windspeed_u</th>\n",
       "      <th>windspeed_v</th>\n",
       "      <th>surface_pressure_apriori</th>\n",
       "      <th>surface_pressure</th>\n",
       "      <th>altitude</th>\n",
       "      <th>land_water_indicator</th>\n",
       "      <th>land_fraction</th>\n",
       "      <th>tcwv</th>\n",
       "      <th>tcwv_apriori</th>\n",
       "      <th>tcwv_uncertainty</th>\n",
       "      <th>latitude_orig</th>\n",
       "      <th>longitude_orig</th>\n",
       "      <th>distance</th>\n",
       "      <th>xco2_enhancement</th>\n",
       "    </tr>\n",
       "  </thead>\n",
       "  <tbody>\n",
       "    <tr>\n",
       "      <th>0</th>\n",
       "      <td>960</td>\n",
       "      <td>2014090605010101</td>\n",
       "      <td>-32.727406</td>\n",
       "      <td>134.080856</td>\n",
       "      <td>397.196472</td>\n",
       "      <td>0.415720</td>\n",
       "      <td>-2.145389</td>\n",
       "      <td>-3.313407</td>\n",
       "      <td>1011.450745</td>\n",
       "      <td>1007.325317</td>\n",
       "      <td>72.918121</td>\n",
       "      <td>3</td>\n",
       "      <td>93</td>\n",
       "      <td>9.635459</td>\n",
       "      <td>8.897162</td>\n",
       "      <td>0.032530</td>\n",
       "      <td>-32.906963</td>\n",
       "      <td>134.130478</td>\n",
       "      <td>-91.681727</td>\n",
       "      <td>2.610016</td>\n",
       "    </tr>\n",
       "    <tr>\n",
       "      <th>1</th>\n",
       "      <td>960</td>\n",
       "      <td>2014090605010534</td>\n",
       "      <td>-32.485806</td>\n",
       "      <td>133.978790</td>\n",
       "      <td>396.806854</td>\n",
       "      <td>0.352010</td>\n",
       "      <td>-2.325659</td>\n",
       "      <td>-3.597546</td>\n",
       "      <td>1018.768433</td>\n",
       "      <td>1016.415466</td>\n",
       "      <td>8.619250</td>\n",
       "      <td>0</td>\n",
       "      <td>100</td>\n",
       "      <td>10.166079</td>\n",
       "      <td>9.066277</td>\n",
       "      <td>0.026381</td>\n",
       "      <td>-32.906963</td>\n",
       "      <td>134.130478</td>\n",
       "      <td>-63.262445</td>\n",
       "      <td>2.220398</td>\n",
       "    </tr>\n",
       "    <tr>\n",
       "      <th>2</th>\n",
       "      <td>960</td>\n",
       "      <td>2014090605010533</td>\n",
       "      <td>-32.479725</td>\n",
       "      <td>133.989441</td>\n",
       "      <td>396.487305</td>\n",
       "      <td>0.380758</td>\n",
       "      <td>-2.340547</td>\n",
       "      <td>-3.616978</td>\n",
       "      <td>1019.266541</td>\n",
       "      <td>1015.119263</td>\n",
       "      <td>4.366264</td>\n",
       "      <td>0</td>\n",
       "      <td>100</td>\n",
       "      <td>10.172779</td>\n",
       "      <td>9.041010</td>\n",
       "      <td>0.028613</td>\n",
       "      <td>-32.906963</td>\n",
       "      <td>134.130478</td>\n",
       "      <td>-62.891171</td>\n",
       "      <td>1.900848</td>\n",
       "    </tr>\n",
       "  </tbody>\n",
       "</table>\n",
       "</div>"
      ],
      "text/plain": [
       "   orbit       sounding_id   latitude   longitude        xco2  xco2_uncert  \\\n",
       "0    960  2014090605010101 -32.727406  134.080856  397.196472     0.415720   \n",
       "1    960  2014090605010534 -32.485806  133.978790  396.806854     0.352010   \n",
       "2    960  2014090605010533 -32.479725  133.989441  396.487305     0.380758   \n",
       "\n",
       "   windspeed_u  windspeed_v  surface_pressure_apriori  surface_pressure  \\\n",
       "0    -2.145389    -3.313407               1011.450745       1007.325317   \n",
       "1    -2.325659    -3.597546               1018.768433       1016.415466   \n",
       "2    -2.340547    -3.616978               1019.266541       1015.119263   \n",
       "\n",
       "    altitude  land_water_indicator  land_fraction       tcwv  tcwv_apriori  \\\n",
       "0  72.918121                     3             93   9.635459      8.897162   \n",
       "1   8.619250                     0            100  10.166079      9.066277   \n",
       "2   4.366264                     0            100  10.172779      9.041010   \n",
       "\n",
       "   tcwv_uncertainty  latitude_orig  longitude_orig   distance  \\\n",
       "0          0.032530     -32.906963      134.130478 -91.681727   \n",
       "1          0.026381     -32.906963      134.130478 -63.262445   \n",
       "2          0.028613     -32.906963      134.130478 -62.891171   \n",
       "\n",
       "   xco2_enhancement  \n",
       "0          2.610016  \n",
       "1          2.220398  \n",
       "2          1.900848  "
      ]
     },
     "execution_count": 8,
     "metadata": {},
     "output_type": "execute_result"
    }
   ],
   "source": [
    "sounding_id = int(df.iloc[0].sounding_id)\n",
    "#sounding_id\n",
    "url=datasets.get_url_from_sounding_id(str(sounding_id))\n",
    "print(url)\n",
    "df=datasets.get_dataframe(url)\n",
    "df.head(3)"
   ]
  },
  {
   "cell_type": "markdown",
   "metadata": {},
   "source": [
    "### Load peaks dataset"
   ]
  },
  {
   "cell_type": "code",
   "execution_count": 9,
   "metadata": {},
   "outputs": [
    {
     "name": "stderr",
     "output_type": "stream",
     "text": [
      "/usr/local/lib/python3.8/site-packages/pyproj/crs/crs.py:130: FutureWarning: '+init=<authority>:<code>' syntax is deprecated. '<authority>:<code>' is the preferred initialization method. When making the change, be mindful of axis order changes: https://pyproj4.github.io/pyproj/stable/gotchas.html#axis-order-changes-in-proj-6\n",
      "  in_crs_string = _prepare_from_proj_string(in_crs_string)\n"
     ]
    },
    {
     "data": {
      "text/html": [
       "<div>\n",
       "<style scoped>\n",
       "    .dataframe tbody tr th:only-of-type {\n",
       "        vertical-align: middle;\n",
       "    }\n",
       "\n",
       "    .dataframe tbody tr th {\n",
       "        vertical-align: top;\n",
       "    }\n",
       "\n",
       "    .dataframe thead th {\n",
       "        text-align: right;\n",
       "    }\n",
       "</style>\n",
       "<table border=\"1\" class=\"dataframe\">\n",
       "  <thead>\n",
       "    <tr style=\"text-align: right;\">\n",
       "      <th></th>\n",
       "      <th>sounding_id</th>\n",
       "      <th>latitude</th>\n",
       "      <th>longitude</th>\n",
       "      <th>orbit</th>\n",
       "      <th>slope</th>\n",
       "      <th>intercept</th>\n",
       "      <th>amplitude</th>\n",
       "      <th>sigma</th>\n",
       "      <th>delta</th>\n",
       "      <th>R</th>\n",
       "      <th>...</th>\n",
       "      <th>index_Iron and steel</th>\n",
       "      <th>number_Iron and steel</th>\n",
       "      <th>index_Combustion</th>\n",
       "      <th>number_Combustion</th>\n",
       "      <th>index_Non ferrous metals</th>\n",
       "      <th>number_Non ferrous metals</th>\n",
       "      <th>index_Mineral oil</th>\n",
       "      <th>number_Mineral oil</th>\n",
       "      <th>index_Coke ovens</th>\n",
       "      <th>number_Coke ovens</th>\n",
       "    </tr>\n",
       "  </thead>\n",
       "  <tbody>\n",
       "    <tr>\n",
       "      <th>0</th>\n",
       "      <td>2018040211042706</td>\n",
       "      <td>26.159534</td>\n",
       "      <td>32.106270</td>\n",
       "      <td>19953</td>\n",
       "      <td>0.001844</td>\n",
       "      <td>409.425705</td>\n",
       "      <td>94.966281</td>\n",
       "      <td>16.106986</td>\n",
       "      <td>2.352151</td>\n",
       "      <td>0.778746</td>\n",
       "      <td>...</td>\n",
       "      <td>[nan]</td>\n",
       "      <td>0</td>\n",
       "      <td>[nan]</td>\n",
       "      <td>0</td>\n",
       "      <td>[nan]</td>\n",
       "      <td>0</td>\n",
       "      <td>[nan]</td>\n",
       "      <td>0</td>\n",
       "      <td>[nan]</td>\n",
       "      <td>0</td>\n",
       "    </tr>\n",
       "    <tr>\n",
       "      <th>1</th>\n",
       "      <td>2018040211042802</td>\n",
       "      <td>26.256311</td>\n",
       "      <td>32.076420</td>\n",
       "      <td>19953</td>\n",
       "      <td>-0.000093</td>\n",
       "      <td>409.445759</td>\n",
       "      <td>70.973368</td>\n",
       "      <td>11.769459</td>\n",
       "      <td>2.405742</td>\n",
       "      <td>0.799430</td>\n",
       "      <td>...</td>\n",
       "      <td>[nan]</td>\n",
       "      <td>0</td>\n",
       "      <td>[nan]</td>\n",
       "      <td>0</td>\n",
       "      <td>[nan]</td>\n",
       "      <td>0</td>\n",
       "      <td>[nan]</td>\n",
       "      <td>0</td>\n",
       "      <td>[nan]</td>\n",
       "      <td>0</td>\n",
       "    </tr>\n",
       "    <tr>\n",
       "      <th>51</th>\n",
       "      <td>2018042405165071</td>\n",
       "      <td>-22.160683</td>\n",
       "      <td>128.343689</td>\n",
       "      <td>20270</td>\n",
       "      <td>-0.005425</td>\n",
       "      <td>404.309887</td>\n",
       "      <td>53.179692</td>\n",
       "      <td>10.317028</td>\n",
       "      <td>2.056370</td>\n",
       "      <td>0.556106</td>\n",
       "      <td>...</td>\n",
       "      <td>[nan]</td>\n",
       "      <td>0</td>\n",
       "      <td>[nan]</td>\n",
       "      <td>0</td>\n",
       "      <td>[nan]</td>\n",
       "      <td>0</td>\n",
       "      <td>[nan]</td>\n",
       "      <td>0</td>\n",
       "      <td>[nan]</td>\n",
       "      <td>0</td>\n",
       "    </tr>\n",
       "  </tbody>\n",
       "</table>\n",
       "<p>3 rows × 48 columns</p>\n",
       "</div>"
      ],
      "text/plain": [
       "         sounding_id   latitude   longitude  orbit     slope   intercept  \\\n",
       "0   2018040211042706  26.159534   32.106270  19953  0.001844  409.425705   \n",
       "1   2018040211042802  26.256311   32.076420  19953 -0.000093  409.445759   \n",
       "51  2018042405165071 -22.160683  128.343689  20270 -0.005425  404.309887   \n",
       "\n",
       "    amplitude      sigma     delta         R  ...  index_Iron and steel  \\\n",
       "0   94.966281  16.106986  2.352151  0.778746  ...                 [nan]   \n",
       "1   70.973368  11.769459  2.405742  0.799430  ...                 [nan]   \n",
       "51  53.179692  10.317028  2.056370  0.556106  ...                 [nan]   \n",
       "\n",
       "    number_Iron and steel  index_Combustion  number_Combustion  \\\n",
       "0                       0             [nan]                  0   \n",
       "1                       0             [nan]                  0   \n",
       "51                      0             [nan]                  0   \n",
       "\n",
       "    index_Non ferrous metals  number_Non ferrous metals index_Mineral oil  \\\n",
       "0                      [nan]                          0             [nan]   \n",
       "1                      [nan]                          0             [nan]   \n",
       "51                     [nan]                          0             [nan]   \n",
       "\n",
       "   number_Mineral oil index_Coke ovens  number_Coke ovens  \n",
       "0                   0            [nan]                  0  \n",
       "1                   0            [nan]                  0  \n",
       "51                  0            [nan]                  0  \n",
       "\n",
       "[3 rows x 48 columns]"
      ]
     },
     "execution_count": 9,
     "metadata": {},
     "output_type": "execute_result"
    }
   ],
   "source": [
    "url = datasets.get_files_urls(prefix=\"/datasets/oco-2/peaks-and-invent/\", pattern='peaks_and_invent_1804')[0]\n",
    "datasets.get_peaks(url, 2).head(3)"
   ]
  },
  {
   "cell_type": "markdown",
   "metadata": {},
   "source": [
    "### Load iventory dataset"
   ]
  },
  {
   "cell_type": "code",
   "execution_count": 10,
   "metadata": {},
   "outputs": [
    {
     "name": "stderr",
     "output_type": "stream",
     "text": [
      "/usr/local/lib/python3.8/site-packages/pyproj/crs/crs.py:130: FutureWarning: '+init=<authority>:<code>' syntax is deprecated. '<authority>:<code>' is the preferred initialization method. When making the change, be mindful of axis order changes: https://pyproj4.github.io/pyproj/stable/gotchas.html#axis-order-changes-in-proj-6\n",
      "  in_crs_string = _prepare_from_proj_string(in_crs_string)\n"
     ]
    },
    {
     "data": {
      "text/html": [
       "<div>\n",
       "<style scoped>\n",
       "    .dataframe tbody tr th:only-of-type {\n",
       "        vertical-align: middle;\n",
       "    }\n",
       "\n",
       "    .dataframe tbody tr th {\n",
       "        vertical-align: top;\n",
       "    }\n",
       "\n",
       "    .dataframe thead th {\n",
       "        text-align: right;\n",
       "    }\n",
       "</style>\n",
       "<table border=\"1\" class=\"dataframe\">\n",
       "  <thead>\n",
       "    <tr style=\"text-align: right;\">\n",
       "      <th></th>\n",
       "      <th>latitude</th>\n",
       "      <th>longitude</th>\n",
       "      <th>Data source</th>\n",
       "      <th>CO2/CO2e emissions source</th>\n",
       "      <th>CO2/CO2e emissions (in tonnes per year)</th>\n",
       "      <th>CO2 or CO2e</th>\n",
       "      <th>geometry</th>\n",
       "    </tr>\n",
       "  </thead>\n",
       "  <tbody>\n",
       "    <tr>\n",
       "      <th>0</th>\n",
       "      <td>43.653226</td>\n",
       "      <td>-79.383184</td>\n",
       "      <td>Opendatasoft</td>\n",
       "      <td>City</td>\n",
       "      <td>16151019.0</td>\n",
       "      <td>CO2</td>\n",
       "      <td>POINT (-79.38318 43.65323)</td>\n",
       "    </tr>\n",
       "    <tr>\n",
       "      <th>4</th>\n",
       "      <td>45.802578</td>\n",
       "      <td>9.086356</td>\n",
       "      <td>Opendatasoft</td>\n",
       "      <td>City</td>\n",
       "      <td>3728678.0</td>\n",
       "      <td>CO2</td>\n",
       "      <td>POINT (9.08636 45.80258)</td>\n",
       "    </tr>\n",
       "    <tr>\n",
       "      <th>5</th>\n",
       "      <td>37.668900</td>\n",
       "      <td>-122.080800</td>\n",
       "      <td>Opendatasoft</td>\n",
       "      <td>City</td>\n",
       "      <td>861854.0</td>\n",
       "      <td>CO2e</td>\n",
       "      <td>POINT (-122.08080 37.66890)</td>\n",
       "    </tr>\n",
       "  </tbody>\n",
       "</table>\n",
       "</div>"
      ],
      "text/plain": [
       "    latitude   longitude   Data source CO2/CO2e emissions source  \\\n",
       "0  43.653226  -79.383184  Opendatasoft                      City   \n",
       "4  45.802578    9.086356  Opendatasoft                      City   \n",
       "5  37.668900 -122.080800  Opendatasoft                      City   \n",
       "\n",
       "   CO2/CO2e emissions (in tonnes per year) CO2 or CO2e  \\\n",
       "0                               16151019.0         CO2   \n",
       "4                                3728678.0         CO2   \n",
       "5                                 861854.0        CO2e   \n",
       "\n",
       "                      geometry  \n",
       "0   POINT (-79.38318 43.65323)  \n",
       "4     POINT (9.08636 45.80258)  \n",
       "5  POINT (-122.08080 37.66890)  "
      ]
     },
     "execution_count": 10,
     "metadata": {},
     "output_type": "execute_result"
    }
   ],
   "source": [
    "url=\"https://raw.githubusercontent.com/dataforgoodfr/batch7_satellite_ges/master/dataset/Output%20inventory%20data/Merge%20of%20peaks/CO2_emissions_peaks_merged_2018.csv\"\n",
    "datasets.get_inventory(url).head(3)"
   ]
  },
  {
   "cell_type": "markdown",
   "metadata": {},
   "source": [
    "## Get containers names"
   ]
  },
  {
   "cell_type": "code",
   "execution_count": 11,
   "metadata": {},
   "outputs": [
    {
     "name": "stdout",
     "output_type": "stream",
     "text": [
      "Container name: oco2\n"
     ]
    }
   ],
   "source": [
    "for container in datasets.get_containers():\n",
    "    print('Container name:', container['name'])"
   ]
  },
  {
   "cell_type": "markdown",
   "metadata": {},
   "source": [
    "## List files"
   ]
  },
  {
   "cell_type": "code",
   "execution_count": 12,
   "metadata": {},
   "outputs": [
    {
     "data": {
      "text/plain": [
       "'https://storage.gra.cloud.ovh.net/v1/AUTH_2aaacef8e88a4ca897bb93b984bd04dd/oco2//map/peaks_map/peaks_capture_map_2004.html'"
      ]
     },
     "execution_count": 12,
     "metadata": {},
     "output_type": "execute_result"
    }
   ],
   "source": [
    "datasets.get_files_urls(prefix='/map/', pattern='html')[-1]"
   ]
  },
  {
   "cell_type": "code",
   "execution_count": 13,
   "metadata": {},
   "outputs": [
    {
     "data": {
      "text/plain": [
       "['https://storage.gra.cloud.ovh.net/v1/AUTH_2aaacef8e88a4ca897bb93b984bd04dd/oco2//datasets/oco-2/inventory/CO2_emissions_Edgar_2015_v3.csv',\n",
       " 'https://storage.gra.cloud.ovh.net/v1/AUTH_2aaacef8e88a4ca897bb93b984bd04dd/oco2//datasets/oco-2/inventory/CO2_emissions_Edgar_2016_v3.csv',\n",
       " 'https://storage.gra.cloud.ovh.net/v1/AUTH_2aaacef8e88a4ca897bb93b984bd04dd/oco2//datasets/oco-2/inventory/CO2_emissions_Edgar_2017_v3.csv',\n",
       " 'https://storage.gra.cloud.ovh.net/v1/AUTH_2aaacef8e88a4ca897bb93b984bd04dd/oco2//datasets/oco-2/inventory/CO2_emissions_Edgar_2018_v3.csv',\n",
       " 'https://storage.gra.cloud.ovh.net/v1/AUTH_2aaacef8e88a4ca897bb93b984bd04dd/oco2//datasets/oco-2/inventory/CO2_emissions_centrale.csv',\n",
       " 'https://storage.gra.cloud.ovh.net/v1/AUTH_2aaacef8e88a4ca897bb93b984bd04dd/oco2//datasets/oco-2/inventory/CO2_emissions_coal_plant.csv',\n",
       " 'https://storage.gra.cloud.ovh.net/v1/AUTH_2aaacef8e88a4ca897bb93b984bd04dd/oco2//datasets/oco-2/inventory/CO2_emissions_peaks_merged_2016.csv',\n",
       " 'https://storage.gra.cloud.ovh.net/v1/AUTH_2aaacef8e88a4ca897bb93b984bd04dd/oco2//datasets/oco-2/inventory/CO2_emissions_peaks_merged_2017.csv',\n",
       " 'https://storage.gra.cloud.ovh.net/v1/AUTH_2aaacef8e88a4ca897bb93b984bd04dd/oco2//datasets/oco-2/inventory/CO2_emissions_peaks_merged_2018.csv',\n",
       " 'https://storage.gra.cloud.ovh.net/v1/AUTH_2aaacef8e88a4ca897bb93b984bd04dd/oco2//datasets/oco-2/inventory/CO2_emissions_peaks_merged_2019.csv',\n",
       " 'https://storage.gra.cloud.ovh.net/v1/AUTH_2aaacef8e88a4ca897bb93b984bd04dd/oco2//datasets/oco-2/inventory/cities_v1.csv',\n",
       " 'https://storage.gra.cloud.ovh.net/v1/AUTH_2aaacef8e88a4ca897bb93b984bd04dd/oco2//datasets/oco-2/inventory/cities_v2.csv']"
      ]
     },
     "execution_count": 13,
     "metadata": {},
     "output_type": "execute_result"
    }
   ],
   "source": [
    "datasets.get_files_urls(prefix='/datasets/oco-2/inventory/')"
   ]
  },
  {
   "cell_type": "markdown",
   "metadata": {},
   "source": [
    "### Get files objects"
   ]
  },
  {
   "cell_type": "code",
   "execution_count": 14,
   "metadata": {},
   "outputs": [
    {
     "name": "stdout",
     "output_type": "stream",
     "text": [
      "Number of file : 68\n",
      "/datasets/oco-2/peaks-detected/result_for_oco2_1504.csv\t390108\t2020-05-29T06:23:55.127490\n"
     ]
    }
   ],
   "source": [
    "objects = datasets.get_container('oco2', prefix='/datasets/oco-2/peaks-detected/')\n",
    "print(f'Number of file : {len(objects)}')\n",
    "for data in objects:\n",
    "    if 'oco2_1504' in data['name']:\n",
    "        print('{0}\\t{1}\\t{2}'.format(data['name'], data['bytes'], data['last_modified']))\n"
   ]
  },
  {
   "cell_type": "markdown",
   "metadata": {},
   "source": [
    "## Upload files"
   ]
  },
  {
   "cell_type": "code",
   "execution_count": 15,
   "metadata": {},
   "outputs": [
    {
     "data": {
      "text/html": [
       "\n",
       "<style>\n",
       "    /* Turns off some styling */\n",
       "    progress {\n",
       "        /* gets rid of default border in Firefox and Opera. */\n",
       "        border: none;\n",
       "        /* Needs to be in here for Safari polyfill so background images work as expected. */\n",
       "        background-size: auto;\n",
       "    }\n",
       "    .progress-bar-interrupted, .progress-bar-interrupted::-webkit-progress-bar {\n",
       "        background: #F44336;\n",
       "    }\n",
       "</style>\n"
      ],
      "text/plain": [
       "<IPython.core.display.HTML object>"
      ]
     },
     "metadata": {},
     "output_type": "display_data"
    },
    {
     "data": {
      "text/html": [
       "\n",
       "    <div>\n",
       "      <progress value='1' class='' max='1' style='width:300px; height:20px; vertical-align: middle;'></progress>\n",
       "      100.00% [1/1 00:00<00:00]\n",
       "    </div>\n",
       "    \n",
       "\n",
       "\n",
       "    <div>\n",
       "      <progress value='1' class='' max='1' style='width:300px; height:20px; vertical-align: middle;'></progress>\n",
       "      100.00% [1/1 00:00<00:00]\n",
       "    </div>\n",
       "    "
      ],
      "text/plain": [
       "<IPython.core.display.HTML object>"
      ]
     },
     "metadata": {},
     "output_type": "display_data"
    }
   ],
   "source": [
    "datasets.upload(mask='../*.md', prefix=\"/Trash/\",content_type='text/text')\n",
    "# datasets.upload(\"/media/data-nvme/dev/datasets/OCO2/csv/*.csv\", \"/datasets/oco-2/peaks-detected/\", 'text/csv')\n",
    "# datasets.upload(\"/media/data-nvme/dev/datasets/OCO2/csv/*.json\", \"/datasets/oco-2/peaks-detected-details/\", 'application/json')"
   ]
  },
  {
   "cell_type": "code",
   "execution_count": 16,
   "metadata": {},
   "outputs": [
    {
     "data": {
      "text/plain": [
       "['https://storage.gra.cloud.ovh.net/v1/AUTH_2aaacef8e88a4ca897bb93b984bd04dd/oco2//Trash/README.md']"
      ]
     },
     "execution_count": 16,
     "metadata": {},
     "output_type": "execute_result"
    }
   ],
   "source": [
    "datasets.get_files_urls('/Trash/')"
   ]
  },
  {
   "cell_type": "markdown",
   "metadata": {},
   "source": [
    "### Upload HTML\n",
    "Setting content type to 'text/html' allow the file to be display by browsers, without downloading."
   ]
  },
  {
   "cell_type": "code",
   "execution_count": 17,
   "metadata": {},
   "outputs": [],
   "source": [
    "#datasets.upload(\"chemin/peaks_and_sources.html\", \"/Trash/\", 'text/html')"
   ]
  },
  {
   "cell_type": "markdown",
   "metadata": {},
   "source": [
    "## Delete files"
   ]
  },
  {
   "cell_type": "code",
   "execution_count": 18,
   "metadata": {},
   "outputs": [
    {
     "data": {
      "text/html": [
       "\n",
       "<style>\n",
       "    /* Turns off some styling */\n",
       "    progress {\n",
       "        /* gets rid of default border in Firefox and Opera. */\n",
       "        border: none;\n",
       "        /* Needs to be in here for Safari polyfill so background images work as expected. */\n",
       "        background-size: auto;\n",
       "    }\n",
       "    .progress-bar-interrupted, .progress-bar-interrupted::-webkit-progress-bar {\n",
       "        background: #F44336;\n",
       "    }\n",
       "</style>\n"
      ],
      "text/plain": [
       "<IPython.core.display.HTML object>"
      ]
     },
     "metadata": {},
     "output_type": "display_data"
    },
    {
     "data": {
      "text/html": [
       "\n",
       "    <div>\n",
       "      <progress value='1' class='' max='1' style='width:300px; height:20px; vertical-align: middle;'></progress>\n",
       "      100.00% [1/1 00:00<00:00]\n",
       "    </div>\n",
       "    \n",
       "\n",
       "\n",
       "    <div>\n",
       "      <progress value='1' class='' max='1' style='width:300px; height:20px; vertical-align: middle;'></progress>\n",
       "      100.00% [1/1 00:00<00:00]\n",
       "    </div>\n",
       "    "
      ],
      "text/plain": [
       "<IPython.core.display.HTML object>"
      ]
     },
     "metadata": {},
     "output_type": "display_data"
    }
   ],
   "source": [
    "datasets.delete_files(\"/Trash/\", dry_run=False)"
   ]
  },
  {
   "cell_type": "code",
   "execution_count": 19,
   "metadata": {},
   "outputs": [
    {
     "name": "stdout",
     "output_type": "stream",
     "text": [
      "Converted explorations.ipynb.\n",
      "Converted index.ipynb.\n",
      "Converted oco2peak-datasets-points-isoles.ipynb.\n",
      "Converted oco2peak-datasets.ipynb.\n",
      "Converted oco2peak-find_peak.ipynb.\n",
      "Converted oco2peak-map.ipynb.\n",
      "Converted oco2peak-mapfolium.ipynb.\n",
      "Converted oco2peak-nc4_convert.ipynb.\n",
      "Converted oco2peak-swift_utils.ipynb.\n",
      "Converted oco2peak_find_source.ipynb.\n"
     ]
    }
   ],
   "source": [
    "from nbdev.export import notebook2script\n",
    "notebook2script()"
   ]
  },
  {
   "cell_type": "markdown",
   "metadata": {},
   "source": [
    "### Upload inventory"
   ]
  },
  {
   "cell_type": "code",
   "execution_count": 20,
   "metadata": {},
   "outputs": [],
   "source": [
    "# config = './configs/config.json'\n",
    "# datasets = Datasets(config)\n",
    "# datasets.upload(mask='/media/NAS-Divers/dev/datasets/OCO2/drive-download-20200605T120938Z-001/*', prefix=\"/datasets/oco-2/inventory/\",content_type='text/csv')"
   ]
  },
  {
   "cell_type": "code",
   "execution_count": 21,
   "metadata": {},
   "outputs": [],
   "source": [
    "\n",
    "# # Re-upload raw NC4 data\n",
    "# datasets.delete_files(prefix=\"/datasets/oco-2/soudings/\", dry_run=False)\n",
    "# datasets.upload(\"/media/data-nvme/dev/datasets/OCO2/csv-v10/*.bz2\", \"/datasets/oco-2/soudings/\", 'text/csv')\n",
    "# datasets.upload(\"/media/data-nvme/dev/datasets/OCO2/csv-v9/*.bz2\", \"/datasets/oco-2/soudings/\", 'text/csv')\n",
    "\n",
    "# # Re-upload all peaks\n",
    "# datasets.delete_files(prefix=\"/datasets/oco-2/peaks-detected/\", dry_run=False)\n",
    "# datasets.upload(\"/media/data-nvme/dev/datasets/OCO2/peaks-v9/*.csv\", \"/datasets/oco-2/peaks-detected/\", 'text/csv')\n",
    "#datasets.upload(\"/media/data-nvme/dev/datasets/OCO2/peaks-v10/*.csv\", \"/datasets/oco-2/peaks-detected/\", 'text/csv')\n",
    "\n",
    "# # Re-upload all JSON\n",
    "# datasets.delete_files(prefix=\"/datasets/oco-2/peaks-detected-details/\", dry_run=False)\n",
    "# datasets.upload(\"/media/data-nvme/dev/datasets/OCO2/peaks-v9/*.json\", \"/datasets/oco-2/peaks-detected-details/\", 'application/json')\n",
    "# datasets.upload(\"/media/data-nvme/dev/datasets/OCO2/peaks-v10/*.json\", \"/datasets/oco-2/peaks-detected-details/\", 'application/json')\n"
   ]
  },
  {
   "cell_type": "code",
   "execution_count": 22,
   "metadata": {},
   "outputs": [
    {
     "data": {
      "text/plain": [
       "'https://storage.gra.cloud.ovh.net/v1/AUTH_2aaacef8e88a4ca897bb93b984bd04dd/oco2//datasets/oco-2/peaks-and-invent/peaks_and_invent_2004.csv'"
      ]
     },
     "execution_count": 22,
     "metadata": {},
     "output_type": "execute_result"
    }
   ],
   "source": [
    "datasets.get_files_urls(prefix=\"/datasets/oco-2/peaks-and-invent/\", pattern='peaks_and_invent')[-1]"
   ]
  },
  {
   "cell_type": "code",
   "execution_count": 29,
   "metadata": {},
   "outputs": [
    {
     "data": {
      "text/html": [
       "<div>\n",
       "<style scoped>\n",
       "    .dataframe tbody tr th:only-of-type {\n",
       "        vertical-align: middle;\n",
       "    }\n",
       "\n",
       "    .dataframe tbody tr th {\n",
       "        vertical-align: top;\n",
       "    }\n",
       "\n",
       "    .dataframe thead th {\n",
       "        text-align: right;\n",
       "    }\n",
       "</style>\n",
       "<table border=\"1\" class=\"dataframe\">\n",
       "  <thead>\n",
       "    <tr style=\"text-align: right;\">\n",
       "      <th></th>\n",
       "      <th>sounding_id</th>\n",
       "      <th>latitude</th>\n",
       "      <th>longitude</th>\n",
       "      <th>orbit</th>\n",
       "      <th>slope</th>\n",
       "      <th>intercept</th>\n",
       "      <th>amplitude</th>\n",
       "      <th>sigma</th>\n",
       "      <th>delta</th>\n",
       "      <th>R</th>\n",
       "      <th>...</th>\n",
       "      <th>index_Iron and steel</th>\n",
       "      <th>number_Iron and steel</th>\n",
       "      <th>index_Combustion</th>\n",
       "      <th>number_Combustion</th>\n",
       "      <th>index_Non ferrous metals</th>\n",
       "      <th>number_Non ferrous metals</th>\n",
       "      <th>index_Mineral oil</th>\n",
       "      <th>number_Mineral oil</th>\n",
       "      <th>index_Coke ovens</th>\n",
       "      <th>number_Coke ovens</th>\n",
       "    </tr>\n",
       "  </thead>\n",
       "  <tbody>\n",
       "    <tr>\n",
       "      <th>0</th>\n",
       "      <td>2020040111290507</td>\n",
       "      <td>-13.643787</td>\n",
       "      <td>33.758358</td>\n",
       "      <td>30584</td>\n",
       "      <td>-0.001627</td>\n",
       "      <td>408.070283</td>\n",
       "      <td>25.912804</td>\n",
       "      <td>9.713367</td>\n",
       "      <td>1.064277</td>\n",
       "      <td>0.638229</td>\n",
       "      <td>...</td>\n",
       "      <td>[nan]</td>\n",
       "      <td>0</td>\n",
       "      <td>[nan]</td>\n",
       "      <td>0</td>\n",
       "      <td>[nan]</td>\n",
       "      <td>0</td>\n",
       "      <td>[nan]</td>\n",
       "      <td>0</td>\n",
       "      <td>[nan]</td>\n",
       "      <td>0</td>\n",
       "    </tr>\n",
       "    <tr>\n",
       "      <th>1</th>\n",
       "      <td>2020040111290578</td>\n",
       "      <td>-13.606462</td>\n",
       "      <td>33.738327</td>\n",
       "      <td>30584</td>\n",
       "      <td>-0.001689</td>\n",
       "      <td>408.080266</td>\n",
       "      <td>22.825359</td>\n",
       "      <td>8.362192</td>\n",
       "      <td>1.088949</td>\n",
       "      <td>0.588814</td>\n",
       "      <td>...</td>\n",
       "      <td>[nan]</td>\n",
       "      <td>0</td>\n",
       "      <td>[nan]</td>\n",
       "      <td>0</td>\n",
       "      <td>[nan]</td>\n",
       "      <td>0</td>\n",
       "      <td>[nan]</td>\n",
       "      <td>0</td>\n",
       "      <td>[nan]</td>\n",
       "      <td>0</td>\n",
       "    </tr>\n",
       "  </tbody>\n",
       "</table>\n",
       "<p>2 rows × 48 columns</p>\n",
       "</div>"
      ],
      "text/plain": [
       "        sounding_id   latitude  longitude  orbit     slope   intercept  \\\n",
       "0  2020040111290507 -13.643787  33.758358  30584 -0.001627  408.070283   \n",
       "1  2020040111290578 -13.606462  33.738327  30584 -0.001689  408.080266   \n",
       "\n",
       "   amplitude     sigma     delta         R  ...  index_Iron and steel  \\\n",
       "0  25.912804  9.713367  1.064277  0.638229  ...                 [nan]   \n",
       "1  22.825359  8.362192  1.088949  0.588814  ...                 [nan]   \n",
       "\n",
       "   number_Iron and steel  index_Combustion  number_Combustion  \\\n",
       "0                      0             [nan]                  0   \n",
       "1                      0             [nan]                  0   \n",
       "\n",
       "   index_Non ferrous metals  number_Non ferrous metals index_Mineral oil  \\\n",
       "0                     [nan]                          0             [nan]   \n",
       "1                     [nan]                          0             [nan]   \n",
       "\n",
       "  number_Mineral oil index_Coke ovens  number_Coke ovens  \n",
       "0                  0            [nan]                  0  \n",
       "1                  0            [nan]                  0  \n",
       "\n",
       "[2 rows x 48 columns]"
      ]
     },
     "execution_count": 29,
     "metadata": {},
     "output_type": "execute_result"
    }
   ],
   "source": [
    "detected_peaks_url = \"https://storage.gra.cloud.ovh.net/v1/AUTH_2aaacef8e88a4ca897bb93b984bd04dd/oco2//datasets/oco-2/peaks-and-invent/peaks_and_invent_2004.csv\"\n",
    "df_oco2 = datasets.get_dataframe(detected_peaks_url)\n",
    "df_oco2.head(2)\n"
   ]
  },
  {
   "cell_type": "code",
   "execution_count": 24,
   "metadata": {},
   "outputs": [],
   "source": [
    "# df_oco2.info()"
   ]
  },
  {
   "cell_type": "code",
   "execution_count": 30,
   "metadata": {},
   "outputs": [],
   "source": [
    "sounding_id = \"2020040413511104\"\n",
    "peak_param_str = datasets.get_peak_param(sounding_id, df_oco2)\n",
    "sounding_id = 2020040413511104\n",
    "peak_param_int64 = datasets.get_peak_param(sounding_id, df_oco2)\n",
    "assert peak_param_str == peak_param_int64"
   ]
  },
  {
   "cell_type": "code",
   "execution_count": null,
   "metadata": {},
   "outputs": [],
   "source": []
  }
 ],
 "metadata": {
  "kernelspec": {
   "display_name": "Python 3 (ipykernel)",
   "language": "python",
   "name": "python3"
  },
  "language_info": {
   "codemirror_mode": {
    "name": "ipython",
    "version": 3
   },
   "file_extension": ".py",
   "mimetype": "text/x-python",
   "name": "python",
   "nbconvert_exporter": "python",
   "pygments_lexer": "ipython3",
   "version": "3.8.0"
  }
 },
 "nbformat": 4,
 "nbformat_minor": 4
}
