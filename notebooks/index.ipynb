{
 "cells": [
  {
   "cell_type": "code",
   "execution_count": null,
   "metadata": {},
   "outputs": [],
   "source": [
    "#hide\n",
    "from oco2peak.datasets import Datasets"
   ]
  },
  {
   "cell_type": "markdown",
   "metadata": {},
   "source": [
    "# OCO-2 CO<sub>2</sub> peak detector"
   ]
  },
  {
   "cell_type": "markdown",
   "metadata": {},
   "source": [
    "## General presentation\n",
    "\n",
    "> The goal of our project is to localize CO<sub>2</sub> emissions on Earth based on the the carbon concentration data measured by the OCO-2 Satellite from the NASA. \n",
    "\n",
    "We are working with:\n",
    "\n",
    "- Matthieu Porte, from IGN who submit the projet\n",
    "- Marie Heckmann, from the French Ministry of Ecology\n",
    "- Frederic Chevallier, from IPSL, one of the author of [Observing  carbon  dioxide  emissions over  China’s  cities with  the Orbiting Carbon Observatory-2](https://www.atmos-chem-phys-discuss.net/acp-2020-123/acp-2020-123.pdf)"
   ]
  },
  {
   "cell_type": "markdown",
   "metadata": {},
   "source": [
    "## What we have as input\n",
    "\n",
    "**1/ OCO-2 Satellite data**\n",
    "\n",
    "\n",
    "\n",
    "The OCO-2 Satellite (Orbiting Carbon Observatory) from the NASA orbits around Earth and measures the CO<sub>2</sub> concentration in the atmosphere.  \n",
    "\n",
    "Here is a visualisation of the CO<sub>2</sub> concentration mesured by the OCO-2 satellite in December 2019. \n",
    "![CO2_ concentration_OCO2](./assets/CO2_emissions_Edgar_2018.png)\n",
    "\n",
    "The satellite uses spectrometers to detect CO<sub>2</sub> in the atmosphere, as shown in the image bellow.\n",
    "\n",
    "![OCO2 spectrometers](https://upload.wikimedia.org/wikipedia/commons/thumb/4/44/Artist_rendition_of_the_CO2_column_that_OCO-2_will_see.jpg/321px-Artist_rendition_of_the_CO2_column_that_OCO-2_will_see.jpg)\n",
    "\n",
    "[source](https://commons.wikimedia.org/wiki/File:Artist_rendition_of_the_CO2_column_that_OCO-2_will_see.jpg)\n",
    "\n",
    "More info here : <https://oco.jpl.nasa.gov/instrument/>\n",
    "\n",
    "There are some limitations to the satellite measurement of the CO<sub>2</sub> concentration:\n",
    "- The satellite can not see through clouds or fog;\n",
    "- It does not work the same over ground or water;\n",
    "- The swath of the satellite is quite narrow (only 10km), as shown in the image bellow; \n",
    "- As the satellite orbits the Earth, the coverage is partial.\n",
    "\n",
    "![OCO2 spectrometers](https://scx1.b-cdn.net/csz/news/800/2020/3-nasasatellit.jpg)\n",
    "!!\n",
    "\n",
    "More info on the mission on <https://earth.esa.int/web/eoportal/satellite-missions/o/oco-2>.\n",
    "\n",
    "The NASA made a global CO<sub>2</sub> image (see bellow), however this is an extrapolation of the data, and not what the satellite really see.\n",
    "\n",
    "![NASA Global CO<sub>2</sub>](https://www.jpl.nasa.gov/images/oco/20090219/sinks-browse.jpg)\n",
    "\n",
    "**2/ Data on known CO<sub>2</sub> emissions**\n",
    "\n",
    "- The Emissions Database for Global Atmospheric Research (EDGAR) on CO<sub>2</sub> emissions. For the energy related sectors the activity data is mainly based on the energy balance statistics of IEA (2017), whereas the activity data for the agricultural sectors originates mainly from FAO (2018). The spatial allocation of emissions on the grid is made based on spatial proxy datasets with the location of energy and manufacturing facilities, road networks, shipping routes, human and animal population density and agricultural land use, that vary over time. \n",
    "Source : https://edgar.jrc.ec.europa.eu/overview.php?v=50_GHG\n",
    "\n",
    "![CO2_emissions_Edgar_2018](https://user-images.githubusercontent.com/61688979/79775474-9637d180-8334-11ea-9712-274a11356aea.PNG)\n",
    "\n",
    "- The World Resource Institute provides a list of power plants producing electricity based on different primary energies. We filtered this list to keep only the fossil primary energies (gas, oil and coal), that release CO<sub>2</sub> during their combustion.\n",
    "Source: http://datasets.wri.org/dataset/globalpowerplantdatabase\n",
    "\n",
    "![power_plant_emissions_2017](./assets/power_plant_emissions_2017.png)\n",
    "\n",
    "- Other sources of CO<sub>2</sub> emissions are under study. "
   ]
  },
  {
   "cell_type": "markdown",
   "metadata": {},
   "source": [
    "## What we want to do\n",
    "\n",
    "\n",
    "First approach: peak detection from O-CO2 & inference from inventory data [in progress]\n",
    "\n",
    "- Detect peak in O-CO2 data, 2 step methodology\n",
    "\t- Step 1: Identification of local ‘peaks’ through Gaussian fits (curve_fit) ; Taking into account intrinsic complexity of O-CO2 data, notably: High variance across ‘background’ CO<sub>2</sub> level across the globe, narrowness & incompleteness of plumes observations (due to clouds / fogs / …), ...\n",
    "\t- Step 2: Elimination of irrelevant peaks to keep only ‘true’ anomalies: So far, through a quite drastic & manual methodology, with rules to keep only clear Gaussians ; Objective to improve this part with algo-based anomaly detection \n",
    "\n",
    "- Aggregate known sources of CO<sub>2</sub> from inventory data: Using EDGAR & World Resource Institute\n",
    "\n",
    "- Find nearest inventory from peak position, using the wind vector.\n",
    "\n",
    "- Compare peak to known sources emissions and confirm them\n",
    "\n",
    "Second approach: supervised model to learn to detect peaks from inventory data [not started]\n",
    "- Use areas where inventory data are complete to let a supervised model learn peaks in OCO2 data\n",
    "\n",
    "On top: dynamic visualization of data [in progress]\n",
    "- Display the result on a comprehensive map, crossing satellite & inventory data\n",
    "\n",
    "## What we have achieved\n",
    "\n",
    " - We gather data from EDGAR and World Resource Institute and plotted them on a map.\n",
    " - We get raw satellite data from NASA and merge the to monthly dataset with the data we need.\n",
    " - We compute a Gaussian curve fit over each orbit and save the results.\n",
    " - We plot the results and the know emission on a map.\n",
    "\n",
    "Here is a sample of a peak witth the gaussian found :\n",
    "![Gaussian Peak](./assets/gaussian_peak.png)\n",
    "\n",
    "And the global map :\n",
    "![World CO2_peaks](./assets/map-dark.png)\n",
    "![CO2_peak over Spain](./assets/map-dark-orbit.png)\n",
    "\n",
    "\n",
    "## We need help\n",
    "\n",
    "- Better peak detection: So far, we are fitting Gaussian curves to detect relevant peaks. 2 issues:\n",
    "    - We use SciKit Learn curve_fit. Do you know a better algorithme or how to tune parameters of curve_fit ?\n",
    "    - We are looking at other methodologies to detect anomalies (our 'peaks') in the concentrations  - any idea? \n",
    "- Wind modeling to estimate emission from detected concentration - any idea? (inverting the Gaussian plume model)\n",
    "- Interactive dasboard to share our work on the web (Streamlit ?)"
   ]
  },
  {
   "cell_type": "markdown",
   "metadata": {},
   "source": [
    "## Git directories structure\n",
    "* /dataset contains a sample of OCO-2 data and inventory data; _**Important**_ : The whole datas are in a shared Open Stack Storage, not in the Github.\n",
    "* /notebooks contains the notebooks made by the team;\n",
    "* /pipeline contains the scripts used to process the data needed.\n",
    "* /oco2peak containts the modules\n",
    "\n",
    "**Warning** : The project use NBDev so the doc (including this README !) and the modules ar generated from Notebooks. So you have only to edit the Notebooks.\n",
    "\n",
    "## Open Stack directories structure\n",
    "\n",
    "We do not store the original OCO-2 files from NASA.\n",
    "\n",
    "* /emissions/ contains all the potential source of emissions : factories, power plants, cities...\n",
    "* /soudings/ contains CSV of the raw features extracted from NASA NC4 files.\n",
    "* /peaks-detected/ contains all the peak found in the satellite orbit datas.\n",
    "* /peaks-detected-details/ contains one JSON file of the full data for all detected peak"
   ]
  },
  {
   "cell_type": "markdown",
   "metadata": {},
   "source": [
    "## Install\n",
    "### Docker\n",
    "\n",
    "`\n",
    "docker-compose build && docker-compose up\n",
    "`\n",
    "\n",
    "Front on http://localhost:7901\n",
    "Jupyter Lab on http://localhost:7988\n",
    "\n",
    "### Python Package Only\n",
    "If you are interested to use only our modules for your own project :"
   ]
  },
  {
   "cell_type": "markdown",
   "metadata": {},
   "source": [
    "`pip install oco2peak`"
   ]
  },
  {
   "cell_type": "markdown",
   "metadata": {},
   "source": [
    "## How to use"
   ]
  },
  {
   "cell_type": "markdown",
   "metadata": {},
   "source": [
    "Fill me in please! Don't forget code examples:"
   ]
  },
  {
   "cell_type": "markdown",
   "metadata": {},
   "source": [
    "### Dataset access"
   ]
  },
  {
   "cell_type": "code",
   "execution_count": null,
   "metadata": {},
   "outputs": [
    {
     "data": {
      "text/plain": [
       "[]"
      ]
     },
     "execution_count": null,
     "metadata": {},
     "output_type": "execute_result"
    }
   ],
   "source": [
    "config = '../configs/config.json'\n",
    "datasets = Datasets(config)\n",
    "datasets.get_files_urls('result_for_oco2_1808')"
   ]
  },
  {
   "cell_type": "markdown",
   "metadata": {},
   "source": [
    "### Upload a file"
   ]
  },
  {
   "cell_type": "code",
   "execution_count": null,
   "metadata": {},
   "outputs": [
    {
     "data": {
      "text/html": [
       "\n",
       "    <div>\n",
       "        <style>\n",
       "            /* Turns off some styling */\n",
       "            progress {\n",
       "                /* gets rid of default border in Firefox and Opera. */\n",
       "                border: none;\n",
       "                /* Needs to be in here for Safari polyfill so background images work as expected. */\n",
       "                background-size: auto;\n",
       "            }\n",
       "            .progress-bar-interrupted, .progress-bar-interrupted::-webkit-progress-bar {\n",
       "                background: #F44336;\n",
       "            }\n",
       "        </style>\n",
       "      <progress value='1' class='' max='1', style='width:300px; height:20px; vertical-align: middle;'></progress>\n",
       "      100.00% [1/1 00:00<00:00]\n",
       "    </div>\n",
       "    \n",
       "\n",
       "\n",
       "    <div>\n",
       "        <style>\n",
       "            /* Turns off some styling */\n",
       "            progress {\n",
       "                /* gets rid of default border in Firefox and Opera. */\n",
       "                border: none;\n",
       "                /* Needs to be in here for Safari polyfill so background images work as expected. */\n",
       "                background-size: auto;\n",
       "            }\n",
       "            .progress-bar-interrupted, .progress-bar-interrupted::-webkit-progress-bar {\n",
       "                background: #F44336;\n",
       "            }\n",
       "        </style>\n",
       "      <progress value='3' class='' max='3', style='width:300px; height:20px; vertical-align: middle;'></progress>\n",
       "      100.00% [3/3 00:01<00:00]\n",
       "    </div>\n",
       "    "
      ],
      "text/plain": [
       "<IPython.core.display.HTML object>"
      ]
     },
     "metadata": {},
     "output_type": "display_data"
    }
   ],
   "source": [
    "datasets.upload(mask='../*.md', prefix=\"/Trash/\",content_type='text/text')"
   ]
  }
 ],
 "metadata": {
  "kernelspec": {
   "display_name": "Python 3",
   "language": "python",
   "name": "python3"
  }
 },
 "nbformat": 4,
 "nbformat_minor": 4
}
